{
 "cells": [
  {
   "cell_type": "markdown",
   "id": "45b9fc67",
   "metadata": {},
   "source": [
    "# Fundamentals of python Programming"
   ]
  },
  {
   "cell_type": "markdown",
   "id": "9e5f218f",
   "metadata": {},
   "source": [
    "## Selection statements"
   ]
  },
  {
   "cell_type": "markdown",
   "id": "59af50ff",
   "metadata": {},
   "source": [
    "### if statement"
   ]
  },
  {
   "cell_type": "code",
   "execution_count": 1,
   "id": "719f9bbf",
   "metadata": {},
   "outputs": [
    {
     "name": "stdout",
     "output_type": "stream",
     "text": [
      "Equal 5\n"
     ]
    }
   ],
   "source": [
    "x = 5\n",
    "if (x==5):\n",
    "    print('Equal 5')\n",
    "elif x>5:\n",
    "    print('Greater than 5')\n",
    "elif x<5:\n",
    "    ('Less than 5')"
   ]
  },
  {
   "cell_type": "markdown",
   "id": "ef57f173",
   "metadata": {},
   "source": [
    "### for loop"
   ]
  },
  {
   "cell_type": "code",
   "execution_count": 6,
   "id": "96ca0da3",
   "metadata": {},
   "outputs": [
    {
     "name": "stdout",
     "output_type": "stream",
     "text": [
      "3\n",
      "4\n",
      "5\n",
      "6\n",
      "7\n",
      "8\n",
      "9\n"
     ]
    }
   ],
   "source": [
    "for a in range (3,10):\n",
    "    print(a)"
   ]
  },
  {
   "cell_type": "markdown",
   "id": "f343b999",
   "metadata": {},
   "source": [
    "### while loop"
   ]
  },
  {
   "cell_type": "code",
   "execution_count": 8,
   "id": "c3daec64",
   "metadata": {},
   "outputs": [
    {
     "name": "stdout",
     "output_type": "stream",
     "text": [
      "Your ticket number is  8\n",
      "Your ticket number is  7\n",
      "Your ticket number is  6\n",
      "Your ticket number is  5\n",
      "Your ticket number is  4\n"
     ]
    }
   ],
   "source": [
    "ticket = 8\n",
    "while ticket >3:\n",
    "    print (\"Your ticket number is \",ticket)\n",
    "    ticket -=1"
   ]
  },
  {
   "cell_type": "markdown",
   "id": "6935e82d",
   "metadata": {},
   "source": [
    "### Break, Continue, Pass"
   ]
  },
  {
   "cell_type": "code",
   "execution_count": 10,
   "id": "a5f0897b",
   "metadata": {},
   "outputs": [
    {
     "name": "stdout",
     "output_type": "stream",
     "text": [
      "p\n",
      "y\n",
      "t\n",
      "h\n"
     ]
    }
   ],
   "source": [
    "for letter in 'python3':\n",
    "    if letter == 'o':\n",
    "        break\n",
    "    print(letter)"
   ]
  },
  {
   "cell_type": "code",
   "execution_count": 11,
   "id": "1b25e200",
   "metadata": {},
   "outputs": [
    {
     "name": "stdout",
     "output_type": "stream",
     "text": [
      "1\n",
      "3\n",
      "5\n",
      "End of Loop\n"
     ]
    }
   ],
   "source": [
    "a =0\n",
    "while a<=5:\n",
    "    a=a+1\n",
    "    if a%2==0:\n",
    "        continue\n",
    "    print(a)\n",
    "print(\"End of Loop\")"
   ]
  },
  {
   "cell_type": "code",
   "execution_count": 14,
   "id": "85240c7b",
   "metadata": {},
   "outputs": [
    {
     "name": "stdout",
     "output_type": "stream",
     "text": [
      "1\n",
      "2\n",
      "Pass when value is  3\n",
      "3\n",
      "4\n",
      "5\n",
      "6\n",
      "7\n",
      "8\n",
      "9\n"
     ]
    }
   ],
   "source": [
    "for i in [1,2,3,4,5,6,7,8,9]:\n",
    "    if i==3:\n",
    "        pass\n",
    "        print(\"Pass when value is \", i)\n",
    "    print(i)"
   ]
  },
  {
   "cell_type": "markdown",
   "id": "cdd99704",
   "metadata": {},
   "source": [
    "### try and except"
   ]
  },
  {
   "cell_type": "code",
   "execution_count": 17,
   "id": "2cf1df50",
   "metadata": {},
   "outputs": [
    {
     "name": "stdout",
     "output_type": "stream",
     "text": [
      "First Try: -1 \\Incorrect entry\n"
     ]
    }
   ],
   "source": [
    "astr = 'Robert Kigobe'\n",
    "errorsms=''\n",
    "try:\n",
    "    istr = int(astr)  #error\n",
    "except:\n",
    "    istr=-1\n",
    "    errorsms='\\Incorrect entry'\n",
    "print (\"First Try:\",istr,errorsms)"
   ]
  }
 ],
 "metadata": {
  "kernelspec": {
   "display_name": "Python 3",
   "language": "python",
   "name": "python3"
  },
  "language_info": {
   "codemirror_mode": {
    "name": "ipython",
    "version": 3
   },
   "file_extension": ".py",
   "mimetype": "text/x-python",
   "name": "python",
   "nbconvert_exporter": "python",
   "pygments_lexer": "ipython3",
   "version": "3.8.8"
  }
 },
 "nbformat": 4,
 "nbformat_minor": 5
}
