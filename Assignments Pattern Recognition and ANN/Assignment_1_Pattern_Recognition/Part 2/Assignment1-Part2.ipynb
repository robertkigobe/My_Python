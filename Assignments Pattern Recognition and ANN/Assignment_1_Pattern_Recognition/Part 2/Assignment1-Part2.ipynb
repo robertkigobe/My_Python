{
 "cells": [
  {
   "cell_type": "markdown",
   "id": "3521f406",
   "metadata": {},
   "source": [
    "# CSC 732 Pattern Recognition and Neural Networks\n",
    "Instructor: Dr. Natacha Gueorguieva\n",
    "\n",
    "Contributors:\n",
    "\n",
    "Robert Kigobe,\n",
    "Aayushi Chirag Thakkar,\n",
    "Nikitha Pulluri\n",
    "\n",
    "Date: 09-september-2021\n",
    "\n",
    "QN: Part 2"
   ]
  },
  {
   "cell_type": "markdown",
   "id": "761a8bc7",
   "metadata": {},
   "source": [
    "# Load Libraries"
   ]
  },
  {
   "cell_type": "code",
   "execution_count": 1,
   "id": "c2224450",
   "metadata": {},
   "outputs": [],
   "source": [
    "from pandas import read_csv\n",
    "from pandas import set_option"
   ]
  },
  {
   "cell_type": "markdown",
   "id": "5e2e6c46",
   "metadata": {},
   "source": [
    "## Load Data"
   ]
  },
  {
   "cell_type": "code",
   "execution_count": 2,
   "id": "91f2ca95",
   "metadata": {},
   "outputs": [
    {
     "data": {
      "text/html": [
       "<div>\n",
       "<style scoped>\n",
       "    .dataframe tbody tr th:only-of-type {\n",
       "        vertical-align: middle;\n",
       "    }\n",
       "\n",
       "    .dataframe tbody tr th {\n",
       "        vertical-align: top;\n",
       "    }\n",
       "\n",
       "    .dataframe thead th {\n",
       "        text-align: right;\n",
       "    }\n",
       "</style>\n",
       "<table border=\"1\" class=\"dataframe\">\n",
       "  <thead>\n",
       "    <tr style=\"text-align: right;\">\n",
       "      <th></th>\n",
       "      <th>area</th>\n",
       "      <th>perimeter</th>\n",
       "      <th>compactness</th>\n",
       "      <th>kernel length</th>\n",
       "      <th>kernel width</th>\n",
       "      <th>asymmetry coefficient</th>\n",
       "      <th>kernel groove Length</th>\n",
       "    </tr>\n",
       "  </thead>\n",
       "  <tbody>\n",
       "    <tr>\n",
       "      <th>0</th>\n",
       "      <td>15.26</td>\n",
       "      <td>14.84</td>\n",
       "      <td>0.8710</td>\n",
       "      <td>5.763</td>\n",
       "      <td>3.312</td>\n",
       "      <td>2.221</td>\n",
       "      <td>5.220</td>\n",
       "    </tr>\n",
       "    <tr>\n",
       "      <th>1</th>\n",
       "      <td>14.88</td>\n",
       "      <td>14.57</td>\n",
       "      <td>0.8811</td>\n",
       "      <td>5.554</td>\n",
       "      <td>3.333</td>\n",
       "      <td>1.018</td>\n",
       "      <td>4.956</td>\n",
       "    </tr>\n",
       "    <tr>\n",
       "      <th>2</th>\n",
       "      <td>14.29</td>\n",
       "      <td>14.09</td>\n",
       "      <td>0.9050</td>\n",
       "      <td>5.291</td>\n",
       "      <td>3.337</td>\n",
       "      <td>2.699</td>\n",
       "      <td>4.825</td>\n",
       "    </tr>\n",
       "    <tr>\n",
       "      <th>3</th>\n",
       "      <td>13.84</td>\n",
       "      <td>13.94</td>\n",
       "      <td>0.8955</td>\n",
       "      <td>5.324</td>\n",
       "      <td>3.379</td>\n",
       "      <td>2.259</td>\n",
       "      <td>4.805</td>\n",
       "    </tr>\n",
       "    <tr>\n",
       "      <th>4</th>\n",
       "      <td>16.14</td>\n",
       "      <td>14.99</td>\n",
       "      <td>0.9034</td>\n",
       "      <td>5.658</td>\n",
       "      <td>3.562</td>\n",
       "      <td>1.355</td>\n",
       "      <td>5.175</td>\n",
       "    </tr>\n",
       "    <tr>\n",
       "      <th>...</th>\n",
       "      <td>...</td>\n",
       "      <td>...</td>\n",
       "      <td>...</td>\n",
       "      <td>...</td>\n",
       "      <td>...</td>\n",
       "      <td>...</td>\n",
       "      <td>...</td>\n",
       "    </tr>\n",
       "    <tr>\n",
       "      <th>205</th>\n",
       "      <td>12.19</td>\n",
       "      <td>13.20</td>\n",
       "      <td>0.8783</td>\n",
       "      <td>5.137</td>\n",
       "      <td>2.981</td>\n",
       "      <td>3.631</td>\n",
       "      <td>4.870</td>\n",
       "    </tr>\n",
       "    <tr>\n",
       "      <th>206</th>\n",
       "      <td>11.23</td>\n",
       "      <td>12.88</td>\n",
       "      <td>0.8511</td>\n",
       "      <td>5.140</td>\n",
       "      <td>2.795</td>\n",
       "      <td>4.325</td>\n",
       "      <td>5.003</td>\n",
       "    </tr>\n",
       "    <tr>\n",
       "      <th>207</th>\n",
       "      <td>13.20</td>\n",
       "      <td>13.66</td>\n",
       "      <td>0.8883</td>\n",
       "      <td>5.236</td>\n",
       "      <td>3.232</td>\n",
       "      <td>8.315</td>\n",
       "      <td>5.056</td>\n",
       "    </tr>\n",
       "    <tr>\n",
       "      <th>208</th>\n",
       "      <td>11.84</td>\n",
       "      <td>13.21</td>\n",
       "      <td>0.8521</td>\n",
       "      <td>5.175</td>\n",
       "      <td>2.836</td>\n",
       "      <td>3.598</td>\n",
       "      <td>5.044</td>\n",
       "    </tr>\n",
       "    <tr>\n",
       "      <th>209</th>\n",
       "      <td>12.30</td>\n",
       "      <td>13.34</td>\n",
       "      <td>0.8684</td>\n",
       "      <td>5.243</td>\n",
       "      <td>2.974</td>\n",
       "      <td>5.637</td>\n",
       "      <td>5.063</td>\n",
       "    </tr>\n",
       "  </tbody>\n",
       "</table>\n",
       "<p>210 rows × 7 columns</p>\n",
       "</div>"
      ],
      "text/plain": [
       "      area  perimeter  compactness  kernel length  kernel width  \\\n",
       "0    15.26      14.84       0.8710          5.763         3.312   \n",
       "1    14.88      14.57       0.8811          5.554         3.333   \n",
       "2    14.29      14.09       0.9050          5.291         3.337   \n",
       "3    13.84      13.94       0.8955          5.324         3.379   \n",
       "4    16.14      14.99       0.9034          5.658         3.562   \n",
       "..     ...        ...          ...            ...           ...   \n",
       "205  12.19      13.20       0.8783          5.137         2.981   \n",
       "206  11.23      12.88       0.8511          5.140         2.795   \n",
       "207  13.20      13.66       0.8883          5.236         3.232   \n",
       "208  11.84      13.21       0.8521          5.175         2.836   \n",
       "209  12.30      13.34       0.8684          5.243         2.974   \n",
       "\n",
       "     asymmetry coefficient  kernel groove Length  \n",
       "0                    2.221                 5.220  \n",
       "1                    1.018                 4.956  \n",
       "2                    2.699                 4.825  \n",
       "3                    2.259                 4.805  \n",
       "4                    1.355                 5.175  \n",
       "..                     ...                   ...  \n",
       "205                  3.631                 4.870  \n",
       "206                  4.325                 5.003  \n",
       "207                  8.315                 5.056  \n",
       "208                  3.598                 5.044  \n",
       "209                  5.637                 5.063  \n",
       "\n",
       "[210 rows x 7 columns]"
      ]
     },
     "execution_count": 2,
     "metadata": {},
     "output_type": "execute_result"
    }
   ],
   "source": [
    "#Import the dataset\n",
    "dataset = read_csv ('seeds_dataset.csv', header=None) \n",
    "#Setup the column names\n",
    "\n",
    "names= ['area','perimeter','compactness', 'kernel length',   'kernel width',  'asymmetry coefficient', 'kernel groove Length']\n",
    "dataset.columns = names\n",
    "dataset"
   ]
  },
  {
   "cell_type": "code",
   "execution_count": 3,
   "id": "d67b7ae7",
   "metadata": {},
   "outputs": [
    {
     "data": {
      "text/html": [
       "<div>\n",
       "<style scoped>\n",
       "    .dataframe tbody tr th:only-of-type {\n",
       "        vertical-align: middle;\n",
       "    }\n",
       "\n",
       "    .dataframe tbody tr th {\n",
       "        vertical-align: top;\n",
       "    }\n",
       "\n",
       "    .dataframe thead th {\n",
       "        text-align: right;\n",
       "    }\n",
       "</style>\n",
       "<table border=\"1\" class=\"dataframe\">\n",
       "  <thead>\n",
       "    <tr style=\"text-align: right;\">\n",
       "      <th></th>\n",
       "      <th>area</th>\n",
       "      <th>perimeter</th>\n",
       "      <th>compactness</th>\n",
       "      <th>kernel length</th>\n",
       "      <th>kernel width</th>\n",
       "      <th>asymmetry coefficient</th>\n",
       "      <th>kernel groove Length</th>\n",
       "    </tr>\n",
       "  </thead>\n",
       "  <tbody>\n",
       "    <tr>\n",
       "      <th>count</th>\n",
       "      <td>210.000000</td>\n",
       "      <td>210.000000</td>\n",
       "      <td>210.000000</td>\n",
       "      <td>210.000000</td>\n",
       "      <td>210.000000</td>\n",
       "      <td>210.000000</td>\n",
       "      <td>210.000000</td>\n",
       "    </tr>\n",
       "    <tr>\n",
       "      <th>mean</th>\n",
       "      <td>14.847524</td>\n",
       "      <td>14.559286</td>\n",
       "      <td>0.870999</td>\n",
       "      <td>5.628533</td>\n",
       "      <td>3.258605</td>\n",
       "      <td>3.700201</td>\n",
       "      <td>5.408071</td>\n",
       "    </tr>\n",
       "    <tr>\n",
       "      <th>std</th>\n",
       "      <td>2.909699</td>\n",
       "      <td>1.305959</td>\n",
       "      <td>0.023629</td>\n",
       "      <td>0.443063</td>\n",
       "      <td>0.377714</td>\n",
       "      <td>1.503557</td>\n",
       "      <td>0.491480</td>\n",
       "    </tr>\n",
       "    <tr>\n",
       "      <th>min</th>\n",
       "      <td>10.590000</td>\n",
       "      <td>12.410000</td>\n",
       "      <td>0.808100</td>\n",
       "      <td>4.899000</td>\n",
       "      <td>2.630000</td>\n",
       "      <td>0.765100</td>\n",
       "      <td>4.519000</td>\n",
       "    </tr>\n",
       "    <tr>\n",
       "      <th>25%</th>\n",
       "      <td>12.270000</td>\n",
       "      <td>13.450000</td>\n",
       "      <td>0.856900</td>\n",
       "      <td>5.262250</td>\n",
       "      <td>2.944000</td>\n",
       "      <td>2.561500</td>\n",
       "      <td>5.045000</td>\n",
       "    </tr>\n",
       "    <tr>\n",
       "      <th>50%</th>\n",
       "      <td>14.355000</td>\n",
       "      <td>14.320000</td>\n",
       "      <td>0.873450</td>\n",
       "      <td>5.523500</td>\n",
       "      <td>3.237000</td>\n",
       "      <td>3.599000</td>\n",
       "      <td>5.223000</td>\n",
       "    </tr>\n",
       "    <tr>\n",
       "      <th>75%</th>\n",
       "      <td>17.305000</td>\n",
       "      <td>15.715000</td>\n",
       "      <td>0.887775</td>\n",
       "      <td>5.979750</td>\n",
       "      <td>3.561750</td>\n",
       "      <td>4.768750</td>\n",
       "      <td>5.877000</td>\n",
       "    </tr>\n",
       "    <tr>\n",
       "      <th>max</th>\n",
       "      <td>21.180000</td>\n",
       "      <td>17.250000</td>\n",
       "      <td>0.918300</td>\n",
       "      <td>6.675000</td>\n",
       "      <td>4.033000</td>\n",
       "      <td>8.456000</td>\n",
       "      <td>6.550000</td>\n",
       "    </tr>\n",
       "  </tbody>\n",
       "</table>\n",
       "</div>"
      ],
      "text/plain": [
       "             area   perimeter  compactness  kernel length  kernel width  \\\n",
       "count  210.000000  210.000000   210.000000     210.000000    210.000000   \n",
       "mean    14.847524   14.559286     0.870999       5.628533      3.258605   \n",
       "std      2.909699    1.305959     0.023629       0.443063      0.377714   \n",
       "min     10.590000   12.410000     0.808100       4.899000      2.630000   \n",
       "25%     12.270000   13.450000     0.856900       5.262250      2.944000   \n",
       "50%     14.355000   14.320000     0.873450       5.523500      3.237000   \n",
       "75%     17.305000   15.715000     0.887775       5.979750      3.561750   \n",
       "max     21.180000   17.250000     0.918300       6.675000      4.033000   \n",
       "\n",
       "       asymmetry coefficient  kernel groove Length  \n",
       "count             210.000000            210.000000  \n",
       "mean                3.700201              5.408071  \n",
       "std                 1.503557              0.491480  \n",
       "min                 0.765100              4.519000  \n",
       "25%                 2.561500              5.045000  \n",
       "50%                 3.599000              5.223000  \n",
       "75%                 4.768750              5.877000  \n",
       "max                 8.456000              6.550000  "
      ]
     },
     "execution_count": 3,
     "metadata": {},
     "output_type": "execute_result"
    }
   ],
   "source": [
    "dataset.describe()"
   ]
  },
  {
   "cell_type": "markdown",
   "id": "004afae9",
   "metadata": {},
   "source": [
    "# Pairwise Pearson correlations"
   ]
  },
  {
   "cell_type": "markdown",
   "id": "98d46c98",
   "metadata": {},
   "source": [
    "## Method"
   ]
  },
  {
   "cell_type": "code",
   "execution_count": 4,
   "id": "eecf9e53",
   "metadata": {},
   "outputs": [
    {
     "name": "stdout",
     "output_type": "stream",
     "text": [
      "                        area  perimeter  compactness  kernel length  kernel width  \\\n",
      "area                   1.000      0.994        0.608          0.950         0.971   \n",
      "perimeter              0.994      1.000        0.529          0.972         0.945   \n",
      "compactness            0.608      0.529        1.000          0.368         0.762   \n",
      "kernel length          0.950      0.972        0.368          1.000         0.860   \n",
      "kernel width           0.971      0.945        0.762          0.860         1.000   \n",
      "asymmetry coefficient -0.230     -0.217       -0.331         -0.172        -0.258   \n",
      "kernel groove Length   0.864      0.891        0.227          0.933         0.749   \n",
      "\n",
      "                       asymmetry coefficient  kernel groove Length  \n",
      "area                                  -0.230                 0.864  \n",
      "perimeter                             -0.217                 0.891  \n",
      "compactness                           -0.331                 0.227  \n",
      "kernel length                         -0.172                 0.933  \n",
      "kernel width                          -0.258                 0.749  \n",
      "asymmetry coefficient                  1.000                -0.011  \n",
      "kernel groove Length                  -0.011                 1.000  \n"
     ]
    }
   ],
   "source": [
    "set_option('display.width', 100)\n",
    "set_option('precision', 3)\n",
    "correlations = dataset.corr(method='pearson')\n",
    "print(correlations)"
   ]
  },
  {
   "cell_type": "markdown",
   "id": "3e65c38b",
   "metadata": {},
   "source": [
    "## Analysis"
   ]
  },
  {
   "cell_type": "markdown",
   "id": "12ab2e96",
   "metadata": {},
   "source": [
    "Pearson correlation refers to the extent to which values are inter dependent. these values range between 1.0 and -1.0. \n",
    ",0.9 to 1 positive or negative indicates a very strong correlation.\n",
    ",0.7 to 0.9 positive or negative indicates a strong correlation.\n",
    ",0.5 to 0.7 positive or negative indicates a moderate correlation.\n",
    ",0.3 to 0.5 positive or negative indicates a weak correlation.\n",
    ",0 to 0.3 positive or negative indicates a negligible correlation.\n",
    "\n",
    "in our dataset, it can be that asymmetry coefficient has a very weak correlation with all the other variables while prerimeter, kernel length and kernel width have very strong correlations with all the other variables."
   ]
  },
  {
   "cell_type": "markdown",
   "id": "92da3e37",
   "metadata": {},
   "source": [
    "# Skew for each attribute"
   ]
  },
  {
   "cell_type": "markdown",
   "id": "1e6f7b0a",
   "metadata": {},
   "source": [
    "## method"
   ]
  },
  {
   "cell_type": "code",
   "execution_count": 5,
   "id": "4fbd40dc",
   "metadata": {},
   "outputs": [
    {
     "name": "stdout",
     "output_type": "stream",
     "text": [
      "Skew:\n",
      "area                     0.400\n",
      "perimeter                0.387\n",
      "compactness             -0.538\n",
      "kernel length            0.525\n",
      "kernel width             0.134\n",
      "asymmetry coefficient    0.402\n",
      "kernel groove Length     0.562\n",
      "dtype: float64\n"
     ]
    }
   ],
   "source": [
    "skew = dataset.skew()\n",
    "print(\"Skew:\")\n",
    "print(skew)"
   ]
  },
  {
   "cell_type": "markdown",
   "id": "f1582e77",
   "metadata": {},
   "source": [
    "## Analysis"
   ]
  },
  {
   "cell_type": "markdown",
   "id": "b1f85949",
   "metadata": {},
   "source": [
    "Skewness is a measure of asymmetry of a distribution. In a normal distribution, the mean divides the curve symmetrically into two equal parts at the median and the value of skewness is zero.\n",
    "When a distribution is asymmetrical the tail of the distribution is skewed to one side-to the right or to the left.\n",
    "When the value of the skewness is negative, the tail of the distribution is longer towards the left hand side of the curve.\n",
    "When the value of the skewness is positive, the tail of the distribution is longer towards the right hand side of the curve.\n",
    "\n",
    "A skewness value of 0 in the output denotes a symmetrical distribution of values in the row.\n",
    "A negative skewness value in the output indicates an asymmetry in the distribution corresponding to the row and the tail is larger towards the left hand side of the distribution.\n",
    "A positive skewness value in the output indicates an asymmetry in the distribution corresponding to the row and the tail is larger towards the right hand side of the distribution.\n",
    "\n",
    "in our dataset, it can be interpreted that compactness is skewed to the left while the other parametwers are skewed to the right."
   ]
  },
  {
   "cell_type": "markdown",
   "id": "7df4d061",
   "metadata": {},
   "source": [
    "# Univariate Density Plot"
   ]
  },
  {
   "cell_type": "markdown",
   "id": "faacb53b",
   "metadata": {},
   "source": [
    "## Method"
   ]
  },
  {
   "cell_type": "code",
   "execution_count": 6,
   "id": "eb4197ad",
   "metadata": {},
   "outputs": [
    {
     "data": {
      "image/png": "[encoded data removed]",
      "text/plain": [
       "<Figure size 432x288 with 8 Axes>"
      ]
     },
     "metadata": {
      "needs_background": "light"
     },
     "output_type": "display_data"
    }
   ],
   "source": [
    "# useful libraries\n",
    "from matplotlib import pyplot\n",
    "dataset.plot(kind='density', subplots=True, layout=(4,2), sharex=False)\n",
    "pyplot.show()"
   ]
  },
  {
   "cell_type": "markdown",
   "id": "beda99a3",
   "metadata": {},
   "source": [
    "## Analysis"
   ]
  },
  {
   "cell_type": "markdown",
   "id": "28622600",
   "metadata": {},
   "source": [
    "A density plot is a smoothed, continuous version of a histogram estimated from the data. A continuous curve is drawn at every individual data point and all of these curves are then added together to make a single smooth density estimation. Above is the density plots for all the points of the various attributes in the dataset."
   ]
  },
  {
   "cell_type": "markdown",
   "id": "7fcef7bf",
   "metadata": {},
   "source": [
    "# Correlation Matrix Plot"
   ]
  },
  {
   "cell_type": "code",
   "execution_count": 7,
   "id": "fbc64e5a",
   "metadata": {},
   "outputs": [],
   "source": [
    "#useful libraries\n",
    "import numpy"
   ]
  },
  {
   "cell_type": "markdown",
   "id": "394fc5ea",
   "metadata": {},
   "source": [
    "## Method"
   ]
  },
  {
   "cell_type": "code",
   "execution_count": 8,
   "id": "8d48e449",
   "metadata": {},
   "outputs": [
    {
     "data": {
      "image/png": "[encoded data removed]",
      "text/plain": [
       "<Figure size 432x288 with 2 Axes>"
      ]
     },
     "metadata": {
      "needs_background": "light"
     },
     "output_type": "display_data"
    }
   ],
   "source": [
    "correlations = dataset.corr()\n",
    "\n",
    "# plot correlation matrix\n",
    "fig = pyplot.figure()\n",
    "ax = fig.add_subplot(111)\n",
    "cax = ax.matshow(correlations, vmin=-1, vmax=1)\n",
    "fig.colorbar(cax)\n",
    "ticks = numpy.arange(0,7,1)\n",
    "ax.set_xticks(ticks)\n",
    "ax.set_yticks(ticks)\n",
    "ax.set_xticklabels(names)\n",
    "ax.set_yticklabels(names)\n",
    "\n",
    "pyplot.show()\n",
    "\n"
   ]
  },
  {
   "cell_type": "markdown",
   "id": "804d464d",
   "metadata": {},
   "source": [
    "## Interpretation"
   ]
  },
  {
   "cell_type": "markdown",
   "id": "2dc315c0",
   "metadata": {},
   "source": [
    "from the heatmap above, it can be seen that the asymetric coefficient is the most uncorrelated attribute to the rest followed by the compactness, hence the skew values seen earlier. the rest of the values are closely correlated."
   ]
  },
  {
   "cell_type": "markdown",
   "id": "dcd8097f",
   "metadata": {},
   "source": [
    "# Rescaling Data"
   ]
  },
  {
   "cell_type": "markdown",
   "id": "80b86056",
   "metadata": {},
   "source": [
    "## Method"
   ]
  },
  {
   "cell_type": "code",
   "execution_count": 9,
   "id": "2b062445",
   "metadata": {},
   "outputs": [
    {
     "name": "stdout",
     "output_type": "stream",
     "text": [
      "[[0.441 0.502 0.571 0.486 0.486 0.189]\n",
      " [0.405 0.446 0.662 0.369 0.501 0.033]\n",
      " [0.349 0.347 0.879 0.221 0.504 0.251]\n",
      " [0.307 0.316 0.793 0.239 0.534 0.194]\n",
      " [0.524 0.533 0.865 0.427 0.664 0.077]\n",
      " [0.358 0.372 0.789 0.274 0.486 0.221]\n",
      " [0.387 0.43  0.652 0.374 0.448 0.367]]\n"
     ]
    }
   ],
   "source": [
    "#useful libraries\n",
    "from numpy import set_printoptions\n",
    "from sklearn.preprocessing import MinMaxScaler\n",
    "\n",
    "# separate array into input and output components\n",
    "#Import the dataset\n",
    "dataset = read_csv ('seeds_dataset.csv', header=None) \n",
    "array_rescale = dataset.values\n",
    "X = array_rescale[:,0:6]\n",
    "Y = array_rescale[:,6]\n",
    "\n",
    "scaler = MinMaxScaler(feature_range=(0, 1))\n",
    "rescaledX = scaler.fit_transform(X)\n",
    "\n",
    "# summarize transformed data\n",
    "set_printoptions(precision=3)\n",
    "print(rescaledX[0:7,:])"
   ]
  },
  {
   "cell_type": "markdown",
   "id": "081804e8",
   "metadata": {},
   "source": [
    "## Interpretation"
   ]
  },
  {
   "cell_type": "markdown",
   "id": "73ed5190",
   "metadata": {},
   "source": [
    "Rescaling a vector means to add or subtract a constant and then multiply or divide by a constant and in this case to ensure al the data lies between o and 1. A print of the first 7 rows is as above"
   ]
  },
  {
   "cell_type": "markdown",
   "id": "4be99317",
   "metadata": {},
   "source": [
    "# Standardize Data"
   ]
  },
  {
   "cell_type": "markdown",
   "id": "2bb72651",
   "metadata": {},
   "source": [
    "## method"
   ]
  },
  {
   "cell_type": "code",
   "execution_count": 10,
   "id": "90537483",
   "metadata": {},
   "outputs": [
    {
     "name": "stdout",
     "output_type": "stream",
     "text": [
      "[[ 1.421e-01  2.155e-01  6.060e-05  3.042e-01  1.417e-01 -9.862e-01]\n",
      " [ 1.119e-02  8.224e-03  4.285e-01 -1.686e-01  1.974e-01 -1.788e+00]\n",
      " [-1.921e-01 -3.602e-01  1.442e+00 -7.636e-01  2.080e-01 -6.675e-01]\n",
      " [-3.471e-01 -4.753e-01  1.039e+00 -6.890e-01  3.195e-01 -9.608e-01]\n",
      " [ 4.453e-01  3.306e-01  1.375e+00  6.667e-02  8.052e-01 -1.563e+00]\n",
      " [-1.611e-01 -2.681e-01  1.022e+00 -5.487e-01  1.417e-01 -8.255e-01]\n",
      " [-5.427e-02 -5.318e-02  3.776e-01 -1.483e-01  1.049e-03 -7.614e-02]]\n"
     ]
    }
   ],
   "source": [
    "# import useful libraries: Standardize data (0 mean, 1 stdev)\n",
    "\n",
    "from sklearn.preprocessing import StandardScaler\n",
    "from pandas import read_csv\n",
    "from numpy import set_printoptions\n",
    "\n",
    "# separate array into input and output components\n",
    "#Import the dataset\n",
    "dataset = read_csv ('seeds_dataset.csv', header=None) \n",
    "array_standadize = dataset.values\n",
    "X = array_standadize[:,0:6]\n",
    "Y = array_standadize[:,6]\n",
    "\n",
    "scaler = StandardScaler().fit(X)\n",
    "rescaledX = scaler.transform(X)\n",
    "\n",
    "# summarize transformed data\n",
    "set_printoptions(precision=3)\n",
    "print(rescaledX[0:7,:])"
   ]
  },
  {
   "cell_type": "markdown",
   "id": "5997adbc",
   "metadata": {},
   "source": [
    "## Analysis"
   ]
  },
  {
   "cell_type": "markdown",
   "id": "fd9abbac",
   "metadata": {},
   "source": [
    "Standardizing a vector means subtracting a measure of location and dividing by a measure of scale. For example, if the vector contains random values with a Gaussian distribution, you might subtract the mean and divide by the standard deviation, thereby obtaining a “standard normal” random variable with mean 0 and standard deviation 1. \n"
   ]
  },
  {
   "cell_type": "markdown",
   "id": "97f7ec64",
   "metadata": {},
   "source": [
    "# Normalize Data,"
   ]
  },
  {
   "cell_type": "markdown",
   "id": "2ab04a48",
   "metadata": {},
   "source": [
    "## method"
   ]
  },
  {
   "cell_type": "code",
   "execution_count": 11,
   "id": "d2918adf",
   "metadata": {},
   "outputs": [
    {
     "name": "stdout",
     "output_type": "stream",
     "text": [
      "[[0.68  0.662 0.039 0.257 0.148 0.099]\n",
      " [0.681 0.667 0.04  0.254 0.153 0.047]\n",
      " [0.674 0.664 0.043 0.249 0.157 0.127]\n",
      " [0.666 0.671 0.043 0.256 0.163 0.109]\n",
      " [0.699 0.65  0.039 0.245 0.154 0.059]\n",
      " [0.674 0.666 0.042 0.252 0.155 0.115]\n",
      " [0.67  0.661 0.04  0.254 0.149 0.164]]\n"
     ]
    }
   ],
   "source": [
    "# Normalize data (length of 1)\n",
    "from sklearn.preprocessing import Normalizer\n",
    "from pandas import read_csv\n",
    "from numpy import set_printoptions\n",
    "\n",
    "# separate array into input and output components\n",
    "#Import the dataset\n",
    "dataset = read_csv ('seeds_dataset.csv', header=None) \n",
    "array_normalize = dataset.values\n",
    "X = array_normalize[:,0:6]\n",
    "Y = array_normalize[:,6]\n",
    "\n",
    "scaler = Normalizer().fit(X)\n",
    "normalizedX = scaler.transform(X)\n",
    "# summarize transformed data\n",
    "set_printoptions(precision=3)\n",
    "print(normalizedX[0:7,:])"
   ]
  },
  {
   "cell_type": "markdown",
   "id": "53160c58",
   "metadata": {},
   "source": [
    "## Interpretation"
   ]
  },
  {
   "cell_type": "markdown",
   "id": "0a75cde4",
   "metadata": {},
   "source": [
    "Normalizing a vector most often means dividing by a norm of the vector. It also often refers to rescaling by the minimum and range of the vector, to make all the elements lie between 0 and 1 thus bringing all the values of numeric columns in the dataset to a common scale."
   ]
  },
  {
   "cell_type": "markdown",
   "id": "20032eb0",
   "metadata": {},
   "source": [
    "# Binarization"
   ]
  },
  {
   "cell_type": "markdown",
   "id": "b2ed23dc",
   "metadata": {},
   "source": [
    "## method"
   ]
  },
  {
   "cell_type": "code",
   "execution_count": 12,
   "id": "cb983d0e",
   "metadata": {},
   "outputs": [
    {
     "name": "stdout",
     "output_type": "stream",
     "text": [
      "[[1. 1. 1. 1. 1. 1.]\n",
      " [1. 1. 1. 1. 1. 1.]\n",
      " [1. 1. 1. 1. 1. 1.]\n",
      " [1. 1. 1. 1. 1. 1.]\n",
      " [1. 1. 1. 1. 1. 1.]\n",
      " [1. 1. 1. 1. 1. 1.]\n",
      " [1. 1. 1. 1. 1. 1.]]\n"
     ]
    }
   ],
   "source": [
    "# binarization\n",
    "from sklearn.preprocessing import Binarizer\n",
    "from pandas import read_csv\n",
    "from numpy import set_printoptions\n",
    "\n",
    "# separate array into input and output components\n",
    "#Import the dataset\n",
    "dataset = read_csv ('seeds_dataset.csv', header=None) \n",
    "array_binarizer = dataset.values\n",
    "X = array_binarizer[:,0:6]\n",
    "Y = array_binarizer[:,6]\n",
    "\n",
    "binarizer = Binarizer(threshold=0.0).fit(X)\n",
    "binaryX = binarizer.transform(X)\n",
    "# summarize transformed data\n",
    "set_printoptions(precision=3)\n",
    "print(binaryX[0:7,:])"
   ]
  },
  {
   "cell_type": "markdown",
   "id": "1a039240",
   "metadata": {},
   "source": [
    "## analysis"
   ]
  },
  {
   "cell_type": "markdown",
   "id": "43f29036",
   "metadata": {},
   "source": [
    "Binarize data (set feature values to 0 or 1) according to a threshold. In our dataset, this all sets the values to 1"
   ]
  },
  {
   "cell_type": "code",
   "execution_count": null,
   "id": "444d3edb",
   "metadata": {},
   "outputs": [],
   "source": []
  }
 ],
 "metadata": {
  "kernelspec": {
   "display_name": "Python 3",
   "language": "python",
   "name": "python3"
  },
  "language_info": {
   "codemirror_mode": {
    "name": "ipython",
    "version": 3
   },
   "file_extension": ".py",
   "mimetype": "text/x-python",
   "name": "python",
   "nbconvert_exporter": "python",
   "pygments_lexer": "ipython3",
   "version": "3.8.8"
  }
 },
 "nbformat": 4,
 "nbformat_minor": 5
}
