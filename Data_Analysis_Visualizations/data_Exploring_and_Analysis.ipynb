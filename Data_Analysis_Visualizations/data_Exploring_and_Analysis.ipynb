{
 "cells": [
  {
   "cell_type": "markdown",
   "id": "0ff11630",
   "metadata": {},
   "source": [
    "# Data Exploring and Analysis"
   ]
  },
  {
   "cell_type": "code",
   "execution_count": 1,
   "id": "45e77401",
   "metadata": {},
   "outputs": [],
   "source": [
    "# Pandas deals with series, data frames, and panels\n"
   ]
  },
  {
   "cell_type": "markdown",
   "id": "68d9ff82",
   "metadata": {},
   "source": [
    "## Creating a Series"
   ]
  },
  {
   "cell_type": "code",
   "execution_count": 4,
   "id": "cc76e0fe",
   "metadata": {},
   "outputs": [
    {
     "name": "stdout",
     "output_type": "stream",
     "text": [
      "0    O\n",
      "1    S\n",
      "2    S\n",
      "3    A\n",
      "dtype: object\n",
      "\n",
      "\n",
      "100    O\n",
      "101    S\n",
      "102    S\n",
      "103    A\n",
      "dtype: object\n"
     ]
    }
   ],
   "source": [
    "import pandas as pd\n",
    "import numpy as np\n",
    "\n",
    "data = np.array(['O','S','S','A'])\n",
    "S1 = pd.Series(data) # without adding index\n",
    "S2 = pd.Series(data,index=[100,101,102,103]) # with adding index \n",
    "print (S1) \n",
    "print (\"\\n\") \n",
    "print (S2)"
   ]
  },
  {
   "cell_type": "code",
   "execution_count": 5,
   "id": "b8a0e616",
   "metadata": {},
   "outputs": [
    {
     "name": "stdout",
     "output_type": "stream",
     "text": [
      "\n",
      "my_series2\n",
      " [[-1.2544686   0.6516967  -0.46361055  0.53087031  0.17619593  0.90141574\n",
      "   0.9573067  -0.4396681  -1.2015388   1.39047128]\n",
      " [ 0.14898444 -0.17885511 -1.58465487  1.36145166  0.06885459  0.84454533\n",
      "   0.9854904  -0.17949287 -0.31907112  0.62685335]\n",
      " [-1.24508148 -0.88338702  1.09393178  0.4745215   0.34198632  0.19549665\n",
      "  -0.1344664  -0.83281016 -0.26424003  2.08325758]\n",
      " [ 0.88102248 -1.22172421  2.01230004 -0.66979607 -0.00312051  1.87953352\n",
      "   1.52717864 -0.14540744 -1.05627247 -0.97747232]\n",
      " [ 0.16461313  1.24777227 -0.49397402  0.3331036   0.38673039  0.21072497\n",
      "  -0.00902067  1.91159215 -0.68334969  0.8902877 ]]\n"
     ]
    }
   ],
   "source": [
    "import pandas as pd\n",
    "import numpy as np\n",
    "my_series2 = np.random.randn(5, 10)\n",
    "print (\"\\nmy_series2\\n\", my_series2)"
   ]
  },
  {
   "cell_type": "code",
   "execution_count": 6,
   "id": "1df5c354",
   "metadata": {},
   "outputs": [
    {
     "name": "stdout",
     "output_type": "stream",
     "text": [
      "X    0.0\n",
      "Y    1.0\n",
      "Z    2.0\n",
      "dtype: float64\n"
     ]
    }
   ],
   "source": [
    "# Creating an Indexed Series\n",
    "import pandas as pd\n",
    "import numpy as np\n",
    "data = {'X' : 0., 'Y' : 1., 'Z' : 2.}\n",
    "SERIES1 = pd.Series(data)\n",
    "print (SERIES1)"
   ]
  },
  {
   "cell_type": "code",
   "execution_count": 7,
   "id": "5667f559",
   "metadata": {},
   "outputs": [
    {
     "name": "stdout",
     "output_type": "stream",
     "text": [
      "0    7\n",
      "1    7\n",
      "2    7\n",
      "3    7\n",
      "4    7\n",
      "dtype: int64\n"
     ]
    }
   ],
   "source": [
    "# Use sclara to create a series\n",
    "import pandas as pd\n",
    "import numpy as np\n",
    "Series1 = pd.Series(7, index=[0, 1, 2, 3, 4]) \n",
    "print (Series1)"
   ]
  },
  {
   "cell_type": "code",
   "execution_count": 8,
   "id": "10e160ca",
   "metadata": {},
   "outputs": [
    {
     "name": "stdout",
     "output_type": "stream",
     "text": [
      "Example 1:Retrieve the first element\n",
      "1\n",
      "\n",
      "Example 2:Retrieve the first three element\n",
      "a    1\n",
      "b    2\n",
      "c    3\n",
      "dtype: int64\n",
      "\n",
      "Example 3:Retrieve the last three element\n",
      "c    3\n",
      "d    4\n",
      "e    5\n",
      "dtype: int64\n",
      "\n",
      "Example 4:Retrieve a single element\n",
      "1\n",
      "\n",
      "Example 5:Retrieve multiple elements\n",
      "a    1\n",
      "c    3\n",
      "d    4\n",
      "dtype: int64\n"
     ]
    }
   ],
   "source": [
    "#Accessing a Data Series\n",
    "import pandas as pd\n",
    "Series1 = pd.Series([1,2,3,4,5],index =\n",
    "                             ['a','b','c','d','e'])\n",
    "print (\"Example 1:Retrieve the first element\")\n",
    "print (Series1[0] )\n",
    "print (\"\\nExample 2:Retrieve the first three element\")\n",
    "print (Series1[:3])\n",
    "print (\"\\nExample 3:Retrieve the last three element\")\n",
    "print(Series1[-3:])\n",
    "print (\"\\nExample 4:Retrieve a single element\")\n",
    "print (Series1['a'])\n",
    "print (\"\\nExample 5:Retrieve multiple elements\")\n",
    "print (Series1[['a','c','d']])"
   ]
  },
  {
   "cell_type": "markdown",
   "id": "01fbee4d",
   "metadata": {},
   "source": [
    "## Analyzing Series Data"
   ]
  },
  {
   "cell_type": "code",
   "execution_count": 11,
   "id": "dfc40ba9",
   "metadata": {},
   "outputs": [
    {
     "name": "stdout",
     "output_type": "stream",
     "text": [
      "my_series1\n",
      " 0     5\n",
      "1     6\n",
      "2     7\n",
      "3     8\n",
      "4     9\n",
      "5    10\n",
      "dtype: int64\n",
      "\n",
      " Series Analysis\n",
      " \n",
      "Series mean value :  7.5\n",
      "Series max value :  10\n",
      "Series min value :  5\n",
      "Series standard deviation value :  1.8708286933869707\n"
     ]
    }
   ],
   "source": [
    "\n",
    "import pandas as pd\n",
    "import numpy as np\n",
    "my_series1 = pd.Series([5, 6, 7, 8, 9, 10])\n",
    "print (\"my_series1\\n\", my_series1)\n",
    "print (\"\\n Series Analysis\\n \")\n",
    "print (\"Series mean value : \", my_series1.mean()) \n",
    "# find mean value in a series\n",
    "print (\"Series max value : \",my_series1.max()) \n",
    "# find max value in a series\n",
    "print (\"Series min value : \",my_series1.min()) \n",
    "# find min value in a series\n",
    "print (\"Series standard deviation value : \", my_series1.std()) \n",
    "# find standard deviation my_series1"
   ]
  },
  {
   "cell_type": "code",
   "execution_count": 12,
   "id": "28c1aebf",
   "metadata": {},
   "outputs": [
    {
     "data": {
      "text/plain": [
       "count     6.000000\n",
       "mean      7.500000\n",
       "std       1.870829\n",
       "min       5.000000\n",
       "25%       6.250000\n",
       "50%       7.500000\n",
       "75%       8.750000\n",
       "max      10.000000\n",
       "dtype: float64"
      ]
     },
     "execution_count": 12,
     "metadata": {},
     "output_type": "execute_result"
    }
   ],
   "source": [
    "my_series1.describe()"
   ]
  },
  {
   "cell_type": "markdown",
   "id": "38856ac8",
   "metadata": {},
   "source": [
    "## Operations on a Series"
   ]
  },
  {
   "cell_type": "code",
   "execution_count": 14,
   "id": "9975b7e4",
   "metadata": {},
   "outputs": [
    {
     "name": "stdout",
     "output_type": "stream",
     "text": [
      "\n",
      "series x\n",
      "\n",
      "0    1\n",
      "1    2\n",
      "2    3\n",
      "3    4\n",
      "4    5\n",
      "dtype: int64\n",
      "\n",
      "series y\n",
      "\n",
      "0     6\n",
      "1     7\n",
      "2     8\n",
      "3     9\n",
      "4    10\n",
      "dtype: int64\n",
      "\n",
      "Add two series\n",
      "\n",
      "7\n",
      "9\n",
      "11\n",
      "13\n",
      "15\n"
     ]
    }
   ],
   "source": [
    "import pandas as pd\n",
    "import numpy as np\n",
    "x = pd.Series([1,2,3,4,5])\n",
    "y = pd.Series([6,7,8,9,10])\n",
    "\n",
    "print (\"\\nseries x\\n\")\n",
    "print(x)\n",
    "\n",
    "print (\"\\nseries y\\n\")\n",
    "print (y)\n",
    "def AddSeries(x,y):\n",
    "    for i in range (len(x)):\n",
    "        print (x[i] + y[i])\n",
    "\n",
    "print (\"\\nAdd two series\\n\")\n",
    "AddSeries (x,y)\n"
   ]
  },
  {
   "cell_type": "markdown",
   "id": "da284da7",
   "metadata": {},
   "source": [
    "## Visualizing Data Series"
   ]
  },
  {
   "cell_type": "code",
   "execution_count": 16,
   "id": "03904837",
   "metadata": {},
   "outputs": [
    {
     "data": {
      "image/png": "[encoded data removed]",
      "text/plain": [
       "<Figure size 432x288 with 1 Axes>"
      ]
     },
     "metadata": {
      "needs_background": "light"
     },
     "output_type": "display_data"
    }
   ],
   "source": [
    "import matplotlib.pyplot as plt\n",
    "plt.plot(x,y)\n",
    "plt.ylabel('index')\n",
    "plt.show()"
   ]
  },
  {
   "cell_type": "code",
   "execution_count": 17,
   "id": "39e56374",
   "metadata": {},
   "outputs": [
    {
     "data": {
      "image/png": "[encoded data removed]",
      "text/plain": [
       "<Figure size 432x288 with 1 Axes>"
      ]
     },
     "metadata": {
      "needs_background": "light"
     },
     "output_type": "display_data"
    }
   ],
   "source": [
    "from numpy import *\n",
    "import math\n",
    "import matplotlib.pyplot as plt\n",
    "t = linspace(0, 2*math.pi, 400)\n",
    "a = sin(t) \n",
    "b = cos(t) \n",
    "c=a+ b\n",
    "\n",
    "plt.plot(t, a, 'r') # plotting t, a separately\n",
    "plt.plot(t, b, 'b') # plotting t, b separately\n",
    "plt.plot(t, c, 'g') # plotting t, c separately\n",
    "plt.show()"
   ]
  },
  {
   "cell_type": "markdown",
   "id": "4348a597",
   "metadata": {},
   "source": [
    "## Data Frame Data Structures"
   ]
  },
  {
   "cell_type": "code",
   "execution_count": 18,
   "id": "2ae60651",
   "metadata": {},
   "outputs": [
    {
     "name": "stdout",
     "output_type": "stream",
     "text": [
      "    0\n",
      "0  10\n",
      "1  20\n",
      "2  30\n",
      "3  40\n",
      "4  50\n"
     ]
    }
   ],
   "source": [
    "# Creating a Data Frame from a List\n",
    "import pandas as pd\n",
    "data = [10,20,30,40,50]\n",
    "DF1 = pd.DataFrame(data)\n",
    "print (DF1)"
   ]
  },
  {
   "cell_type": "code",
   "execution_count": 19,
   "id": "1228f2e6",
   "metadata": {},
   "outputs": [
    {
     "name": "stdout",
     "output_type": "stream",
     "text": [
      "     Name  Age\n",
      "0  Ossama   25\n",
      "1     Ali   43\n",
      "2    Ziad   32\n"
     ]
    }
   ],
   "source": [
    "import pandas as pd\n",
    "data = [['Ossama',25],['Ali',43],['Ziad',32]]\n",
    "DF1 = pd.DataFrame(data,columns=['Name','Age'])\n",
    "print (DF1)"
   ]
  },
  {
   "cell_type": "code",
   "execution_count": 20,
   "id": "28d62879",
   "metadata": {},
   "outputs": [
    {
     "name": "stdout",
     "output_type": "stream",
     "text": [
      "     Name   Age\n",
      "0  Ossama  25.0\n",
      "1     Ali  43.0\n",
      "2    Ziad  32.0\n"
     ]
    }
   ],
   "source": [
    "import pandas as pd\n",
    "data = [['Ossama',25],['Ali',43],['Ziad',32]]\n",
    "DF1 = pd.DataFrame(data,columns=['Name','Age'],dtype=float) \n",
    "print (DF1)"
   ]
  },
  {
   "cell_type": "code",
   "execution_count": 23,
   "id": "de75d0db",
   "metadata": {},
   "outputs": [
    {
     "name": "stdout",
     "output_type": "stream",
     "text": [
      "        Test2  Project  Test1\n",
      "First      20      NaN     10\n",
      "Second     20     20.0     30\n",
      "\n",
      "\n",
      "        Project  Test_1  Test2 \n",
      "First       NaN     NaN     NaN\n",
      "Second     20.0     NaN     NaN\n"
     ]
    }
   ],
   "source": [
    "#Creating a DataFrame from a Dictionary\n",
    "\n",
    "import pandas as pd\n",
    "data = [{'Test1': 10, 'Test2': 20},{'Test1': 30,\n",
    "                 'Test2': 20, 'Project': 20}]\n",
    "         \n",
    "    # With three column indices, values same as dictionary keys\n",
    "df1 = pd.DataFrame(data, index=['First', 'Second'],\n",
    "columns=['Test2', 'Project' , 'Test1'])\n",
    "         \n",
    "    #With two column indices with one index with another name\n",
    "df2 = pd.DataFrame(data, index=['First', 'Second'],columns=['Project', 'Test_1','Test2 '])\n",
    "print (df1)\n",
    "print (\"\\n\")\n",
    "print (df2)"
   ]
  },
  {
   "cell_type": "code",
   "execution_count": 24,
   "id": "0baffb3f",
   "metadata": {},
   "outputs": [
    {
     "name": "stdout",
     "output_type": "stream",
     "text": [
      "       Test1  Test2\n",
      "Ahmed   70.0     56\n",
      "Ali     89.0     77\n",
      "Omar    55.0     82\n",
      "Salwa    NaN     65\n"
     ]
    }
   ],
   "source": [
    "#Creating a Data Frame from a Series\n",
    "import pandas as pd\n",
    "data = {'Test1' : pd.Series([70, 55, 89],\n",
    "                 index=['Ahmed', 'Omar', 'Ali']),\n",
    "                 'Test2' : pd.Series([56, 82, 77, 65],\n",
    "                 index=['Ahmed', 'Omar', 'Ali', 'Salwa'])}\n",
    "df1 = pd.DataFrame(data)\n",
    "print (df1)"
   ]
  },
  {
   "cell_type": "code",
   "execution_count": 25,
   "id": "578e76df",
   "metadata": {},
   "outputs": [
    {
     "name": "stdout",
     "output_type": "stream",
     "text": [
      "Ahmed    56\n",
      "Ali      77\n",
      "Omar     82\n",
      "Salwa    65\n",
      "Name: Test2, dtype: int64\n",
      "\n",
      "\n",
      "       Test1  Test2\n",
      "Ahmed   70.0     56\n",
      "Ali     89.0     77\n",
      "Omar    55.0     82\n",
      "Salwa    NaN     65\n"
     ]
    }
   ],
   "source": [
    "import pandas as pd\n",
    "data = {'Test1' : pd.Series([70, 55, 89],\n",
    "                 index=['Ahmed', 'Omar', 'Ali']),\n",
    "                 'Test2' : pd.Series([56, 82, 77, 65],\n",
    "                 index=['Ahmed', 'Omar', 'Ali', 'Salwa'])}\n",
    "df1 = pd.DataFrame(data)\n",
    "print (df1['Test2']) # Column selection\n",
    "print(\"\\n\")\n",
    "print (df1[:]) # Column selection\n"
   ]
  },
  {
   "cell_type": "code",
   "execution_count": 26,
   "id": "5af6a88a",
   "metadata": {},
   "outputs": [
    {
     "name": "stdout",
     "output_type": "stream",
     "text": [
      "       Test1  Test2\n",
      "Ahmed   70.0     56\n",
      "Ali     89.0     77\n",
      "Omar    55.0     82\n",
      "Salwa    NaN     65\n",
      "\n",
      "\n",
      "       Test1  Test2  Project  Average\n",
      "Ahmed   70.0     56       87    71.00\n",
      "Ali     89.0     77       90    85.33\n",
      "Omar    55.0     82       83    73.33\n",
      "Salwa    NaN     65       67      NaN\n"
     ]
    }
   ],
   "source": [
    "# add a new Column\n",
    "import pandas as pd\n",
    "data = {'Test1' : pd.Series([70, 55, 89],\n",
    "                 index=['Ahmed', 'Omar', 'Ali']),\n",
    "                 'Test2' : pd.Series([56, 82, 77, 65],\n",
    "                 index=['Ahmed', 'Omar', 'Ali', 'Salwa'])}\n",
    "df1 = pd.DataFrame(data)\n",
    "print (df1)\n",
    "df1['Project'] = pd.Series([90,83,67, 87],\n",
    "              index=['Ali','Omar','Salwa', 'Ahmed'])\n",
    "print (\"\\n\")\n",
    "df1['Average'] = round((df1['Test1']+df1['Test2']+\n",
    "df1['Project'])/3, 2)\n",
    "print (df1)"
   ]
  },
  {
   "cell_type": "code",
   "execution_count": 27,
   "id": "c85698c8",
   "metadata": {},
   "outputs": [
    {
     "name": "stdout",
     "output_type": "stream",
     "text": [
      "Deleting the first column using DEL function:\n"
     ]
    },
    {
     "ename": "KeyError",
     "evalue": "'Test2'",
     "output_type": "error",
     "traceback": [
      "\u001b[0;31m---------------------------------------------------------------------------\u001b[0m",
      "\u001b[0;31mKeyError\u001b[0m                                  Traceback (most recent call last)",
      "\u001b[0;32m~/opt/anaconda3/lib/python3.8/site-packages/pandas/core/indexes/base.py\u001b[0m in \u001b[0;36mget_loc\u001b[0;34m(self, key, method, tolerance)\u001b[0m\n\u001b[1;32m   3079\u001b[0m             \u001b[0;32mtry\u001b[0m\u001b[0;34m:\u001b[0m\u001b[0;34m\u001b[0m\u001b[0;34m\u001b[0m\u001b[0m\n\u001b[0;32m-> 3080\u001b[0;31m                 \u001b[0;32mreturn\u001b[0m \u001b[0mself\u001b[0m\u001b[0;34m.\u001b[0m\u001b[0m_engine\u001b[0m\u001b[0;34m.\u001b[0m\u001b[0mget_loc\u001b[0m\u001b[0;34m(\u001b[0m\u001b[0mcasted_key\u001b[0m\u001b[0;34m)\u001b[0m\u001b[0;34m\u001b[0m\u001b[0;34m\u001b[0m\u001b[0m\n\u001b[0m\u001b[1;32m   3081\u001b[0m             \u001b[0;32mexcept\u001b[0m \u001b[0mKeyError\u001b[0m \u001b[0;32mas\u001b[0m \u001b[0merr\u001b[0m\u001b[0;34m:\u001b[0m\u001b[0;34m\u001b[0m\u001b[0;34m\u001b[0m\u001b[0m\n",
      "\u001b[0;32mpandas/_libs/index.pyx\u001b[0m in \u001b[0;36mpandas._libs.index.IndexEngine.get_loc\u001b[0;34m()\u001b[0m\n",
      "\u001b[0;32mpandas/_libs/index.pyx\u001b[0m in \u001b[0;36mpandas._libs.index.IndexEngine.get_loc\u001b[0;34m()\u001b[0m\n",
      "\u001b[0;32mpandas/_libs/hashtable_class_helper.pxi\u001b[0m in \u001b[0;36mpandas._libs.hashtable.PyObjectHashTable.get_item\u001b[0;34m()\u001b[0m\n",
      "\u001b[0;32mpandas/_libs/hashtable_class_helper.pxi\u001b[0m in \u001b[0;36mpandas._libs.hashtable.PyObjectHashTable.get_item\u001b[0;34m()\u001b[0m\n",
      "\u001b[0;31mKeyError\u001b[0m: 'Test2'",
      "\nThe above exception was the direct cause of the following exception:\n",
      "\u001b[0;31mKeyError\u001b[0m                                  Traceback (most recent call last)",
      "\u001b[0;32m<ipython-input-27-ae2cf7c79128>\u001b[0m in \u001b[0;36m<module>\u001b[0;34m\u001b[0m\n\u001b[1;32m      1\u001b[0m \u001b[0;31m# Delete a column in data frame using del function\u001b[0m\u001b[0;34m\u001b[0m\u001b[0;34m\u001b[0m\u001b[0;34m\u001b[0m\u001b[0m\n\u001b[1;32m      2\u001b[0m \u001b[0mprint\u001b[0m \u001b[0;34m(\u001b[0m\u001b[0;34m\"Deleting the first column using DEL function:\"\u001b[0m\u001b[0;34m)\u001b[0m\u001b[0;34m\u001b[0m\u001b[0;34m\u001b[0m\u001b[0m\n\u001b[0;32m----> 3\u001b[0;31m \u001b[0;32mdel\u001b[0m \u001b[0mdf2\u001b[0m\u001b[0;34m[\u001b[0m\u001b[0;34m'Test2'\u001b[0m\u001b[0;34m]\u001b[0m\u001b[0;34m\u001b[0m\u001b[0;34m\u001b[0m\u001b[0m\n\u001b[0m\u001b[1;32m      4\u001b[0m \u001b[0mprint\u001b[0m \u001b[0;34m(\u001b[0m\u001b[0mdf2\u001b[0m\u001b[0;34m)\u001b[0m\u001b[0;34m\u001b[0m\u001b[0;34m\u001b[0m\u001b[0m\n\u001b[1;32m      5\u001b[0m \u001b[0;31m# Delete a column in data frame using pop function\u001b[0m\u001b[0;34m\u001b[0m\u001b[0;34m\u001b[0m\u001b[0;34m\u001b[0m\u001b[0m\n",
      "\u001b[0;32m~/opt/anaconda3/lib/python3.8/site-packages/pandas/core/generic.py\u001b[0m in \u001b[0;36m__delitem__\u001b[0;34m(self, key)\u001b[0m\n\u001b[1;32m   3964\u001b[0m             \u001b[0;31m# there was no match, this call should raise the appropriate\u001b[0m\u001b[0;34m\u001b[0m\u001b[0;34m\u001b[0m\u001b[0;34m\u001b[0m\u001b[0m\n\u001b[1;32m   3965\u001b[0m             \u001b[0;31m# exception:\u001b[0m\u001b[0;34m\u001b[0m\u001b[0;34m\u001b[0m\u001b[0;34m\u001b[0m\u001b[0m\n\u001b[0;32m-> 3966\u001b[0;31m             \u001b[0mloc\u001b[0m \u001b[0;34m=\u001b[0m \u001b[0mself\u001b[0m\u001b[0;34m.\u001b[0m\u001b[0maxes\u001b[0m\u001b[0;34m[\u001b[0m\u001b[0;34m-\u001b[0m\u001b[0;36m1\u001b[0m\u001b[0;34m]\u001b[0m\u001b[0;34m.\u001b[0m\u001b[0mget_loc\u001b[0m\u001b[0;34m(\u001b[0m\u001b[0mkey\u001b[0m\u001b[0;34m)\u001b[0m\u001b[0;34m\u001b[0m\u001b[0;34m\u001b[0m\u001b[0m\n\u001b[0m\u001b[1;32m   3967\u001b[0m             \u001b[0mself\u001b[0m\u001b[0;34m.\u001b[0m\u001b[0m_mgr\u001b[0m\u001b[0;34m.\u001b[0m\u001b[0midelete\u001b[0m\u001b[0;34m(\u001b[0m\u001b[0mloc\u001b[0m\u001b[0;34m)\u001b[0m\u001b[0;34m\u001b[0m\u001b[0;34m\u001b[0m\u001b[0m\n\u001b[1;32m   3968\u001b[0m \u001b[0;34m\u001b[0m\u001b[0m\n",
      "\u001b[0;32m~/opt/anaconda3/lib/python3.8/site-packages/pandas/core/indexes/base.py\u001b[0m in \u001b[0;36mget_loc\u001b[0;34m(self, key, method, tolerance)\u001b[0m\n\u001b[1;32m   3080\u001b[0m                 \u001b[0;32mreturn\u001b[0m \u001b[0mself\u001b[0m\u001b[0;34m.\u001b[0m\u001b[0m_engine\u001b[0m\u001b[0;34m.\u001b[0m\u001b[0mget_loc\u001b[0m\u001b[0;34m(\u001b[0m\u001b[0mcasted_key\u001b[0m\u001b[0;34m)\u001b[0m\u001b[0;34m\u001b[0m\u001b[0;34m\u001b[0m\u001b[0m\n\u001b[1;32m   3081\u001b[0m             \u001b[0;32mexcept\u001b[0m \u001b[0mKeyError\u001b[0m \u001b[0;32mas\u001b[0m \u001b[0merr\u001b[0m\u001b[0;34m:\u001b[0m\u001b[0;34m\u001b[0m\u001b[0;34m\u001b[0m\u001b[0m\n\u001b[0;32m-> 3082\u001b[0;31m                 \u001b[0;32mraise\u001b[0m \u001b[0mKeyError\u001b[0m\u001b[0;34m(\u001b[0m\u001b[0mkey\u001b[0m\u001b[0;34m)\u001b[0m \u001b[0;32mfrom\u001b[0m \u001b[0merr\u001b[0m\u001b[0;34m\u001b[0m\u001b[0;34m\u001b[0m\u001b[0m\n\u001b[0m\u001b[1;32m   3083\u001b[0m \u001b[0;34m\u001b[0m\u001b[0m\n\u001b[1;32m   3084\u001b[0m         \u001b[0;32mif\u001b[0m \u001b[0mtolerance\u001b[0m \u001b[0;32mis\u001b[0m \u001b[0;32mnot\u001b[0m \u001b[0;32mNone\u001b[0m\u001b[0;34m:\u001b[0m\u001b[0;34m\u001b[0m\u001b[0;34m\u001b[0m\u001b[0m\n",
      "\u001b[0;31mKeyError\u001b[0m: 'Test2'"
     ]
    }
   ],
   "source": [
    "# Delete a column in data frame using del function \n",
    "print (\"Deleting the first column using DEL function:\") \n",
    "del df2['Test2']\n",
    "print (df2)\n",
    "# Delete a column in data frame using pop function \n",
    "print (\"\\nDeleting another column using POP function:\") \n",
    "df2.pop('Project')\n",
    "print (df2)\n"
   ]
  },
  {
   "cell_type": "markdown",
   "id": "bc7f2d3e",
   "metadata": {},
   "source": [
    "## Exploring and Analyzing a Data Frame"
   ]
  },
  {
   "cell_type": "code",
   "execution_count": 28,
   "id": "54321ce5",
   "metadata": {},
   "outputs": [
    {
     "ename": "SyntaxError",
     "evalue": "invalid syntax (<ipython-input-28-1188eba27886>, line 4)",
     "output_type": "error",
     "traceback": [
      "\u001b[0;36m  File \u001b[0;32m\"<ipython-input-28-1188eba27886>\"\u001b[0;36m, line \u001b[0;32m4\u001b[0m\n\u001b[0;31m    index=['Ahmed', 'Omar', 'Ali','Height' : pd.Series([160, 154, 175, 165],\u001b[0m\n\u001b[0m                                           ^\u001b[0m\n\u001b[0;31mSyntaxError\u001b[0m\u001b[0;31m:\u001b[0m invalid syntax\n"
     ]
    }
   ],
   "source": [
    "print (df1)\n",
    "data = {'Age' : pd.Series([30, 25, 44, ],\n",
    "index=['Ahmed', 'Omar', 'Ali']),'Salary' : pd.Series([25000, 17000, 30000, 12000],\n",
    "index=['Ahmed', 'Omar', 'Ali','Height' : pd.Series([160, 154, 175, 165],\n",
    "index=['Ahmed', 'Omar', 'Ali', 'Salwa'\n",
    "'Weight' : pd.Series([85, 70, 92, 65], index=['Ahmed', 'Omar','Ali', 'Salwa']),\n",
    "'Gender' : pd.Series(['Male', 'Male', 'Male', 'Female'],\n",
    "index=['Ahmed', 'Omar',\n",
    "data = pd.DataFrame(data)\n",
    "print (data)\n",
    "print(\"\\n\")\n",
    "df2 = pd.DataFrame([[42, 31000, 170, 80, 'Female']], columns\n",
    "=['Age','Salary','Height'\n",
    "                       , index=['Mona'])\n",
    "data = data.append(df2)\n",
    "print (data)"
   ]
  },
  {
   "cell_type": "code",
   "execution_count": null,
   "id": "81f86374",
   "metadata": {},
   "outputs": [],
   "source": []
  }
 ],
 "metadata": {
  "kernelspec": {
   "display_name": "Python 3",
   "language": "python",
   "name": "python3"
  },
  "language_info": {
   "codemirror_mode": {
    "name": "ipython",
    "version": 3
   },
   "file_extension": ".py",
   "mimetype": "text/x-python",
   "name": "python",
   "nbconvert_exporter": "python",
   "pygments_lexer": "ipython3",
   "version": "3.8.10"
  }
 },
 "nbformat": 4,
 "nbformat_minor": 5
}
