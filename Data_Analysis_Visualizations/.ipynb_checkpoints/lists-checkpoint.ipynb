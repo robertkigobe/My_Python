{
 "cells": [
  {
   "cell_type": "markdown",
   "id": "f56c525c",
   "metadata": {},
   "source": [
    "# Data Collection Structures"
   ]
  },
  {
   "cell_type": "markdown",
   "id": "dfe6ad05",
   "metadata": {},
   "source": [
    "## Lists :"
   ]
  },
  {
   "cell_type": "code",
   "execution_count": 1,
   "id": "1f191e17",
   "metadata": {},
   "outputs": [],
   "source": [
    "#A list is a sequence of values of any data type that can be accessed forward or backward. Each value is called an element or a list item. "
   ]
  },
  {
   "cell_type": "code",
   "execution_count": 5,
   "id": "4e062698",
   "metadata": {},
   "outputs": [
    {
     "name": "stdout",
     "output_type": "stream",
     "text": [
      "[1, 2, 3, 4, 5, 6, 7, 8, 9]\n"
     ]
    }
   ],
   "source": [
    "List1 = [1,2,3,4,5,6,7,8,9]\n",
    "print(List1)"
   ]
  },
  {
   "cell_type": "code",
   "execution_count": 3,
   "id": "ad1b97ac",
   "metadata": {},
   "outputs": [
    {
     "name": "stdout",
     "output_type": "stream",
     "text": [
      "['red', 'green', 'orange', 'blue']\n"
     ]
    }
   ],
   "source": [
    "colors = ['red','green','orange','blue']\n",
    "print(colors)"
   ]
  },
  {
   "cell_type": "code",
   "execution_count": 4,
   "id": "3051eda9",
   "metadata": {},
   "outputs": [
    {
     "name": "stdout",
     "output_type": "stream",
     "text": [
      "[1, 4, 6, [4, 67, 54], 34, 23]\n"
     ]
    }
   ],
   "source": [
    "nested = [1,4,6,[4,67,54],34,23]\n",
    "print(nested)"
   ]
  },
  {
   "cell_type": "markdown",
   "id": "f1d93074",
   "metadata": {},
   "source": [
    "## Accesing lists"
   ]
  },
  {
   "cell_type": "code",
   "execution_count": 6,
   "id": "fe46cfda",
   "metadata": {},
   "outputs": [
    {
     "name": "stdout",
     "output_type": "stream",
     "text": [
      "3\n"
     ]
    }
   ],
   "source": [
    "print(List1[2])"
   ]
  },
  {
   "cell_type": "code",
   "execution_count": 7,
   "id": "722164d1",
   "metadata": {},
   "outputs": [
    {
     "name": "stdout",
     "output_type": "stream",
     "text": [
      "[3, 4, 5, 6, 7, 8, 9]\n"
     ]
    }
   ],
   "source": [
    "print(List1[2:])"
   ]
  },
  {
   "cell_type": "code",
   "execution_count": 8,
   "id": "ee16e912",
   "metadata": {},
   "outputs": [
    {
     "name": "stdout",
     "output_type": "stream",
     "text": [
      "[1, 2]\n"
     ]
    }
   ],
   "source": [
    "print(List1[:2])"
   ]
  },
  {
   "cell_type": "code",
   "execution_count": 10,
   "id": "f3e83a2d",
   "metadata": {},
   "outputs": [
    {
     "name": "stdout",
     "output_type": "stream",
     "text": [
      "8\n"
     ]
    }
   ],
   "source": [
    "print(List1[-2])"
   ]
  },
  {
   "cell_type": "markdown",
   "id": "a697d826",
   "metadata": {},
   "source": [
    "## Adding and Updating Lists"
   ]
  },
  {
   "cell_type": "code",
   "execution_count": 11,
   "id": "66303400",
   "metadata": {},
   "outputs": [],
   "source": [
    "#Adding and Updating Lists"
   ]
  },
  {
   "cell_type": "code",
   "execution_count": 12,
   "id": "50ecce11",
   "metadata": {},
   "outputs": [
    {
     "name": "stdout",
     "output_type": "stream",
     "text": [
      "['red', 'green', 'orange', 'blue']\n"
     ]
    }
   ],
   "source": [
    "print(colors)"
   ]
  },
  {
   "cell_type": "code",
   "execution_count": 13,
   "id": "de662c71",
   "metadata": {},
   "outputs": [
    {
     "name": "stdout",
     "output_type": "stream",
     "text": [
      "['red', 'green', 'orange', 'blue', 'violet']\n"
     ]
    }
   ],
   "source": [
    "colors.append('violet')\n",
    "print(colors)"
   ]
  },
  {
   "cell_type": "code",
   "execution_count": 14,
   "id": "e0f7d053",
   "metadata": {},
   "outputs": [],
   "source": [
    "colors[2] = 'pink'"
   ]
  },
  {
   "cell_type": "code",
   "execution_count": 15,
   "id": "afadbee1",
   "metadata": {},
   "outputs": [
    {
     "name": "stdout",
     "output_type": "stream",
     "text": [
      "['red', 'green', 'pink', 'blue', 'violet']\n"
     ]
    }
   ],
   "source": [
    "print(colors)"
   ]
  },
  {
   "cell_type": "code",
   "execution_count": 16,
   "id": "dfa8efe4",
   "metadata": {},
   "outputs": [
    {
     "name": "stdout",
     "output_type": "stream",
     "text": [
      "['red', 'green', 'pink', 'blue', 'violet']\n"
     ]
    }
   ],
   "source": [
    "print(colors[:])"
   ]
  },
  {
   "cell_type": "markdown",
   "id": "b7538d61",
   "metadata": {},
   "source": [
    "## Deleting an Element from a List"
   ]
  },
  {
   "cell_type": "code",
   "execution_count": 17,
   "id": "0cc192fd",
   "metadata": {},
   "outputs": [
    {
     "name": "stdout",
     "output_type": "stream",
     "text": [
      "[1, 2, 3, 4, 5, 6, 7, 8, 9]\n"
     ]
    }
   ],
   "source": [
    "print(List1[:])"
   ]
  },
  {
   "cell_type": "code",
   "execution_count": 18,
   "id": "4aaebb9c",
   "metadata": {},
   "outputs": [
    {
     "name": "stdout",
     "output_type": "stream",
     "text": [
      "[1, 2, 3, 4, 5, 6, 8, 9]\n"
     ]
    }
   ],
   "source": [
    "del List1[6]\n",
    "print(List1[:])"
   ]
  },
  {
   "cell_type": "code",
   "execution_count": 19,
   "id": "2053527c",
   "metadata": {},
   "outputs": [
    {
     "name": "stdout",
     "output_type": "stream",
     "text": [
      "[1, 2, 3, 5, 6, 8, 9]\n"
     ]
    }
   ],
   "source": [
    "List1.remove(4) #remove does not work on the index but actual element\n",
    "print(List1[:])"
   ]
  },
  {
   "cell_type": "code",
   "execution_count": 20,
   "id": "c6718f50",
   "metadata": {},
   "outputs": [
    {
     "name": "stdout",
     "output_type": "stream",
     "text": [
      "[1, 3, 5, 6, 8, 9]\n"
     ]
    }
   ],
   "source": [
    "List1.remove(2) \n",
    "print(List1[:])"
   ]
  },
  {
   "cell_type": "markdown",
   "id": "fb902ec3",
   "metadata": {},
   "source": [
    "## Basic List Operations"
   ]
  },
  {
   "cell_type": "code",
   "execution_count": 21,
   "id": "d3a9e807",
   "metadata": {},
   "outputs": [
    {
     "name": "stdout",
     "output_type": "stream",
     "text": [
      "3\n"
     ]
    }
   ],
   "source": [
    "print (len([5, \"Omar\", 3]))"
   ]
  },
  {
   "cell_type": "code",
   "execution_count": 22,
   "id": "5d0f1d50",
   "metadata": {},
   "outputs": [
    {
     "name": "stdout",
     "output_type": "stream",
     "text": [
      "[3, 4, 1, 'Omar', 5, 6]\n"
     ]
    }
   ],
   "source": [
    "print ([3, 4, 1] + [\"Omar\", 5, 6]) #concartenate"
   ]
  },
  {
   "cell_type": "code",
   "execution_count": 23,
   "id": "3e504642",
   "metadata": {},
   "outputs": [
    {
     "name": "stdout",
     "output_type": "stream",
     "text": [
      "['Eg!', 'Eg!', 'Eg!', 'Eg!']\n"
     ]
    }
   ],
   "source": [
    "print (['Eg!'] * 4) #repeat element "
   ]
  },
  {
   "cell_type": "code",
   "execution_count": 24,
   "id": "a82351ef",
   "metadata": {},
   "outputs": [
    {
     "name": "stdout",
     "output_type": "stream",
     "text": [
      "2017\n",
      "[[4, 5]]\n",
      "[3.7, '330']\n",
      "3.7\n"
     ]
    }
   ],
   "source": [
    "list1 = ['Egypt', 'chemistry', 2017, 2018]\n",
    "list2 = [1, 2, 3, [4, 5]]\n",
    "list3 = [\"a\", 3.7, '330', \"Omar\"]\n",
    "\n",
    "print (list1[2]) #print 3rd element\n",
    "print (list2 [3:])#print all after 3rd element\n",
    "print (list3 [-3:-1])#print from 3rd last to 1st\n",
    "print (list3[-3])\n"
   ]
  },
  {
   "cell_type": "code",
   "execution_count": 25,
   "id": "12a9330f",
   "metadata": {},
   "outputs": [],
   "source": [
    "seq=(41, 12, 9, 74, 3, 15) # use sequence for creating a list"
   ]
  },
  {
   "cell_type": "code",
   "execution_count": 26,
   "id": "2e8567b7",
   "metadata": {},
   "outputs": [],
   "source": [
    "tickets=list(seq)"
   ]
  },
  {
   "cell_type": "code",
   "execution_count": 27,
   "id": "41fb223a",
   "metadata": {},
   "outputs": [
    {
     "name": "stdout",
     "output_type": "stream",
     "text": [
      "[41, 12, 9, 74, 3, 15]\n"
     ]
    }
   ],
   "source": [
    "print (tickets)"
   ]
  },
  {
   "cell_type": "code",
   "execution_count": 28,
   "id": "dd834b9b",
   "metadata": {},
   "outputs": [
    {
     "name": "stdout",
     "output_type": "stream",
     "text": [
      "[3, 9, 12, 15, 41, 74]\n"
     ]
    }
   ],
   "source": [
    "tickets.sort()\n",
    "print (tickets)"
   ]
  },
  {
   "cell_type": "code",
   "execution_count": 29,
   "id": "ec434d95",
   "metadata": {},
   "outputs": [
    {
     "name": "stdout",
     "output_type": "stream",
     "text": [
      "['E', 'g', 'y', 'p', 't']\n"
     ]
    }
   ],
   "source": [
    "Word = 'Egypt'\n",
    "List1 = list(Word)\n",
    "print (List1)"
   ]
  },
  {
   "cell_type": "code",
   "execution_count": 30,
   "id": "a65a50e4",
   "metadata": {},
   "outputs": [
    {
     "name": "stdout",
     "output_type": "stream",
     "text": [
      "['Welcome', 'to', 'Egypt']\n"
     ]
    }
   ],
   "source": [
    "Greeting= 'Welcome-to-Egypt'\n",
    "List2 =Greeting.split(\"-\")\n",
    "print (List2)\n",
    "         "
   ]
  },
  {
   "cell_type": "code",
   "execution_count": 31,
   "id": "a81ba0ad",
   "metadata": {},
   "outputs": [
    {
     "name": "stdout",
     "output_type": "stream",
     "text": [
      "['Welcome', 'to', 'Egypt']\n"
     ]
    }
   ],
   "source": [
    "Greeting= 'Welcome-to-Egypt'\n",
    "delimiter='-'\n",
    "List2 =Greeting.split(delimiter)\n",
    "print (List2)"
   ]
  },
  {
   "cell_type": "code",
   "execution_count": 32,
   "id": "c0ee8f56",
   "metadata": {},
   "outputs": [
    {
     "name": "stdout",
     "output_type": "stream",
     "text": [
      "['President', 'Museveni', 'this', 'week', 'announced', 'his', 'first', 'post-election', 'Cabinet.']\n",
      "[]\n",
      "['Judging', 'by', 'the', 'reaction', 'of', 'the', 'general', 'public,', 'the', 'Opposition,', 'the', 'media', 'and', 'even', 'a', 'large', 'cross-section', 'of', 'the', 'ruling', 'NRM', 'party', 'membership,', 'this', 'could', 'prove', 'to', 'be', 'the', 'most', 'belittled', 'of', 'any', 'since', '1986.']\n",
      "[]\n",
      "['The', 'general', 'view', 'is', 'that', 'this', 'is', 'a', 'Cabinet', 'that', 'favours', 'loyalty', 'over', 'competence', 'and', 'intellectualism,', 'a', 'view', 'the', 'President', 'indirectly', 'acknowledged', 'in', 'his', 'response', 'in', 'which', 'he', 'borrowed', 'a', 'biblical', 'metaphor', 'of', 'fishermen.']\n",
      "[]\n",
      "['It', 'had', 'to', 'do', 'with', 'humble', 'but', 'loyal', 'folk', 'selected', 'by', 'Jesus', 'Christ', 'as', 'disciples', 'versus', 'the', 'learned', 'class', 'of', 'the', 'New', 'Testament', 'Pharisees,', 'scribes', 'and', 'teachers', 'of', 'the', 'law.']\n",
      "['The', '2020-2021', 'Museveni', 'election', 'campaign', 'message', 'suggested', 'a', 'forward-looking,', 'modernising', 'drive.']\n",
      "['Social', 'media', 'posts', 'from', 'the', 'Museveni', 'task', 'force', 'highlighted', 'the', 'new', 'four-lane', 'highways,', 'hydro-power', 'dams,', 'a', 'revived', 'Uganda', 'Airlines', 'and', 'so', 'forth.']\n",
      "[]\n"
     ]
    }
   ],
   "source": [
    "list_demo = open('list_demo.txt')\n",
    "for line in list_demo:\n",
    "    line = line.rstrip()\n",
    "    List = line.split()\n",
    "    print(List)"
   ]
  },
  {
   "cell_type": "code",
   "execution_count": null,
   "id": "525a9195",
   "metadata": {},
   "outputs": [],
   "source": []
  }
 ],
 "metadata": {
  "kernelspec": {
   "display_name": "Python 3",
   "language": "python",
   "name": "python3"
  },
  "language_info": {
   "codemirror_mode": {
    "name": "ipython",
    "version": 3
   },
   "file_extension": ".py",
   "mimetype": "text/x-python",
   "name": "python",
   "nbconvert_exporter": "python",
   "pygments_lexer": "ipython3",
   "version": "3.8.10"
  }
 },
 "nbformat": 4,
 "nbformat_minor": 5
}
