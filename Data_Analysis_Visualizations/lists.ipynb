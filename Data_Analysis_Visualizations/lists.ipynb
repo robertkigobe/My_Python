{
 "cells": [
  {
   "cell_type": "markdown",
   "id": "da15b501",
   "metadata": {},
   "source": [
    "# Data Collection Structures"
   ]
  },
  {
   "cell_type": "markdown",
   "id": "629788f3",
   "metadata": {},
   "source": [
    "## Lists :"
   ]
  },
  {
   "cell_type": "code",
   "execution_count": 1,
   "id": "91c93306",
   "metadata": {},
   "outputs": [],
   "source": [
    "#A list is a sequence of values of any data type that can be accessed forward or backward. Each value is called an element or a list item. "
   ]
  },
  {
   "cell_type": "code",
   "execution_count": 5,
   "id": "dcad5ef6",
   "metadata": {},
   "outputs": [
    {
     "name": "stdout",
     "output_type": "stream",
     "text": [
      "[1, 2, 3, 4, 5, 6, 7, 8, 9]\n"
     ]
    }
   ],
   "source": [
    "List1 = [1,2,3,4,5,6,7,8,9]\n",
    "print(List1)"
   ]
  },
  {
   "cell_type": "code",
   "execution_count": 3,
   "id": "ff2bd4f3",
   "metadata": {},
   "outputs": [
    {
     "name": "stdout",
     "output_type": "stream",
     "text": [
      "['red', 'green', 'orange', 'blue']\n"
     ]
    }
   ],
   "source": [
    "colors = ['red','green','orange','blue']\n",
    "print(colors)"
   ]
  },
  {
   "cell_type": "code",
   "execution_count": 4,
   "id": "5905b2cb",
   "metadata": {},
   "outputs": [
    {
     "name": "stdout",
     "output_type": "stream",
     "text": [
      "[1, 4, 6, [4, 67, 54], 34, 23]\n"
     ]
    }
   ],
   "source": [
    "nested = [1,4,6,[4,67,54],34,23]\n",
    "print(nested)"
   ]
  },
  {
   "cell_type": "markdown",
   "id": "4678518d",
   "metadata": {},
   "source": [
    "## Accesing lists"
   ]
  },
  {
   "cell_type": "code",
   "execution_count": 6,
   "id": "19ed0d60",
   "metadata": {},
   "outputs": [
    {
     "name": "stdout",
     "output_type": "stream",
     "text": [
      "3\n"
     ]
    }
   ],
   "source": [
    "print(List1[2])"
   ]
  },
  {
   "cell_type": "code",
   "execution_count": 7,
   "id": "808706f6",
   "metadata": {},
   "outputs": [
    {
     "name": "stdout",
     "output_type": "stream",
     "text": [
      "[3, 4, 5, 6, 7, 8, 9]\n"
     ]
    }
   ],
   "source": [
    "print(List1[2:])"
   ]
  },
  {
   "cell_type": "code",
   "execution_count": 8,
   "id": "a771d4bc",
   "metadata": {},
   "outputs": [
    {
     "name": "stdout",
     "output_type": "stream",
     "text": [
      "[1, 2]\n"
     ]
    }
   ],
   "source": [
    "print(List1[:2])"
   ]
  },
  {
   "cell_type": "code",
   "execution_count": 10,
   "id": "c015d4ad",
   "metadata": {},
   "outputs": [
    {
     "name": "stdout",
     "output_type": "stream",
     "text": [
      "8\n"
     ]
    }
   ],
   "source": [
    "print(List1[-2])"
   ]
  },
  {
   "cell_type": "markdown",
   "id": "852e576b",
   "metadata": {},
   "source": [
    "## Adding and Updating Lists"
   ]
  },
  {
   "cell_type": "code",
   "execution_count": 11,
   "id": "6a8ac864",
   "metadata": {},
   "outputs": [],
   "source": [
    "#Adding and Updating Lists"
   ]
  },
  {
   "cell_type": "code",
   "execution_count": 12,
   "id": "1809cf7f",
   "metadata": {},
   "outputs": [
    {
     "name": "stdout",
     "output_type": "stream",
     "text": [
      "['red', 'green', 'orange', 'blue']\n"
     ]
    }
   ],
   "source": [
    "print(colors)"
   ]
  },
  {
   "cell_type": "code",
   "execution_count": 13,
   "id": "73eeb936",
   "metadata": {},
   "outputs": [
    {
     "name": "stdout",
     "output_type": "stream",
     "text": [
      "['red', 'green', 'orange', 'blue', 'violet']\n"
     ]
    }
   ],
   "source": [
    "colors.append('violet')\n",
    "print(colors)"
   ]
  },
  {
   "cell_type": "code",
   "execution_count": 14,
   "id": "e4993bf8",
   "metadata": {},
   "outputs": [],
   "source": [
    "colors[2] = 'pink'"
   ]
  },
  {
   "cell_type": "code",
   "execution_count": 15,
   "id": "62a312d7",
   "metadata": {},
   "outputs": [
    {
     "name": "stdout",
     "output_type": "stream",
     "text": [
      "['red', 'green', 'pink', 'blue', 'violet']\n"
     ]
    }
   ],
   "source": [
    "print(colors)"
   ]
  },
  {
   "cell_type": "code",
   "execution_count": 16,
   "id": "2677c5fb",
   "metadata": {},
   "outputs": [
    {
     "name": "stdout",
     "output_type": "stream",
     "text": [
      "['red', 'green', 'pink', 'blue', 'violet']\n"
     ]
    }
   ],
   "source": [
    "print(colors[:])"
   ]
  },
  {
   "cell_type": "markdown",
   "id": "e3c02cf6",
   "metadata": {},
   "source": [
    "## Deleting an Element from a List"
   ]
  },
  {
   "cell_type": "code",
   "execution_count": 17,
   "id": "3e815573",
   "metadata": {},
   "outputs": [
    {
     "name": "stdout",
     "output_type": "stream",
     "text": [
      "[1, 2, 3, 4, 5, 6, 7, 8, 9]\n"
     ]
    }
   ],
   "source": [
    "print(List1[:])"
   ]
  },
  {
   "cell_type": "code",
   "execution_count": 18,
   "id": "b979dd49",
   "metadata": {},
   "outputs": [
    {
     "name": "stdout",
     "output_type": "stream",
     "text": [
      "[1, 2, 3, 4, 5, 6, 8, 9]\n"
     ]
    }
   ],
   "source": [
    "del List1[6]\n",
    "print(List1[:])"
   ]
  },
  {
   "cell_type": "code",
   "execution_count": 19,
   "id": "73f2452a",
   "metadata": {},
   "outputs": [
    {
     "name": "stdout",
     "output_type": "stream",
     "text": [
      "[1, 2, 3, 5, 6, 8, 9]\n"
     ]
    }
   ],
   "source": [
    "List1.remove(4) #remove does not work on the index but actual element\n",
    "print(List1[:])"
   ]
  },
  {
   "cell_type": "code",
   "execution_count": 20,
   "id": "86ba3104",
   "metadata": {},
   "outputs": [
    {
     "name": "stdout",
     "output_type": "stream",
     "text": [
      "[1, 3, 5, 6, 8, 9]\n"
     ]
    }
   ],
   "source": [
    "List1.remove(2) \n",
    "print(List1[:])"
   ]
  },
  {
   "cell_type": "markdown",
   "id": "1851f615",
   "metadata": {},
   "source": [
    "## Basic List Operations"
   ]
  },
  {
   "cell_type": "code",
   "execution_count": 21,
   "id": "bafe4b58",
   "metadata": {},
   "outputs": [
    {
     "name": "stdout",
     "output_type": "stream",
     "text": [
      "3\n"
     ]
    }
   ],
   "source": [
    "print (len([5, \"Omar\", 3]))"
   ]
  },
  {
   "cell_type": "code",
   "execution_count": 22,
   "id": "311a10a6",
   "metadata": {},
   "outputs": [
    {
     "name": "stdout",
     "output_type": "stream",
     "text": [
      "[3, 4, 1, 'Omar', 5, 6]\n"
     ]
    }
   ],
   "source": [
    "print ([3, 4, 1] + [\"Omar\", 5, 6]) #concartenate"
   ]
  },
  {
   "cell_type": "code",
   "execution_count": 23,
   "id": "034b9114",
   "metadata": {},
   "outputs": [
    {
     "name": "stdout",
     "output_type": "stream",
     "text": [
      "['Eg!', 'Eg!', 'Eg!', 'Eg!']\n"
     ]
    }
   ],
   "source": [
    "print (['Eg!'] * 4) #repeat element "
   ]
  },
  {
   "cell_type": "code",
   "execution_count": 24,
   "id": "2154bbc2",
   "metadata": {},
   "outputs": [
    {
     "name": "stdout",
     "output_type": "stream",
     "text": [
      "2017\n",
      "[[4, 5]]\n",
      "[3.7, '330']\n",
      "3.7\n"
     ]
    }
   ],
   "source": [
    "list1 = ['Egypt', 'chemistry', 2017, 2018]\n",
    "list2 = [1, 2, 3, [4, 5]]\n",
    "list3 = [\"a\", 3.7, '330', \"Omar\"]\n",
    "\n",
    "print (list1[2]) #print 3rd element\n",
    "print (list2 [3:])#print all after 3rd element\n",
    "print (list3 [-3:-1])#print from 3rd last to 1st\n",
    "print (list3[-3])\n"
   ]
  },
  {
   "cell_type": "code",
   "execution_count": 25,
   "id": "5bcfc77b",
   "metadata": {},
   "outputs": [],
   "source": [
    "seq=(41, 12, 9, 74, 3, 15) # use sequence for creating a list"
   ]
  },
  {
   "cell_type": "code",
   "execution_count": 26,
   "id": "6ebaff92",
   "metadata": {},
   "outputs": [],
   "source": [
    "tickets=list(seq)"
   ]
  },
  {
   "cell_type": "code",
   "execution_count": 27,
   "id": "3ac170b4",
   "metadata": {},
   "outputs": [
    {
     "name": "stdout",
     "output_type": "stream",
     "text": [
      "[41, 12, 9, 74, 3, 15]\n"
     ]
    }
   ],
   "source": [
    "print (tickets)"
   ]
  },
  {
   "cell_type": "code",
   "execution_count": 28,
   "id": "207d357c",
   "metadata": {},
   "outputs": [
    {
     "name": "stdout",
     "output_type": "stream",
     "text": [
      "[3, 9, 12, 15, 41, 74]\n"
     ]
    }
   ],
   "source": [
    "tickets.sort()\n",
    "print (tickets)"
   ]
  },
  {
   "cell_type": "code",
   "execution_count": 29,
   "id": "78c8bcc3",
   "metadata": {},
   "outputs": [
    {
     "name": "stdout",
     "output_type": "stream",
     "text": [
      "['E', 'g', 'y', 'p', 't']\n"
     ]
    }
   ],
   "source": [
    "Word = 'Egypt'\n",
    "List1 = list(Word)\n",
    "print (List1)"
   ]
  },
  {
   "cell_type": "code",
   "execution_count": 30,
   "id": "3e2ff977",
   "metadata": {},
   "outputs": [
    {
     "name": "stdout",
     "output_type": "stream",
     "text": [
      "['Welcome', 'to', 'Egypt']\n"
     ]
    }
   ],
   "source": [
    "Greeting= 'Welcome-to-Egypt'\n",
    "List2 =Greeting.split(\"-\")\n",
    "print (List2)\n",
    "         "
   ]
  },
  {
   "cell_type": "code",
   "execution_count": 31,
   "id": "cb5ac6bd",
   "metadata": {},
   "outputs": [
    {
     "name": "stdout",
     "output_type": "stream",
     "text": [
      "['Welcome', 'to', 'Egypt']\n"
     ]
    }
   ],
   "source": [
    "Greeting= 'Welcome-to-Egypt'\n",
    "delimiter='-'\n",
    "List2 =Greeting.split(delimiter)\n",
    "print (List2)"
   ]
  },
  {
   "cell_type": "code",
   "execution_count": 32,
   "id": "af07c2b4",
   "metadata": {},
   "outputs": [
    {
     "name": "stdout",
     "output_type": "stream",
     "text": [
      "['President', 'Museveni', 'this', 'week', 'announced', 'his', 'first', 'post-election', 'Cabinet.']\n",
      "[]\n",
      "['Judging', 'by', 'the', 'reaction', 'of', 'the', 'general', 'public,', 'the', 'Opposition,', 'the', 'media', 'and', 'even', 'a', 'large', 'cross-section', 'of', 'the', 'ruling', 'NRM', 'party', 'membership,', 'this', 'could', 'prove', 'to', 'be', 'the', 'most', 'belittled', 'of', 'any', 'since', '1986.']\n",
      "[]\n",
      "['The', 'general', 'view', 'is', 'that', 'this', 'is', 'a', 'Cabinet', 'that', 'favours', 'loyalty', 'over', 'competence', 'and', 'intellectualism,', 'a', 'view', 'the', 'President', 'indirectly', 'acknowledged', 'in', 'his', 'response', 'in', 'which', 'he', 'borrowed', 'a', 'biblical', 'metaphor', 'of', 'fishermen.']\n",
      "[]\n",
      "['It', 'had', 'to', 'do', 'with', 'humble', 'but', 'loyal', 'folk', 'selected', 'by', 'Jesus', 'Christ', 'as', 'disciples', 'versus', 'the', 'learned', 'class', 'of', 'the', 'New', 'Testament', 'Pharisees,', 'scribes', 'and', 'teachers', 'of', 'the', 'law.']\n",
      "['The', '2020-2021', 'Museveni', 'election', 'campaign', 'message', 'suggested', 'a', 'forward-looking,', 'modernising', 'drive.']\n",
      "['Social', 'media', 'posts', 'from', 'the', 'Museveni', 'task', 'force', 'highlighted', 'the', 'new', 'four-lane', 'highways,', 'hydro-power', 'dams,', 'a', 'revived', 'Uganda', 'Airlines', 'and', 'so', 'forth.']\n",
      "[]\n"
     ]
    }
   ],
   "source": [
    "list_demo = open('list_demo.txt')\n",
    "for line in list_demo:\n",
    "    line = line.rstrip()\n",
    "    List = line.split()\n",
    "    print(List)"
   ]
  },
  {
   "cell_type": "code",
   "execution_count": 34,
   "id": "b066debf",
   "metadata": {},
   "outputs": [
    {
     "name": "stdout",
     "output_type": "stream",
     "text": [
      "President Museveni this week announced his first post-election Cabinet.\n",
      "\n",
      "\n",
      "\n",
      "Judging by the reaction of the general public, the Opposition, the media and even a large cross-section of the ruling NRM party membership, this could prove to be the most belittled of any since 1986.\n",
      "\n",
      "\n",
      "\n",
      "The general view is that this is a Cabinet that favours loyalty over competence and intellectualism, a view the President indirectly acknowledged in his response in which he borrowed a biblical metaphor of fishermen.\n",
      "\n",
      "\n",
      "\n",
      "It had to do with humble but loyal folk selected by Jesus Christ as disciples versus the learned class of the New Testament Pharisees, scribes and teachers of the law.\n",
      "\n",
      "The 2020-2021 Museveni election campaign message suggested a forward-looking, modernising drive. \n",
      "\n",
      "Social media posts from the Museveni task force highlighted the new four-lane highways, hydro-power dams, a revived Uganda Airlines and so forth.\n",
      "\n",
      "\n",
      "\n"
     ]
    }
   ],
   "source": [
    "list_demo = open('list_demo.txt')\n",
    "for line in list_demo:\n",
    "    print(line)"
   ]
  },
  {
   "cell_type": "markdown",
   "id": "c109ed59",
   "metadata": {},
   "source": [
    "## Dictionaries"
   ]
  },
  {
   "cell_type": "code",
   "execution_count": 36,
   "id": "26c15797",
   "metadata": {},
   "outputs": [],
   "source": [
    "# You can create a dictionary and assign a key-value pair directly. In addition, you can create an empty dictionary and then assign values to each generated key"
   ]
  },
  {
   "cell_type": "code",
   "execution_count": 37,
   "id": "58192e50",
   "metadata": {},
   "outputs": [
    {
     "name": "stdout",
     "output_type": "stream",
     "text": [
      "{'Honda': 40000, 'Suzuki': 50000, 'Mercedes': 85000, 'Nissan': 35000, 'Mitsubishi': 43000}\n"
     ]
    }
   ],
   "source": [
    "Prices = {\"Honda\":40000, \"Suzuki\":50000,\n",
    "\"Mercedes\":85000, \"Nissan\":35000, \"Mitsubishi\": 43000}\n",
    "print (Prices)"
   ]
  },
  {
   "cell_type": "code",
   "execution_count": 38,
   "id": "eca310e1",
   "metadata": {},
   "outputs": [
    {
     "name": "stdout",
     "output_type": "stream",
     "text": [
      "{'Salwa Ahmed': 50, 'Abdullah Mohamed': 80, 'Sultan Ghanim': 90}\n"
     ]
    }
   ],
   "source": [
    "STDMarks = dict()\n",
    "STDMarks['Salwa Ahmed']=50\n",
    "STDMarks['Abdullah Mohamed']=80\n",
    "STDMarks['Sultan Ghanim']=90\n",
    "print (STDMarks)\n",
    "         \n"
   ]
  },
  {
   "cell_type": "markdown",
   "id": "97a348ce",
   "metadata": {},
   "source": [
    "## Updating and Accessing Values in Dictionaries"
   ]
  },
  {
   "cell_type": "code",
   "execution_count": 39,
   "id": "97ac76e7",
   "metadata": {},
   "outputs": [
    {
     "name": "stdout",
     "output_type": "stream",
     "text": [
      "{'Salwa Ahmed': 85, 'Abdullah Mohamed': 80, 'Sultan Ghanim': 90, 'Omar Majid': 74}\n"
     ]
    }
   ],
   "source": [
    "STDMarks={\"Salwa Ahmed\":50, \"Abdullah Mohamed\":80,\"Sultan Ghanim\":90}\n",
    "STDMarks['Salwa Ahmed'] = 85 # update current value of the key 'Salwa Ahmed'\n",
    "STDMarks['Omar Majid'] = 74 # Add a new item to the dictionary\n",
    "print (STDMarks)"
   ]
  },
  {
   "cell_type": "markdown",
   "id": "a274bf07",
   "metadata": {},
   "source": [
    "## Accessing Dictionary Elements"
   ]
  },
  {
   "cell_type": "code",
   "execution_count": 44,
   "id": "c52b0453",
   "metadata": {},
   "outputs": [
    {
     "name": "stdout",
     "output_type": "stream",
     "text": [
      "Salary package for Ossama Hashim is  25000\n"
     ]
    }
   ],
   "source": [
    "Staff_Salary = { 'Omar Ahmed' : 30000 , 'Ali Ziad' :\n",
    "24000, 'Ossama Hashim': 25000, 'Majid Hatem':10000}\n",
    "print('Salary package for Ossama Hashim is ', Staff_Salary['Ossama Hashim'])"
   ]
  },
  {
   "cell_type": "markdown",
   "id": "fb51d0e8",
   "metadata": {},
   "source": [
    "## Deleting Dictionary Elements\n",
    "        \n",
    "        \n",
    "        "
   ]
  },
  {
   "cell_type": "code",
   "execution_count": 56,
   "id": "af1f4087",
   "metadata": {},
   "outputs": [
    {
     "name": "stdout",
     "output_type": "stream",
     "text": [
      "{'Salwa Ahmed': 50, 'Abdullah Mohamed': 80, 'Sultan Ghanim': 90}\n",
      "{'Salwa Ahmed': 50, 'Sultan Ghanim': 90}\n",
      "{}\n"
     ]
    }
   ],
   "source": [
    "STDMarks={\"Salwa Ahmed\":50, \"Abdullah Mohamed\":80,\"Sultan Ghanim\":90}\n",
    "print (STDMarks)\n",
    "         \n",
    "del STDMarks['Abdullah Mohamed'] # remove entry with key 'Abdullah Mohamed'\n",
    "print (STDMarks)\n",
    "STDMarks.clear() # remove all entries in STDMarks dictionary\n",
    "print (STDMarks)"
   ]
  },
  {
   "cell_type": "code",
   "execution_count": null,
   "id": "1f61f885",
   "metadata": {},
   "outputs": [],
   "source": []
  }
 ],
 "metadata": {
  "kernelspec": {
   "display_name": "Python 3",
   "language": "python",
   "name": "python3"
  },
  "language_info": {
   "codemirror_mode": {
    "name": "ipython",
    "version": 3
   },
   "file_extension": ".py",
   "mimetype": "text/x-python",
   "name": "python",
   "nbconvert_exporter": "python",
   "pygments_lexer": "ipython3",
   "version": "3.8.10"
  }
 },
 "nbformat": 4,
 "nbformat_minor": 5
}
