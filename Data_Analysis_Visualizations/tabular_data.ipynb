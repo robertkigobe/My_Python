{
 "cells": [
  {
   "cell_type": "markdown",
   "id": "629700f1",
   "metadata": {},
   "source": [
    "# Tabular Data and Data Formats"
   ]
  },
  {
   "cell_type": "code",
   "execution_count": 1,
   "id": "6980f951",
   "metadata": {},
   "outputs": [],
   "source": [
    "# create a data frame using the counstructor pandas.DataFrame( data, index, columns, dtype, copy)"
   ]
  },
  {
   "cell_type": "code",
   "execution_count": 2,
   "id": "2f815dfc",
   "metadata": {},
   "outputs": [],
   "source": [
    "#Pandas does the following\n",
    "#Provides a mechanism to load data objects from different formats\n",
    "#Creates efficient data frame objects with default and customized indexing\n",
    "#Reshapes and pivots date sets\n",
    "#Provides efficient mechanisms to handle missing data \n",
    "#Merges, groups by, aggregates, and transforms data\n",
    "#Manipulates large data sets by implementing various functionalities such as slicing, indexing, subsetting, deletion, and insertion\n",
    "#Provides efficient time series functionality"
   ]
  },
  {
   "cell_type": "markdown",
   "id": "fc948db8",
   "metadata": {},
   "source": [
    "## Pandas Series"
   ]
  },
  {
   "cell_type": "code",
   "execution_count": 3,
   "id": "c0cc4225",
   "metadata": {},
   "outputs": [],
   "source": [
    "# A series is a one-dimensional labeled array "
   ]
  },
  {
   "cell_type": "code",
   "execution_count": 4,
   "id": "f28af906",
   "metadata": {},
   "outputs": [
    {
     "name": "stdout",
     "output_type": "stream",
     "text": [
      "A    90\n",
      "B    75\n",
      "C    50\n",
      "D    66\n",
      "dtype: int64\n"
     ]
    }
   ],
   "source": [
    "import pandas as pd #imports pandas library\n",
    "import numpy as np #imports numpy library\n",
    "data = np.array([90,75,50,66]) #creates an array \n",
    "s = pd.Series(data,index=['A','B','C','D']) #assigns labels to the array\n",
    "print (s)"
   ]
  },
  {
   "cell_type": "code",
   "execution_count": 5,
   "id": "4cc384d4",
   "metadata": {},
   "outputs": [
    {
     "name": "stdout",
     "output_type": "stream",
     "text": [
      "Ali      55\n",
      "Ahmed    92\n",
      "Omar     83\n",
      "dtype: int64\n"
     ]
    }
   ],
   "source": [
    "data = {'Ahmed' : 92, 'Ali' : 55, 'Omar' : 83}\n",
    "s = pd.Series(data,index=['Ali','Ahmed','Omar'])\n",
    "print (s)"
   ]
  },
  {
   "cell_type": "markdown",
   "id": "17ba75b2",
   "metadata": {},
   "source": [
    "## Pandas Data Frame"
   ]
  },
  {
   "cell_type": "code",
   "execution_count": 6,
   "id": "69187e8a",
   "metadata": {},
   "outputs": [],
   "source": [
    "# A data frame is a two-dimensional data structure"
   ]
  },
  {
   "cell_type": "code",
   "execution_count": 7,
   "id": "58ef8266",
   "metadata": {},
   "outputs": [
    {
     "name": "stdout",
     "output_type": "stream",
     "text": [
      "     Name  Age\n",
      "0  Robert   42\n",
      "1   Ahmed   35\n",
      "2     Ali   17\n",
      "3    Omar   25\n"
     ]
    }
   ],
   "source": [
    "import pandas as pd\n",
    "data = [['Robert',42],['Ahmed',35],['Ali',17],['Omar',25]]\n",
    "DataFrame1 = pd.DataFrame(data,columns=['Name','Age'])\n",
    "print (DataFrame1)"
   ]
  },
  {
   "cell_type": "code",
   "execution_count": 8,
   "id": "06f3f8e9",
   "metadata": {},
   "outputs": [
    {
     "data": {
      "text/html": [
       "<div>\n",
       "<style scoped>\n",
       "    .dataframe tbody tr th:only-of-type {\n",
       "        vertical-align: middle;\n",
       "    }\n",
       "\n",
       "    .dataframe tbody tr th {\n",
       "        vertical-align: top;\n",
       "    }\n",
       "\n",
       "    .dataframe thead th {\n",
       "        text-align: right;\n",
       "    }\n",
       "</style>\n",
       "<table border=\"1\" class=\"dataframe\">\n",
       "  <thead>\n",
       "    <tr style=\"text-align: right;\">\n",
       "      <th></th>\n",
       "      <th>Name</th>\n",
       "      <th>Age</th>\n",
       "    </tr>\n",
       "  </thead>\n",
       "  <tbody>\n",
       "    <tr>\n",
       "      <th>1</th>\n",
       "      <td>Ahmed</td>\n",
       "      <td>35</td>\n",
       "    </tr>\n",
       "    <tr>\n",
       "      <th>2</th>\n",
       "      <td>Ali</td>\n",
       "      <td>17</td>\n",
       "    </tr>\n",
       "    <tr>\n",
       "      <th>3</th>\n",
       "      <td>Omar</td>\n",
       "      <td>25</td>\n",
       "    </tr>\n",
       "  </tbody>\n",
       "</table>\n",
       "</div>"
      ],
      "text/plain": [
       "    Name  Age\n",
       "1  Ahmed   35\n",
       "2    Ali   17\n",
       "3   Omar   25"
      ]
     },
     "execution_count": 8,
     "metadata": {},
     "output_type": "execute_result"
    }
   ],
   "source": [
    "DataFrame1[1:] #retrieve data from a data frame starting from index 1 up to the end of rows."
   ]
  },
  {
   "cell_type": "code",
   "execution_count": 9,
   "id": "32484988",
   "metadata": {},
   "outputs": [],
   "source": [
    "#create a data frame using a dictionary."
   ]
  },
  {
   "cell_type": "code",
   "execution_count": 10,
   "id": "a3716639",
   "metadata": {},
   "outputs": [
    {
     "name": "stdout",
     "output_type": "stream",
     "text": [
      "       Name  Age\n",
      "100  Robert   42\n",
      "101   Ahmed   35\n",
      "102     Ali   17\n",
      "103    Omar   25\n",
      "104   Salwa   30\n"
     ]
    }
   ],
   "source": [
    "import pandas as pd\n",
    "data = {'Name':['Robert','Ahmed', 'Ali', 'Omar','Salwa'],'Age':[42,35,17,25,30]}\n",
    "dataframe2 = pd.DataFrame(data, index=[100, 101, 102, 103,104]) \n",
    "print (dataframe2)"
   ]
  },
  {
   "cell_type": "code",
   "execution_count": 16,
   "id": "8e8efcc6",
   "metadata": {},
   "outputs": [
    {
     "data": {
      "text/html": [
       "<div>\n",
       "<style scoped>\n",
       "    .dataframe tbody tr th:only-of-type {\n",
       "        vertical-align: middle;\n",
       "    }\n",
       "\n",
       "    .dataframe tbody tr th {\n",
       "        vertical-align: top;\n",
       "    }\n",
       "\n",
       "    .dataframe thead th {\n",
       "        text-align: right;\n",
       "    }\n",
       "</style>\n",
       "<table border=\"1\" class=\"dataframe\">\n",
       "  <thead>\n",
       "    <tr style=\"text-align: right;\">\n",
       "      <th></th>\n",
       "      <th>A</th>\n",
       "      <th>B</th>\n",
       "    </tr>\n",
       "  </thead>\n",
       "  <tbody>\n",
       "    <tr>\n",
       "      <th>0</th>\n",
       "      <td>1</td>\n",
       "      <td>4</td>\n",
       "    </tr>\n",
       "    <tr>\n",
       "      <th>1</th>\n",
       "      <td>2</td>\n",
       "      <td>5</td>\n",
       "    </tr>\n",
       "    <tr>\n",
       "      <th>2</th>\n",
       "      <td>3</td>\n",
       "      <td>6</td>\n",
       "    </tr>\n",
       "  </tbody>\n",
       "</table>\n",
       "</div>"
      ],
      "text/plain": [
       "   A  B\n",
       "0  1  4\n",
       "1  2  5\n",
       "2  3  6"
      ]
     },
     "execution_count": 16,
     "metadata": {},
     "output_type": "execute_result"
    }
   ],
   "source": [
    "pd.DataFrame.from_dict(dict([(\"A\", [1, 2, 3]), (\"B\", [4, 5, 6])]))\n"
   ]
  }
 ],
 "metadata": {
  "kernelspec": {
   "display_name": "Python 3",
   "language": "python",
   "name": "python3"
  },
  "language_info": {
   "codemirror_mode": {
    "name": "ipython",
    "version": 3
   },
   "file_extension": ".py",
   "mimetype": "text/x-python",
   "name": "python",
   "nbconvert_exporter": "python",
   "pygments_lexer": "ipython3",
   "version": "3.8.10"
  }
 },
 "nbformat": 4,
 "nbformat_minor": 5
}
