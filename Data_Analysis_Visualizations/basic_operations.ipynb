{
 "cells": [
  {
   "cell_type": "markdown",
   "id": "008b05be",
   "metadata": {},
   "source": [
    "# Basic Operations"
   ]
  },
  {
   "cell_type": "markdown",
   "id": "ae90867e",
   "metadata": {},
   "source": [
    "## Basic lines and indentation"
   ]
  },
  {
   "cell_type": "code",
   "execution_count": 23,
   "id": "e3d75064",
   "metadata": {},
   "outputs": [],
   "source": [
    "age,mark,code = 18,65,\"CSC 770\""
   ]
  },
  {
   "cell_type": "code",
   "execution_count": 24,
   "id": "0f626693",
   "metadata": {},
   "outputs": [
    {
     "name": "stdout",
     "output_type": "stream",
     "text": [
      "18\n",
      "65\n",
      "CSC 770\n"
     ]
    }
   ],
   "source": [
    "print(age)\n",
    "print(mark)\n",
    "print(code)"
   ]
  },
  {
   "cell_type": "markdown",
   "id": "fb58a7e3",
   "metadata": {},
   "source": [
    "## Multiline statements\n"
   ]
  },
  {
   "cell_type": "code",
   "execution_count": 25,
   "id": "ddb427a7",
   "metadata": {},
   "outputs": [],
   "source": [
    "Tv,Mobile,Tablet=30,45,60"
   ]
  },
  {
   "cell_type": "code",
   "execution_count": 26,
   "id": "be756077",
   "metadata": {},
   "outputs": [],
   "source": [
    "#the line escape us used to create multiple lines"
   ]
  },
  {
   "cell_type": "code",
   "execution_count": 27,
   "id": "d61db5ff",
   "metadata": {},
   "outputs": [
    {
     "name": "stdout",
     "output_type": "stream",
     "text": [
      "135\n"
     ]
    }
   ],
   "source": [
    "Total = Tv +\\\n",
    "Mobile + \\\n",
    "Tablet\n",
    "print(Total)"
   ]
  },
  {
   "cell_type": "markdown",
   "id": "31d97b24",
   "metadata": {},
   "source": [
    "## Read data from users"
   ]
  },
  {
   "cell_type": "code",
   "execution_count": null,
   "id": "a7bdf675",
   "metadata": {},
   "outputs": [],
   "source": [
    "name = input(\"enter your name here\")\n",
    "age = int (input(\"enter your age here\"))\n",
    "\n",
    "print(\"\\nName =\", name); print(\"\\nAge =\", age)"
   ]
  },
  {
   "cell_type": "markdown",
   "id": "56a3aebc",
   "metadata": {},
   "source": [
    "## Arithmetic operations"
   ]
  },
  {
   "cell_type": "code",
   "execution_count": null,
   "id": "273ce957",
   "metadata": {},
   "outputs": [],
   "source": [
    "print (13//5) #returns remainder\n",
    "print(13+5)\n",
    "print(13-5)\n",
    "print(2*5)\n",
    "print(13/5)\n",
    "print(13%5)\n",
    "print(2**3) #raises the power to "
   ]
  },
  {
   "cell_type": "markdown",
   "id": "dd59a364",
   "metadata": {},
   "source": [
    "## Relational operators"
   ]
  },
  {
   "cell_type": "code",
   "execution_count": null,
   "id": "580a0124",
   "metadata": {},
   "outputs": [],
   "source": [
    "print(13<5)\n",
    "print(13>5)\n",
    "print(13<=5)\n",
    "print(2>=5)\n",
    "print(13==5)\n",
    "print(13 != 5)\n"
   ]
  },
  {
   "cell_type": "markdown",
   "id": "ca4c5a4c",
   "metadata": {},
   "source": [
    "## Logical operators"
   ]
  },
  {
   "cell_type": "code",
   "execution_count": null,
   "id": "8d8e296d",
   "metadata": {},
   "outputs": [],
   "source": [
    "x=10>5 and 4>20 #AND operator\n",
    "print(x)\n",
    "x=10>5 or 4>20 #OR operator\n",
    "print(x)\n",
    "x= not(10<4)\n",
    "print(x)"
   ]
  }
 ],
 "metadata": {
  "kernelspec": {
   "display_name": "Python 3",
   "language": "python",
   "name": "python3"
  },
  "language_info": {
   "codemirror_mode": {
    "name": "ipython",
    "version": 3
   },
   "file_extension": ".py",
   "mimetype": "text/x-python",
   "name": "python",
   "nbconvert_exporter": "python",
   "pygments_lexer": "ipython3",
   "version": "3.8.8"
  }
 },
 "nbformat": 4,
 "nbformat_minor": 5
}
