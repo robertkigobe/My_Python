{
 "cells": [
  {
   "cell_type": "markdown",
   "id": "c612e942",
   "metadata": {},
   "source": [
    "# Python Numpy Package"
   ]
  },
  {
   "cell_type": "code",
   "execution_count": 2,
   "id": "1da18a99",
   "metadata": {},
   "outputs": [],
   "source": [
    "# Numpy is a Python package that stands for “numerical Python.” It is a library consisting of multidimensional array objects and a collection of routines for processing arrays.\n",
    "#The Numpy library is used to apply the following operations:\n",
    "#• Operations related to linear algebra and random number generation\n",
    "#• Mathematical and logical operations on arrays\n",
    "#• Fourier transforms and routines for shape manipulation\n",
    "#For instance, you can create arrays and perform various operations such as adding or subtracting arrays"
   ]
  },
  {
   "cell_type": "markdown",
   "id": "65c10445",
   "metadata": {},
   "source": [
    "## Addition and subtraction of arrays using np.add and np.subtract"
   ]
  },
  {
   "cell_type": "code",
   "execution_count": 4,
   "id": "145113c9",
   "metadata": {},
   "outputs": [
    {
     "data": {
      "text/plain": [
       "array([[ 8, 10, 12],\n",
       "       [14, 16, 18]])"
      ]
     },
     "execution_count": 4,
     "metadata": {},
     "output_type": "execute_result"
    }
   ],
   "source": [
    "import numpy as np\n",
    "#addition of arrays\n",
    "a=np.array([[1,2,3],[4,5,6]])\n",
    "b=np.array([[7,8,9],[10,11,12]])\n",
    "np.add(a,b)"
   ]
  },
  {
   "cell_type": "code",
   "execution_count": 5,
   "id": "12065609",
   "metadata": {},
   "outputs": [
    {
     "data": {
      "text/plain": [
       "array([[-6, -6, -6],\n",
       "       [-6, -6, -6]])"
      ]
     },
     "execution_count": 5,
     "metadata": {},
     "output_type": "execute_result"
    }
   ],
   "source": [
    "#subtraction of arrays\n",
    "np.subtract(a,b) #Same as a-b"
   ]
  },
  {
   "cell_type": "markdown",
   "id": "a06929cb",
   "metadata": {},
   "source": [
    "## Data Cleaning and Manipulation Techniques"
   ]
  },
  {
   "cell_type": "code",
   "execution_count": null,
   "id": "673fb1e7",
   "metadata": {},
   "outputs": [],
   "source": [
    "#Keeping accurate data is highly important for any data scientist. Developing an accurate model and getting accurate predictions from the applied model depend on the missing values treatment. Therefore, handling missing data is important to make models more accurate and valid.\n",
    "#Numerous techniques and approaches are used to handle missing data such as the following:\n",
    "#• Fill NA forward\n",
    "#• Fill NA backward\n",
    "#• Drop missing values\n",
    "#• Replace missing (or) generic values • Replace NaN with a scalar value\n",
    "#The following examples are used to handle the missing values in a tabular data set:\n",
    "#In [31]: dataset.fillna(0) # Fill missing values with zero value \n",
    "#In [35]: dataset.fillna(method='pad') # Fill methods Forward\n",
    "#In [35]: dataset.fillna(method=' bfill') # Fill methods Backward \n",
    "#In [37]: dataset.dropna() # remove all missing data"
   ]
  },
  {
   "cell_type": "markdown",
   "id": "128788cb",
   "metadata": {},
   "source": [
    "## Abstraction of the Series and Data Frame"
   ]
  },
  {
   "cell_type": "code",
   "execution_count": 7,
   "id": "37fd2e7e",
   "metadata": {},
   "outputs": [],
   "source": [
    "# A series is one of the main data structures in Pandas. It differs from lists and dictionaries. An easy way to visualize this is as two columns of data. The first is the special index, a lot like the dictionary keys, while the second is your actual data. "
   ]
  },
  {
   "cell_type": "markdown",
   "id": "b76534fb",
   "metadata": {},
   "source": [
    "### Create a series"
   ]
  },
  {
   "cell_type": "code",
   "execution_count": 8,
   "id": "69082ba6",
   "metadata": {},
   "outputs": [
    {
     "data": {
      "text/plain": [
       "0     Lion\n",
       "1    Tiger\n",
       "2     Bear\n",
       "dtype: object"
      ]
     },
     "execution_count": 8,
     "metadata": {},
     "output_type": "execute_result"
    }
   ],
   "source": [
    "import pandas as pd\n",
    "animals = [\"Lion\", \"Tiger\", \"Bear\"]\n",
    "pd.Series(animals)"
   ]
  },
  {
   "cell_type": "code",
   "execution_count": 9,
   "id": "fe5bf764",
   "metadata": {},
   "outputs": [
    {
     "data": {
      "text/plain": [
       "0    95\n",
       "1    84\n",
       "2    55\n",
       "3    75\n",
       "dtype: int64"
      ]
     },
     "execution_count": 9,
     "metadata": {},
     "output_type": "execute_result"
    }
   ],
   "source": [
    "marks = [95, 84, 55, 75]\n",
    "pd.Series(marks)"
   ]
  },
  {
   "cell_type": "code",
   "execution_count": 10,
   "id": "ce6b2442",
   "metadata": {},
   "outputs": [
    {
     "data": {
      "text/plain": [
       "Robert     75\n",
       "Lillian    84\n",
       "Jackie     70\n",
       "dtype: int64"
      ]
     },
     "execution_count": 10,
     "metadata": {},
     "output_type": "execute_result"
    }
   ],
   "source": [
    "quiz1 = {\"Robert\":75, \"Lillian\": 84, \"Jackie\": 70}\n",
    "q = pd.Series(quiz1)\n",
    "q"
   ]
  },
  {
   "cell_type": "markdown",
   "id": "030dcdf8",
   "metadata": {},
   "source": [
    "### query a series using a series using iloc(index) or loc(label)"
   ]
  },
  {
   "cell_type": "markdown",
   "id": "9e8a87d5",
   "metadata": {},
   "source": [
    "#### loc()"
   ]
  },
  {
   "cell_type": "code",
   "execution_count": 15,
   "id": "d91e211a",
   "metadata": {},
   "outputs": [
    {
     "data": {
      "text/plain": [
       "75"
      ]
     },
     "execution_count": 15,
     "metadata": {},
     "output_type": "execute_result"
    }
   ],
   "source": [
    "q.loc['Robert']\n"
   ]
  },
  {
   "cell_type": "code",
   "execution_count": 16,
   "id": "102e601e",
   "metadata": {},
   "outputs": [
    {
     "data": {
      "text/plain": [
       "75"
      ]
     },
     "execution_count": 16,
     "metadata": {},
     "output_type": "execute_result"
    }
   ],
   "source": [
    "q['Robert']"
   ]
  },
  {
   "cell_type": "markdown",
   "id": "27c8abba",
   "metadata": {},
   "source": [
    "#### iloc()"
   ]
  },
  {
   "cell_type": "code",
   "execution_count": 17,
   "id": "5b204e5a",
   "metadata": {},
   "outputs": [
    {
     "data": {
      "text/plain": [
       "70"
      ]
     },
     "execution_count": 17,
     "metadata": {},
     "output_type": "execute_result"
    }
   ],
   "source": [
    "q.iloc[2]"
   ]
  },
  {
   "cell_type": "code",
   "execution_count": 18,
   "id": "b93f9786",
   "metadata": {},
   "outputs": [
    {
     "data": {
      "text/plain": [
       "70"
      ]
     },
     "execution_count": 18,
     "metadata": {},
     "output_type": "execute_result"
    }
   ],
   "source": [
    "q.iloc[2]"
   ]
  },
  {
   "cell_type": "markdown",
   "id": "4a079e04",
   "metadata": {},
   "source": [
    "## Numpy operation on a series"
   ]
  },
  {
   "cell_type": "code",
   "execution_count": 19,
   "id": "ab84919d",
   "metadata": {},
   "outputs": [
    {
     "data": {
      "text/plain": [
       "0    70\n",
       "1    90\n",
       "2    65\n",
       "3    25\n",
       "4    99\n",
       "dtype: int64"
      ]
     },
     "execution_count": 19,
     "metadata": {},
     "output_type": "execute_result"
    }
   ],
   "source": [
    "import pandas as pd\n",
    "import numpy as np\n",
    "s = pd.Series([70,90,65,25, 99])\n",
    "s"
   ]
  },
  {
   "cell_type": "markdown",
   "id": "a242d12f",
   "metadata": {},
   "source": [
    "### summation using a loop"
   ]
  },
  {
   "cell_type": "code",
   "execution_count": 20,
   "id": "5afe041e",
   "metadata": {},
   "outputs": [
    {
     "name": "stdout",
     "output_type": "stream",
     "text": [
      "349\n"
     ]
    }
   ],
   "source": [
    "total =0\n",
    "for val in s:\n",
    "    total += val\n",
    "print (total)\n"
   ]
  },
  {
   "cell_type": "markdown",
   "id": "813eea33",
   "metadata": {},
   "source": [
    "### Summation using Numpy (faster function)"
   ]
  },
  {
   "cell_type": "code",
   "execution_count": 21,
   "id": "93bc6ebd",
   "metadata": {},
   "outputs": [
    {
     "name": "stdout",
     "output_type": "stream",
     "text": [
      "349\n"
     ]
    }
   ],
   "source": [
    "total = np.sum(s)\n",
    "print (total)"
   ]
  },
  {
   "cell_type": "markdown",
   "id": "58828f63",
   "metadata": {},
   "source": [
    "### Alter a series to add new values"
   ]
  },
  {
   "cell_type": "code",
   "execution_count": 22,
   "id": "e7b91198",
   "metadata": {},
   "outputs": [
    {
     "data": {
      "text/plain": [
       "0         99\n",
       "1         55\n",
       "2         66\n",
       "3         88\n",
       "Robert    85\n",
       "dtype: int64"
      ]
     },
     "execution_count": 22,
     "metadata": {},
     "output_type": "execute_result"
    }
   ],
   "source": [
    "s = pd.Series ([99,55,66,88])\n",
    "s.loc['Robert'] = 85\n",
    "s"
   ]
  },
  {
   "cell_type": "markdown",
   "id": "f6cc32fa",
   "metadata": {},
   "source": [
    "### append two or more series"
   ]
  },
  {
   "cell_type": "code",
   "execution_count": 25,
   "id": "1f724a38",
   "metadata": {},
   "outputs": [
    {
     "data": {
      "text/plain": [
       "0        99\n",
       "1        55\n",
       "2        66\n",
       "3        88\n",
       "Ahmed    85\n",
       "0        95\n",
       "1        84\n",
       "2        55\n",
       "3        75\n",
       "dtype: int64"
      ]
     },
     "execution_count": 25,
     "metadata": {},
     "output_type": "execute_result"
    }
   ],
   "source": [
    "test = [95, 84, 55, 75] #create list\n",
    "marks = pd.Series(test) #create serie 1 out of list\n",
    "s = pd.Series ([99,55,66,88]) #create serie 2\n",
    "s.loc['Ahmed'] = 85 #add value to serie 2\n",
    "NewSeries = s.append(marks) #append seri1 to serie 2\n",
    "NewSeries #print final serie"
   ]
  }
 ],
 "metadata": {
  "kernelspec": {
   "display_name": "Python 3",
   "language": "python",
   "name": "python3"
  },
  "language_info": {
   "codemirror_mode": {
    "name": "ipython",
    "version": 3
   },
   "file_extension": ".py",
   "mimetype": "text/x-python",
   "name": "python",
   "nbconvert_exporter": "python",
   "pygments_lexer": "ipython3",
   "version": "3.8.10"
  }
 },
 "nbformat": 4,
 "nbformat_minor": 5
}
