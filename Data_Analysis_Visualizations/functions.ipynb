{
 "cells": [
  {
   "cell_type": "markdown",
   "id": "6a7e875f",
   "metadata": {},
   "source": [
    "# Functions"
   ]
  },
  {
   "cell_type": "markdown",
   "id": "afea85f1",
   "metadata": {},
   "source": [
    "## basic functions"
   ]
  },
  {
   "cell_type": "code",
   "execution_count": 3,
   "id": "a8e8ee7f",
   "metadata": {},
   "outputs": [
    {
     "name": "stdout",
     "output_type": "stream",
     "text": [
      "This is my first function call\n",
      "This is my second function call\n"
     ]
    }
   ],
   "source": [
    "def printme( str ):\n",
    "   \"This prints a passed string into this function\"\n",
    "   print (str)\n",
    "   return\n",
    "\n",
    "# Now you can call printme function\n",
    "printme(\"This is my first function call\")\n",
    "printme(\"This is my second function call\")"
   ]
  },
  {
   "cell_type": "code",
   "execution_count": 4,
   "id": "00d22c55",
   "metadata": {},
   "outputs": [
    {
     "name": "stdout",
     "output_type": "stream",
     "text": [
      "Values inside the function before change:  [10, 20, 30]\n",
      "Values inside the function after change:  [10, 20, 50]\n",
      "Values outside the function:  [10, 20, 50]\n"
     ]
    }
   ],
   "source": [
    "def changeme( mylist ):\n",
    "   \"This changes a passed list into this function\"\n",
    "   print (\"Values inside the function before change: \", mylist)\n",
    "   \n",
    "   mylist[2]=50\n",
    "   print (\"Values inside the function after change: \", mylist)\n",
    "   return\n",
    "\n",
    "# Now you can call changeme function\n",
    "mylist = [10,20,30]\n",
    "changeme( mylist )\n",
    "print (\"Values outside the function: \", mylist)"
   ]
  },
  {
   "cell_type": "markdown",
   "id": "7b8149c1",
   "metadata": {},
   "source": [
    "## Regular Expressions"
   ]
  },
  {
   "cell_type": "code",
   "execution_count": 6,
   "id": "ae5edc89",
   "metadata": {},
   "outputs": [
    {
     "ename": "FileNotFoundError",
     "evalue": "[Errno 2] No such file or directory: 'Emails.txt'",
     "output_type": "error",
     "traceback": [
      "\u001b[0;31m---------------------------------------------------------------------------\u001b[0m",
      "\u001b[0;31mFileNotFoundError\u001b[0m                         Traceback (most recent call last)",
      "\u001b[0;32m<ipython-input-6-0a938bb3c97e>\u001b[0m in \u001b[0;36m<module>\u001b[0;34m\u001b[0m\n\u001b[0;32m----> 1\u001b[0;31m \u001b[0mfhand\u001b[0m \u001b[0;34m=\u001b[0m \u001b[0mopen\u001b[0m\u001b[0;34m(\u001b[0m\u001b[0;34m'Emails.txt'\u001b[0m\u001b[0;34m)\u001b[0m\u001b[0;34m\u001b[0m\u001b[0;34m\u001b[0m\u001b[0m\n\u001b[0m\u001b[1;32m      2\u001b[0m \u001b[0;32mfor\u001b[0m \u001b[0mline\u001b[0m \u001b[0;32min\u001b[0m \u001b[0mfhand\u001b[0m\u001b[0;34m:\u001b[0m\u001b[0;34m\u001b[0m\u001b[0;34m\u001b[0m\u001b[0m\n\u001b[1;32m      3\u001b[0m     \u001b[0mline\u001b[0m \u001b[0;34m=\u001b[0m \u001b[0mline\u001b[0m\u001b[0;34m.\u001b[0m\u001b[0mrstrip\u001b[0m\u001b[0;34m(\u001b[0m\u001b[0;34m)\u001b[0m\u001b[0;34m\u001b[0m\u001b[0;34m\u001b[0m\u001b[0m\n\u001b[1;32m      4\u001b[0m     \u001b[0;32mif\u001b[0m \u001b[0;32mnot\u001b[0m \u001b[0;34m'@uct.ac.za'\u001b[0m \u001b[0;32min\u001b[0m \u001b[0mline\u001b[0m \u001b[0;34m:\u001b[0m\u001b[0;34m\u001b[0m\u001b[0;34m\u001b[0m\u001b[0m\n\u001b[1;32m      5\u001b[0m         \u001b[0;32mcontinue\u001b[0m\u001b[0;34m\u001b[0m\u001b[0;34m\u001b[0m\u001b[0m\n",
      "\u001b[0;31mFileNotFoundError\u001b[0m: [Errno 2] No such file or directory: 'Emails.txt'"
     ]
    }
   ],
   "source": [
    "fhand = open('Emails.txt')\n",
    "for line in fhand:\n",
    "    line = line.rstrip()\n",
    "    if not '@uct.ac.za' in line :\n",
    "        continue\n",
    "        print (line)"
   ]
  },
  {
   "cell_type": "code",
   "execution_count": null,
   "id": "211c6699",
   "metadata": {},
   "outputs": [],
   "source": [
    "print(\"\\nSearching Through a File\\n\")\n",
    "fhand = open('Emails.txt')\n",
    "for line in fhand:\n",
    "    line = line.rstrip()\n",
    "    if line.startswith('From:') :\n",
    "        print (line)"
   ]
  },
  {
   "cell_type": "code",
   "execution_count": null,
   "id": "711af9a6",
   "metadata": {},
   "outputs": [],
   "source": [
    "# ext starting with a capital X followed by any character repeated zero or more times and ending with a colon (:)."
   ]
  },
  {
   "cell_type": "code",
   "execution_count": null,
   "id": "44110058",
   "metadata": {},
   "outputs": [],
   "source": [
    "import re\n",
    "print (\"\\nRegular Expressions\\n'^X.*:' \\n\") hand =\n",
    "open('Data.txt')\n",
    "for line in hand:\n",
    "    line = line.rstrip()\n",
    "    y = re.findall('^X.*:',line)\n",
    "    print (y)\n"
   ]
  },
  {
   "cell_type": "code",
   "execution_count": 8,
   "id": "49027b43",
   "metadata": {},
   "outputs": [
    {
     "name": "stdout",
     "output_type": "stream",
     "text": [
      "\n",
      " Matching and Extracting Data \n",
      "\n",
      "['2', '19', '42']\n"
     ]
    }
   ],
   "source": [
    "#Extracting Numerical Values and Specific Characters\n",
    "import re\n",
    "print (\"\\n Matching and Extracting Data \\n\")\n",
    "x = 'My 2 favorite numbers are 19 and 42'\n",
    "y = re.findall('[0-9]+',x)\n",
    "print (y)"
   ]
  },
  {
   "cell_type": "code",
   "execution_count": 10,
   "id": "1ac99630",
   "metadata": {},
   "outputs": [
    {
     "name": "stdout",
     "output_type": "stream",
     "text": [
      "\n",
      "Greedy Matching \n",
      "\n",
      "['From: Using the :']\n"
     ]
    }
   ],
   "source": [
    "#Python finds a string starting with F and containing any number of characters up to a colon and then stops when it reaches the end of the line. \n",
    "import re\n",
    "print (\"\\nGreedy Matching \\n\")\n",
    "x = 'From: Using the : character'\n",
    "y = re.findall('^F.+:', x)\n",
    "print (y)\n",
    "         "
   ]
  },
  {
   "cell_type": "code",
   "execution_count": 11,
   "id": "d151f41b",
   "metadata": {},
   "outputs": [
    {
     "name": "stdout",
     "output_type": "stream",
     "text": [
      "\n",
      "Non-Greedy Matching \n",
      "\n",
      "['From:']\n"
     ]
    }
   ],
   "source": [
    "# In the second example, re.findall('^F.+?:', x) asks Python to retrieve characters starting with an F and ending with the first occurrence of a delimiter, which is a colon regardless of whether it reached the end of the line or not.\n",
    "print (\"\\nNon-Greedy Matching \\n\")\n",
    "x = 'From: Using the : character'\n",
    "y = re.findall('^F.+?:', x)\n",
    "print (y)"
   ]
  },
  {
   "cell_type": "markdown",
   "id": "9ac90df7",
   "metadata": {},
   "source": [
    "## The Use of Methods vs. Regular Expressions"
   ]
  },
  {
   "cell_type": "code",
   "execution_count": 13,
   "id": "0a992d3d",
   "metadata": {},
   "outputs": [
    {
     "name": "stdout",
     "output_type": "stream",
     "text": [
      "\n",
      "Fine-Tuning String Extraction \n",
      "\n",
      "['ossama.embarak@hct.ac.ae']\n",
      "['ossama.embarak@hct.ac.ae']\n",
      "ossama.embarak@hct.ac.ae\n"
     ]
    }
   ],
   "source": [
    "import re\n",
    "print (\"\\nFine-Tuning String Extraction \\n\")\n",
    "mystr=\"From ossama.embarak@hct.ac.ae Sat Jun 5 08:14:16 2018\" \n",
    "Extract = re.findall('\\S+@\\S+',mystr)\n",
    "print (Extract)\n",
    "E_xtracted = re.findall('^From.*? (\\S+@\\S+)',mystr)\n",
    "print (E_xtracted)\n",
    "print (E_xtracted[0])"
   ]
  },
  {
   "cell_type": "code",
   "execution_count": 14,
   "id": "759d6c2c",
   "metadata": {},
   "outputs": [
    {
     "name": "stdout",
     "output_type": "stream",
     "text": [
      "hct.ac.ae\n",
      "ossama.embarak\n"
     ]
    }
   ],
   "source": [
    "mystr=\"From ossama.embarak@hct.ac.ae Sat Jun 5 08:14:16 2018\"\n",
    "atpos = mystr.find('@')\n",
    "sppos = mystr.find(' ',atpos) # find white space starting from atpos\n",
    "host = mystr[atpos+1 : sppos]\n",
    "print (host)\n",
    "usernamepos = mystr.find(' ')\n",
    "username = mystr[usernamepos+1 : atpos]\n",
    "print (username)"
   ]
  },
  {
   "cell_type": "code",
   "execution_count": 15,
   "id": "9e5a8edf",
   "metadata": {},
   "outputs": [
    {
     "name": "stdout",
     "output_type": "stream",
     "text": [
      "\n",
      " The Regex Version\n",
      "\n",
      "['hct.ac.ae']\n",
      "['hct.ac.ae']\n"
     ]
    }
   ],
   "source": [
    "print (\"\\n The Regex Version\\n\")\n",
    "import re\n",
    "mystr=\"From ossama.embarak@hct.ac.ae Sat Jun 5 08:14:16 2018\"\n",
    "Extract = re.findall('@([^ ]*)',mystr)\n",
    "print (Extract)\n",
    "Extract = re.findall('^From .*@([^ ]*)',mystr)\n",
    "print (Extract)"
   ]
  },
  {
   "cell_type": "code",
   "execution_count": 16,
   "id": "20cbb551",
   "metadata": {},
   "outputs": [
    {
     "name": "stdout",
     "output_type": "stream",
     "text": [
      "\n",
      "Scape character \n",
      "\n",
      "['$10.00', '$20.23']\n"
     ]
    }
   ],
   "source": [
    "print (\"\\nScape character \\n\")\n",
    "mystr = 'We just received $10.00 for cookies and $20.23 for juice'\n",
    "Extract = re.findall('\\$[0-9.]+',mystr)\n",
    "print (Extract)\n",
    "         "
   ]
  },
  {
   "cell_type": "code",
   "execution_count": null,
   "id": "337786d2",
   "metadata": {},
   "outputs": [],
   "source": []
  }
 ],
 "metadata": {
  "kernelspec": {
   "display_name": "Python 3",
   "language": "python",
   "name": "python3"
  },
  "language_info": {
   "codemirror_mode": {
    "name": "ipython",
    "version": 3
   },
   "file_extension": ".py",
   "mimetype": "text/x-python",
   "name": "python",
   "nbconvert_exporter": "python",
   "pygments_lexer": "ipython3",
   "version": "3.8.10"
  }
 },
 "nbformat": 4,
 "nbformat_minor": 5
}
