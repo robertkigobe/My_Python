{
 "cells": [
  {
   "cell_type": "markdown",
   "id": "332dabdc",
   "metadata": {},
   "source": [
    "# Python_Lambdas"
   ]
  },
  {
   "cell_type": "code",
   "execution_count": 26,
   "id": "b6f1de5a",
   "metadata": {},
   "outputs": [],
   "source": [
    "# The lambda operator is a way to create small anonymous functions\n",
    "# Lambda functions are used in combination with the functions filter(), map(), and reduce(). \n",
    "#Anonymous functions refer to functions that aren’t named and are created by using the keyword lambda. \n",
    "#A lambda is created without using the def keyword; it takes any number of arguments and returns an evaluated expression"
   ]
  },
  {
   "cell_type": "markdown",
   "id": "0f98fcb6",
   "metadata": {},
   "source": [
    "## Anonymous Function Definition"
   ]
  },
  {
   "cell_type": "code",
   "execution_count": 27,
   "id": "32676fb6",
   "metadata": {},
   "outputs": [
    {
     "name": "stdout",
     "output_type": "stream",
     "text": [
      "The summation of 7 + 10 =  17\n"
     ]
    }
   ],
   "source": [
    "\n",
    "summation=lambda val1, val2: val1 + val2#Call summation as a function\n",
    "print (\"The summation of 7 + 10 = \", summation(7,10) )"
   ]
  },
  {
   "cell_type": "code",
   "execution_count": 28,
   "id": "e0941c1e",
   "metadata": {},
   "outputs": [
    {
     "data": {
      "text/plain": [
       "10"
      ]
     },
     "execution_count": 28,
     "metadata": {},
     "output_type": "execute_result"
    }
   ],
   "source": [
    "result = lambda x, y : x * y\n",
    "result(2,5)\n"
   ]
  },
  {
   "cell_type": "markdown",
   "id": "656046ab",
   "metadata": {},
   "source": [
    "## The map() Function"
   ]
  },
  {
   "cell_type": "code",
   "execution_count": 29,
   "id": "1642e9db",
   "metadata": {},
   "outputs": [],
   "source": [
    "#The map() function is used to apply a specific function on a sequence of data. The map() function has two arguments.\n",
    "#r = map(func, seq)"
   ]
  },
  {
   "cell_type": "code",
   "execution_count": 30,
   "id": "a0d43119",
   "metadata": {},
   "outputs": [
    {
     "name": "stdout",
     "output_type": "stream",
     "text": [
      "Fahrenheit of (15.8, 25, 30.5,25) is:  [60.44, 77.0, 86.9, 77.0]\n",
      "Celsius of  [60.44, 77.0, 86.9, 77.0]  is:  [15.799999999999999, 25.0, 30.500000000000004, 25.0]\n"
     ]
    }
   ],
   "source": [
    "def fahrenheit(T):\n",
    "    return ((float(9)/5)*T + 32)\n",
    "def celsius(T):\n",
    "    return (float(5)/9)*(T-32)\n",
    "Temp = (15.8, 25, 30.5,25)\n",
    "F = list ( map(fahrenheit, Temp))\n",
    "C = list ( map(celsius, F))\n",
    "print (\"Fahrenheit of (15.8, 25, 30.5,25) is: \" ,  F)\n",
    "print (\"Celsius of \", F, \" is: \", C)"
   ]
  },
  {
   "cell_type": "code",
   "execution_count": 31,
   "id": "6ee5d595",
   "metadata": {},
   "outputs": [
    {
     "name": "stdout",
     "output_type": "stream",
     "text": [
      "102.56\n",
      "97.7\n",
      "99.14\n",
      "100.03999999999999\n"
     ]
    }
   ],
   "source": [
    "Celsius = [39.2, 36.5, 37.3, 37.8]\n",
    "Fahrenheit = map(lambda x: (float(9)/5)*x + 32, Celsius)\n",
    "for x in Fahrenheit:\n",
    "    print(x)"
   ]
  },
  {
   "cell_type": "markdown",
   "id": "61d0ab06",
   "metadata": {},
   "source": [
    "## The filter() Function"
   ]
  },
  {
   "cell_type": "code",
   "execution_count": 32,
   "id": "81d27cfd",
   "metadata": {},
   "outputs": [],
   "source": [
    "# The filter() function is an elegant way to filter out all elements of a list for which the applied function returns true."
   ]
  },
  {
   "cell_type": "code",
   "execution_count": 33,
   "id": "107dff20",
   "metadata": {},
   "outputs": [
    {
     "name": "stdout",
     "output_type": "stream",
     "text": [
      "0\n",
      "2\n",
      "8\n",
      "34\n",
      "78\n",
      "56\n"
     ]
    }
   ],
   "source": [
    "fib = [0,1,1,2,3,5,8,13,21,34,55,78,56,55]\n",
    "result = filter(lambda x: x % 2==0, fib)\n",
    "for x in result:\n",
    "    print(x)"
   ]
  },
  {
   "cell_type": "markdown",
   "id": "863318ce",
   "metadata": {},
   "source": [
    "## The reduce () Function"
   ]
  },
  {
   "cell_type": "code",
   "execution_count": 34,
   "id": "ba2e28c4",
   "metadata": {},
   "outputs": [],
   "source": [
    "# The reduce() function continually applies the function func to a sequence seq and returns a single value."
   ]
  },
  {
   "cell_type": "code",
   "execution_count": 35,
   "id": "153d4f3a",
   "metadata": {},
   "outputs": [
    {
     "data": {
      "text/plain": [
       "102"
      ]
     },
     "execution_count": 35,
     "metadata": {},
     "output_type": "execute_result"
    }
   ],
   "source": [
    "import functools\n",
    "\n",
    "f = lambda a,b: a if (a > b) else b #iterate and return the greatest number\n",
    "functools.reduce(f, [47,11,42,102,13])"
   ]
  },
  {
   "cell_type": "code",
   "execution_count": 36,
   "id": "402dbbf1",
   "metadata": {},
   "outputs": [
    {
     "data": {
      "text/plain": [
       "113"
      ]
     },
     "execution_count": 36,
     "metadata": {},
     "output_type": "execute_result"
    }
   ],
   "source": [
    "functools.reduce(lambda x,y: x+y, [47,11,42,13])"
   ]
  }
 ],
 "metadata": {
  "kernelspec": {
   "display_name": "Python 3",
   "language": "python",
   "name": "python3"
  },
  "language_info": {
   "codemirror_mode": {
    "name": "ipython",
    "version": 3
   },
   "file_extension": ".py",
   "mimetype": "text/x-python",
   "name": "python",
   "nbconvert_exporter": "python",
   "pygments_lexer": "ipython3",
   "version": "3.8.10"
  }
 },
 "nbformat": 4,
 "nbformat_minor": 5
}
