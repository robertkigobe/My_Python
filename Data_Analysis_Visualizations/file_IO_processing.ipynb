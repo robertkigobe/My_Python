{
 "cells": [
  {
   "cell_type": "markdown",
   "id": "3d87bb3e",
   "metadata": {},
   "source": [
    "# File I/O Processing and Regular Expressions"
   ]
  },
  {
   "cell_type": "code",
   "execution_count": 9,
   "id": "6ffe46ea",
   "metadata": {},
   "outputs": [],
   "source": [
    "# You can read data from a user using the input() function. Received data by default is in text format."
   ]
  },
  {
   "cell_type": "code",
   "execution_count": 3,
   "id": "82f08b3c",
   "metadata": {},
   "outputs": [
    {
     "name": "stdout",
     "output_type": "stream",
     "text": [
      "Enter your name: Robert Kigobe\n"
     ]
    },
    {
     "data": {
      "text/plain": [
       "'Robert Kigobe'"
      ]
     },
     "execution_count": 3,
     "metadata": {},
     "output_type": "execute_result"
    }
   ],
   "source": [
    "Name = input (\"Enter your name: \")\n",
    "Name"
   ]
  },
  {
   "cell_type": "code",
   "execution_count": 4,
   "id": "c92a8732",
   "metadata": {},
   "outputs": [
    {
     "name": "stdout",
     "output_type": "stream",
     "text": [
      "Enter your mark: 45\n"
     ]
    },
    {
     "data": {
      "text/plain": [
       "45.0"
      ]
     },
     "execution_count": 4,
     "metadata": {},
     "output_type": "execute_result"
    }
   ],
   "source": [
    "Mark = input(\"Enter your mark: \") \n",
    "Mark = float(Mark)\n",
    "Mark"
   ]
  },
  {
   "cell_type": "code",
   "execution_count": 8,
   "id": "c8e64cbb",
   "metadata": {},
   "outputs": [
    {
     "name": "stdout",
     "output_type": "stream",
     "text": [
      "Welcome to Grading System \n",
      "HCT 2018\n",
      "\n",
      "Campus\t Name\t\tMark\tGrade\n"
     ]
    }
   ],
   "source": [
    "print (\"Welcome to Grading System \\nHCT 2018\")\n",
    "print (\"\\nCampus\\t Name\\t\\tMark\\tGrade\")\n",
    "if (Mark>=80):\n",
    "    Grade=\"B+\"\n",
    "    print (\"FMC\\t\", Name,\"\\t\",Mark,\"\\t\", Grade)"
   ]
  },
  {
   "cell_type": "markdown",
   "id": "bceb3cf3",
   "metadata": {},
   "source": [
    "## Opening and Closing Files"
   ]
  },
  {
   "cell_type": "code",
   "execution_count": 10,
   "id": "66868726",
   "metadata": {},
   "outputs": [],
   "source": [
    "# Python’s built-in open() function is used to open a file stored on a computer hard disk or in the cloud. Here’s its syntax:\n",
    "# file object = open(file_name [, access_mode][, buffering])\n"
   ]
  },
  {
   "cell_type": "markdown",
   "id": "3365a57d",
   "metadata": {},
   "source": [
    "### Opening"
   ]
  },
  {
   "cell_type": "code",
   "execution_count": 13,
   "id": "852e1cdc",
   "metadata": {},
   "outputs": [
    {
     "name": "stdout",
     "output_type": "stream",
     "text": [
      "Name of the file:  egypt.txt\n",
      "Closed or not :  False\n",
      "Opening mode :  r\n"
     ]
    }
   ],
   "source": [
    "Filehndl = open(\"egypt.txt\", \"r\")\n",
    "print (\"Name of the file: \", Filehndl.name)\n",
    "print (\"Closed or not : \", Filehndl.closed)\n",
    "print (\"Opening mode : \", Filehndl.mode)"
   ]
  },
  {
   "cell_type": "markdown",
   "id": "c5811d42",
   "metadata": {},
   "source": [
    "### Closinging"
   ]
  },
  {
   "cell_type": "code",
   "execution_count": 15,
   "id": "c9caaf03",
   "metadata": {},
   "outputs": [
    {
     "name": "stdout",
     "output_type": "stream",
     "text": [
      "Closed or not :  False\n",
      "Closed or not :  True\n"
     ]
    }
   ],
   "source": [
    "Filehndl = open(\"egypt.txt\", \"r\")\n",
    "print (\"Closed or not : \", Filehndl.closed)\n",
    "Filehndl.close()\n",
    "print (\"Closed or not : \", Filehndl.closed)"
   ]
  },
  {
   "cell_type": "markdown",
   "id": "4c7164ff",
   "metadata": {},
   "source": [
    "## Reading and Writing to Files"
   ]
  },
  {
   "cell_type": "code",
   "execution_count": 14,
   "id": "fb8188fd",
   "metadata": {},
   "outputs": [],
   "source": [
    "# The file.write() method is used to write to a file as shown in below figure, and the file.read() method is used to read data from an opened file. A file can be opened for writing (W), reading (r), or both (r+), "
   ]
  },
  {
   "cell_type": "code",
   "execution_count": 16,
   "id": "8f8461ac",
   "metadata": {},
   "outputs": [],
   "source": [
    "Filehndl = open(\"Egypt.txt\", \"w+\") #allows you to open and write to a file\n",
    "Filehndl.write( \"Python Processing Files\\nMay 2021!!\\n\")\n",
    "# Close opend file\n",
    "Filehndl.close()"
   ]
  },
  {
   "cell_type": "code",
   "execution_count": 18,
   "id": "564f841e",
   "metadata": {},
   "outputs": [
    {
     "name": "stdout",
     "output_type": "stream",
     "text": [
      "['Eastern', 'Cape', 'Bhisho', 'Port', 'Elizabeth', '168,966', '6,996,976']\n",
      "['Free', 'State', 'Bloemfontein', 'Bloemfontein', '129,825', '2,834,714']\n",
      "['Gauteng', 'Johannesburg', 'Johannesburg', '18,178', '13,399,724']\n",
      "['KwaZulu-Natal', 'Pietermaritzburg', 'Durban', '94,361', '11,065,240']\n",
      "['Limpopo', 'Polokwane', 'Polokwane', '125,754', '5,799,090']\n",
      "['Mpumalanga', 'Mbombela', 'Mbombela', '76,495', '4,335,964']\n",
      "['North', 'West', 'Mahikeng', 'Klerksdorp', '104,882', '3,748,435']\n",
      "['Northern', 'Cape', 'Kimberley', 'Kimberley', '372,889', '1,193,780']\n",
      "['Western', 'Cape', 'Cape', 'Town', 'Cape', 'Town', '129,462', '6,279,730']\n"
     ]
    }
   ],
   "source": [
    "fileHandler2 = open(\"south_africa.txt\", \"r\")\n",
    "for line in fileHandler2:\n",
    "    List = line.split()\n",
    "    print(List)"
   ]
  },
  {
   "cell_type": "code",
   "execution_count": 17,
   "id": "4f602603",
   "metadata": {},
   "outputs": [],
   "source": [
    "import os\n",
    "os.rename( \"Egypt.txt\", \"sudan.txt\" )\n",
    "os.remove( \"sudan.txt\" )"
   ]
  },
  {
   "cell_type": "markdown",
   "id": "381f6333",
   "metadata": {},
   "source": [
    "## Directories in Python"
   ]
  },
  {
   "cell_type": "code",
   "execution_count": 22,
   "id": "5772c420",
   "metadata": {},
   "outputs": [],
   "source": [
    "import os\n",
    "os.mkdir(\"Data 4\") # create a directory\n",
    "os.mkdir(\"Data_5\")\n",
    "os.getcwd()            # Get the current working directory\n",
    "os.rmdir('Data 1') # remove a directory\n"
   ]
  },
  {
   "cell_type": "code",
   "execution_count": 23,
   "id": "a3123cce",
   "metadata": {},
   "outputs": [
    {
     "data": {
      "text/plain": [
       "'/Users/robertkigobe/Documents/My_Research/My_Python/Data_Analysis_Visualizations'"
      ]
     },
     "execution_count": 23,
     "metadata": {},
     "output_type": "execute_result"
    }
   ],
   "source": [
    "os.getcwd() "
   ]
  },
  {
   "cell_type": "code",
   "execution_count": null,
   "id": "63fa1f3b",
   "metadata": {},
   "outputs": [],
   "source": []
  }
 ],
 "metadata": {
  "kernelspec": {
   "display_name": "Python 3",
   "language": "python",
   "name": "python3"
  },
  "language_info": {
   "codemirror_mode": {
    "name": "ipython",
    "version": 3
   },
   "file_extension": ".py",
   "mimetype": "text/x-python",
   "name": "python",
   "nbconvert_exporter": "python",
   "pygments_lexer": "ipython3",
   "version": "3.8.10"
  }
 },
 "nbformat": 4,
 "nbformat_minor": 5
}
