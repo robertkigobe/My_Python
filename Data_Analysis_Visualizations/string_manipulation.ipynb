{
 "cells": [
  {
   "cell_type": "markdown",
   "id": "7fec294d",
   "metadata": {},
   "source": [
    "# String Manipulation"
   ]
  },
  {
   "cell_type": "markdown",
   "id": "57b038f9",
   "metadata": {},
   "source": [
    "## String loops"
   ]
  },
  {
   "cell_type": "code",
   "execution_count": 2,
   "id": "ccdbe220",
   "metadata": {},
   "outputs": [
    {
     "name": "stdout",
     "output_type": "stream",
     "text": [
      "0 b\n",
      "1 a\n",
      "2 n\n",
      "3 a\n",
      "4 n\n",
      "5 a\n"
     ]
    }
   ],
   "source": [
    "fruit ='banana'\n",
    "index=0\n",
    "while index< len(fruit):\n",
    "    letter = fruit [index]\n",
    "    print (index, letter)\n",
    "    index=index+1"
   ]
  },
  {
   "cell_type": "markdown",
   "id": "0437aee9",
   "metadata": {},
   "source": [
    "## String Slicing"
   ]
  },
  {
   "cell_type": "code",
   "execution_count": 3,
   "id": "95d83a2b",
   "metadata": {},
   "outputs": [
    {
     "name": "stdout",
     "output_type": "stream",
     "text": [
      "Welc\n",
      "e\n",
      "e to Higher Co\n",
      "Welcome to H\n",
      "lcome to Higher Colleges of Technology\n",
      "Welcome to Higher Colleges of Technology\n",
      "Welcome to Higher Colleges of Technology\n"
     ]
    }
   ],
   "source": [
    "s=\"Welcome to Higher Colleges of Technology\"\n",
    "print (s[0:4]) #first 4 letters\n",
    "print (s[6:7]) #starting from 6th to 7th \n",
    "print (s[6:20]) #starting from 6th to 20th\n",
    "print (s[:12]) #first 12 letters\n",
    "print (s[2:]) #all after 2nd letter\n",
    "print (s [:]) #everyting \n",
    "print (s)     #everything"
   ]
  },
  {
   "cell_type": "markdown",
   "id": "b4d3d939",
   "metadata": {},
   "source": [
    "## String conversion"
   ]
  },
  {
   "cell_type": "code",
   "execution_count": 4,
   "id": "47e6befe",
   "metadata": {},
   "outputs": [
    {
     "name": "stdout",
     "output_type": "stream",
     "text": [
      "124\n"
     ]
    }
   ],
   "source": [
    "str3 = '123'\n",
    "str3= int (str3)+1\n",
    "print (str3)"
   ]
  },
  {
   "cell_type": "markdown",
   "id": "4a4fa338",
   "metadata": {},
   "source": [
    "## String functions and methods"
   ]
  },
  {
   "cell_type": "code",
   "execution_count": 13,
   "id": "cf903867",
   "metadata": {},
   "outputs": [
    {
     "name": "stdout",
     "output_type": "stream",
     "text": [
      " HIGHER COLLEGES OF TECHNOLOGY \n",
      " higher colleges of technology \n",
      "31\n",
      "3\n",
      "True\n",
      "False\n",
      "4\n",
      "Higher Colleges of Technology \n",
      " Higher Colleges of Technology\n",
      "Higher Colleges of Technology\n",
      "\n",
      "\n",
      " Higher University of Technology \n"
     ]
    }
   ],
   "source": [
    "var1 =' Higher Colleges of Technology '\n",
    "var2='College'\n",
    "var3='g'\n",
    "print (var1.upper())  #capitalize\n",
    "print (var1.lower())  #to lower case\n",
    "print (len(var1)) #length of string\n",
    "print (var1.count(var3) ) # find how many g letters in var1\n",
    "print (var1.endswith(' '))\n",
    "print (var1.startswith('O'))\n",
    "print (var1.find('h', 0, 29))\n",
    "print (var1.lstrip()) # It removes all leading whitespace of a string in var1\n",
    "print (var1.rstrip()) # It removes all trailingwhitespace of a string in var1\n",
    "print (var1.strip()) # It removes all leading andtrailing whitespace\n",
    "print ('\\n') #empty line\n",
    "print (var1.replace('Colleges', 'University')) #replaces the word\n",
    "\n"
   ]
  },
  {
   "cell_type": "markdown",
   "id": "8885ca3b",
   "metadata": {},
   "source": [
    "## Parsing and Extracting strings"
   ]
  },
  {
   "cell_type": "code",
   "execution_count": 15,
   "id": "437c8f57",
   "metadata": {},
   "outputs": [
    {
     "name": "stdout",
     "output_type": "stream",
     "text": [
      "\n",
      "<<<<<<<<<<<<<<>>>>>>>>>>>>>\n",
      "19\n",
      "From ossama.embarak\n",
      "['From', 'ossama.embarak']\n",
      "OSSAMA EMBARAK\n",
      "\n",
      "<<<<<<<<<<<<<<>>>>>>>>>>>>>\n"
     ]
    }
   ],
   "source": [
    "Maindata = 'From ossama.embarak@hct.ac.ae Sunday Jan 4 09:30:50 2017' \n",
    "atpost = Maindata.find('@') #first occurence of @\n",
    "print (\"\\n<<<<<<<<<<<<<<>>>>>>>>>>>>>\")\n",
    "print (atpost)#firt 19 chracters\n",
    "print (Maindata[ :atpost]) #create and print array of first 19\n",
    "data = Maindata[ :atpost]\n",
    "name=data.split(' ')\n",
    "print (name)\n",
    "print (name[1].replace('.', ' ').upper())\n",
    "print (\"\\n<<<<<<<<<<<<<<>>>>>>>>>>>>>\")"
   ]
  }
 ],
 "metadata": {
  "kernelspec": {
   "display_name": "Python 3",
   "language": "python",
   "name": "python3"
  },
  "language_info": {
   "codemirror_mode": {
    "name": "ipython",
    "version": 3
   },
   "file_extension": ".py",
   "mimetype": "text/x-python",
   "name": "python",
   "nbconvert_exporter": "python",
   "pygments_lexer": "ipython3",
   "version": "3.8.8"
  }
 },
 "nbformat": 4,
 "nbformat_minor": 5
}
