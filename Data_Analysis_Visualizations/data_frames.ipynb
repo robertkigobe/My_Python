{
 "cells": [
  {
   "cell_type": "code",
   "execution_count": 1,
   "id": "be906c7a",
   "metadata": {},
   "outputs": [
    {
     "data": {
      "text/plain": [
       "'/Users/robertkigobe/Documents/My_Research/My_Python/Data_Analysis_Visualizations'"
      ]
     },
     "execution_count": 1,
     "metadata": {},
     "output_type": "execute_result"
    }
   ],
   "source": [
    "pwd"
   ]
  },
  {
   "cell_type": "markdown",
   "id": "a06a1937",
   "metadata": {},
   "source": [
    "# Dataframes Data Structures"
   ]
  },
  {
   "cell_type": "code",
   "execution_count": 2,
   "id": "7e82bdb1",
   "metadata": {},
   "outputs": [],
   "source": [
    "#  a data frame is a two-dimensional data structure with heterogeneous data types, i.e., tabular data.\n",
    "#DataFrame(data, index, columns, dtype, copy)"
   ]
  },
  {
   "cell_type": "markdown",
   "id": "12b4cf7a",
   "metadata": {},
   "source": [
    "## Creating a Data Frame from a List"
   ]
  },
  {
   "cell_type": "code",
   "execution_count": 4,
   "id": "83b5c04d",
   "metadata": {},
   "outputs": [
    {
     "name": "stdout",
     "output_type": "stream",
     "text": [
      "    0\n",
      "0  10\n",
      "1  20\n",
      "2  30\n",
      "3  40\n",
      "4  50\n"
     ]
    }
   ],
   "source": [
    "import pandas as pd\n",
    "data = [10,20,30,40,50]\n",
    "DF1 = pd.DataFrame(data)\n",
    "print (DF1)"
   ]
  },
  {
   "cell_type": "code",
   "execution_count": 5,
   "id": "227d871b",
   "metadata": {},
   "outputs": [
    {
     "name": "stdout",
     "output_type": "stream",
     "text": [
      "     Name  Age\n",
      "0  Ossama   25\n",
      "1     Ali   43\n",
      "2    Ziad   32\n"
     ]
    }
   ],
   "source": [
    "import pandas as pd\n",
    "data = [['Ossama',25],['Ali',43],['Ziad',32]]\n",
    "DF1 = pd.DataFrame(data,columns=['Name','Age'])\n",
    "print (DF1)"
   ]
  },
  {
   "cell_type": "markdown",
   "id": "39a9850e",
   "metadata": {},
   "source": [
    "## Creating a DataFrame from a Dictionary"
   ]
  },
  {
   "cell_type": "code",
   "execution_count": 10,
   "id": "ee7cf441",
   "metadata": {},
   "outputs": [
    {
     "name": "stdout",
     "output_type": "stream",
     "text": [
      "        Test2  Project  Test1\n",
      "First      20      NaN     10\n",
      "Second     20     20.0     30\n",
      "\n",
      "\n",
      "        Project  Test_1  Test2 \n",
      "First       NaN     NaN     NaN\n",
      "Second     20.0     NaN     NaN\n"
     ]
    }
   ],
   "source": [
    "import pandas as pd\n",
    "data = [{'Test1': 10, 'Test2': 20},{'Test1': 30, 'Test2': 20, 'Project': 20}]\n",
    "# With three column indices, values same as dictionary keys\n",
    "df1 = pd.DataFrame(data, index=['First', 'Second'], columns=['Test2', 'Project' , 'Test1'])\n",
    "         \n",
    "#With two column indices with one index with another name\n",
    "df2 = pd.DataFrame(data, index=['First', 'Second'],columns=['Project', 'Test_1','Test2 '])\n",
    "print (df1)\n",
    "print (\"\\n\")\n",
    "print (df2)"
   ]
  },
  {
   "cell_type": "markdown",
   "id": "1685a928",
   "metadata": {},
   "source": [
    "## Creating a Data Frame from a Series\n"
   ]
  },
  {
   "cell_type": "code",
   "execution_count": 11,
   "id": "b2841dd0",
   "metadata": {},
   "outputs": [
    {
     "name": "stdout",
     "output_type": "stream",
     "text": [
      "       Test1  Test2\n",
      "Ahmed   70.0     56\n",
      "Ali     89.0     77\n",
      "Omar    55.0     82\n",
      "Salwa    NaN     65\n"
     ]
    }
   ],
   "source": [
    "import pandas as pd\n",
    "data = {'Test1' : pd.Series([70, 55, 89],\n",
    "index=['Ahmed', 'Omar', 'Ali']),'Test2' : pd.Series([56, 82, 77, 65],\n",
    "index=['Ahmed', 'Omar', 'Ali', 'Salwa'])}\n",
    "df1 = pd.DataFrame(data)\n",
    "print (df1)"
   ]
  },
  {
   "cell_type": "markdown",
   "id": "0503c6b1",
   "metadata": {},
   "source": [
    "## Updating and Accessing a Data Frame’s Column Selection"
   ]
  },
  {
   "cell_type": "code",
   "execution_count": 12,
   "id": "6a35c263",
   "metadata": {},
   "outputs": [
    {
     "name": "stdout",
     "output_type": "stream",
     "text": [
      "Ahmed    56\n",
      "Ali      77\n",
      "Omar     82\n",
      "Salwa    65\n",
      "Name: Test2, dtype: int64\n",
      "\n",
      "\n",
      "       Test1  Test2\n",
      "Ahmed   70.0     56\n",
      "Ali     89.0     77\n",
      "Omar    55.0     82\n",
      "Salwa    NaN     65\n"
     ]
    }
   ],
   "source": [
    "import pandas as pd\n",
    "data = {'Test1' : pd.Series([70, 55, 89],\n",
    "                 index=['Ahmed', 'Omar', 'Ali']),\n",
    "                 'Test2' : pd.Series([56, 82, 77, 65],\n",
    "                 index=['Ahmed', 'Omar', 'Ali', 'Salwa'])}\n",
    "df1 = pd.DataFrame(data)\n",
    "print (df1['Test2']) # Column selection\n",
    "print(\"\\n\")\n",
    "print (df1[:]) # Column selection"
   ]
  },
  {
   "cell_type": "markdown",
   "id": "37e52267",
   "metadata": {},
   "source": [
    "### Data Frame Column and Row Selection"
   ]
  },
  {
   "cell_type": "code",
   "execution_count": 13,
   "id": "36386a23",
   "metadata": {},
   "outputs": [
    {
     "data": {
      "text/html": [
       "<div>\n",
       "<style scoped>\n",
       "    .dataframe tbody tr th:only-of-type {\n",
       "        vertical-align: middle;\n",
       "    }\n",
       "\n",
       "    .dataframe tbody tr th {\n",
       "        vertical-align: top;\n",
       "    }\n",
       "\n",
       "    .dataframe thead th {\n",
       "        text-align: right;\n",
       "    }\n",
       "</style>\n",
       "<table border=\"1\" class=\"dataframe\">\n",
       "  <thead>\n",
       "    <tr style=\"text-align: right;\">\n",
       "      <th></th>\n",
       "      <th>Test2</th>\n",
       "      <th>Test1</th>\n",
       "    </tr>\n",
       "  </thead>\n",
       "  <tbody>\n",
       "    <tr>\n",
       "      <th>Ahmed</th>\n",
       "      <td>56</td>\n",
       "      <td>70.0</td>\n",
       "    </tr>\n",
       "    <tr>\n",
       "      <th>Ali</th>\n",
       "      <td>77</td>\n",
       "      <td>89.0</td>\n",
       "    </tr>\n",
       "    <tr>\n",
       "      <th>Omar</th>\n",
       "      <td>82</td>\n",
       "      <td>55.0</td>\n",
       "    </tr>\n",
       "    <tr>\n",
       "      <th>Salwa</th>\n",
       "      <td>65</td>\n",
       "      <td>NaN</td>\n",
       "    </tr>\n",
       "  </tbody>\n",
       "</table>\n",
       "</div>"
      ],
      "text/plain": [
       "       Test2  Test1\n",
       "Ahmed     56   70.0\n",
       "Ali       77   89.0\n",
       "Omar      82   55.0\n",
       "Salwa     65    NaN"
      ]
     },
     "execution_count": 13,
     "metadata": {},
     "output_type": "execute_result"
    }
   ],
   "source": [
    "df1.iloc[:, [1,0 ]]"
   ]
  },
  {
   "cell_type": "code",
   "execution_count": 14,
   "id": "21c13f2f",
   "metadata": {},
   "outputs": [
    {
     "data": {
      "text/html": [
       "<div>\n",
       "<style scoped>\n",
       "    .dataframe tbody tr th:only-of-type {\n",
       "        vertical-align: middle;\n",
       "    }\n",
       "\n",
       "    .dataframe tbody tr th {\n",
       "        vertical-align: top;\n",
       "    }\n",
       "\n",
       "    .dataframe thead th {\n",
       "        text-align: right;\n",
       "    }\n",
       "</style>\n",
       "<table border=\"1\" class=\"dataframe\">\n",
       "  <thead>\n",
       "    <tr style=\"text-align: right;\">\n",
       "      <th></th>\n",
       "      <th>Test1</th>\n",
       "      <th>Test2</th>\n",
       "    </tr>\n",
       "  </thead>\n",
       "  <tbody>\n",
       "    <tr>\n",
       "      <th>Ahmed</th>\n",
       "      <td>70.0</td>\n",
       "      <td>56</td>\n",
       "    </tr>\n",
       "    <tr>\n",
       "      <th>Ali</th>\n",
       "      <td>89.0</td>\n",
       "      <td>77</td>\n",
       "    </tr>\n",
       "    <tr>\n",
       "      <th>Omar</th>\n",
       "      <td>55.0</td>\n",
       "      <td>82</td>\n",
       "    </tr>\n",
       "    <tr>\n",
       "      <th>Salwa</th>\n",
       "      <td>NaN</td>\n",
       "      <td>65</td>\n",
       "    </tr>\n",
       "  </tbody>\n",
       "</table>\n",
       "</div>"
      ],
      "text/plain": [
       "       Test1  Test2\n",
       "Ahmed   70.0     56\n",
       "Ali     89.0     77\n",
       "Omar    55.0     82\n",
       "Salwa    NaN     65"
      ]
     },
     "execution_count": 14,
     "metadata": {},
     "output_type": "execute_result"
    }
   ],
   "source": [
    "df1[0:4:1]"
   ]
  },
  {
   "cell_type": "markdown",
   "id": "45fd1f89",
   "metadata": {},
   "source": [
    "## Column Addition"
   ]
  },
  {
   "cell_type": "code",
   "execution_count": 15,
   "id": "99e01531",
   "metadata": {},
   "outputs": [
    {
     "name": "stdout",
     "output_type": "stream",
     "text": [
      "       Test1  Test2\n",
      "Ahmed   70.0     56\n",
      "Ali     89.0     77\n",
      "Omar    55.0     82\n",
      "Salwa    NaN     65\n",
      "\n",
      "\n",
      "       Test1  Test2  Project  Average\n",
      "Ahmed   70.0     56       87    71.00\n",
      "Ali     89.0     77       90    85.33\n",
      "Omar    55.0     82       83    73.33\n",
      "Salwa    NaN     65       67      NaN\n"
     ]
    }
   ],
   "source": [
    "import pandas as pd\n",
    "data = {'Test1' : pd.Series([70, 55, 89],\n",
    "                 index=['Ahmed', 'Omar', 'Ali']),\n",
    "                 'Test2' : pd.Series([56, 82, 77, 65],\n",
    "                 index=['Ahmed', 'Omar', 'Ali', 'Salwa'])}\n",
    "df1 = pd.DataFrame(data)\n",
    "print (df1)\n",
    "df1['Project'] = pd.Series([90,83,67, 87],\n",
    "              index=['Ali','Omar','Salwa', 'Ahmed'])\n",
    "print (\"\\n\")\n",
    "df1['Average'] = round((df1['Test1']+df1['Test2']+df1['Project'])/3, 2)\n",
    "print (df1)"
   ]
  },
  {
   "cell_type": "markdown",
   "id": "517ea697",
   "metadata": {},
   "source": [
    "## Column Deletion"
   ]
  },
  {
   "cell_type": "code",
   "execution_count": 16,
   "id": "a7c80cb9",
   "metadata": {},
   "outputs": [
    {
     "name": "stdout",
     "output_type": "stream",
     "text": [
      "        Project  Test_1  Test2 \n",
      "First       NaN     NaN     NaN\n",
      "Second     20.0     NaN     NaN\n",
      "        Test_1  Test2 \n",
      "First      NaN     NaN\n",
      "Second     NaN     NaN\n"
     ]
    }
   ],
   "source": [
    "print (df2)\n",
    "df2.pop('Project')\n",
    "print (df2)"
   ]
  },
  {
   "cell_type": "code",
   "execution_count": 18,
   "id": "6e1cbff3",
   "metadata": {},
   "outputs": [
    {
     "name": "stdout",
     "output_type": "stream",
     "text": [
      "Deleting the first column using DEL function:\n",
      "       Test1  Project  Average\n",
      "Ahmed   70.0       87    71.00\n",
      "Ali     89.0       90    85.33\n",
      "Omar    55.0       83    73.33\n",
      "Salwa    NaN       67      NaN\n",
      "\n",
      "Deleting another column using POP function:\n",
      "       Test1  Average\n",
      "Ahmed   70.0    71.00\n",
      "Ali     89.0    85.33\n",
      "Omar    55.0    73.33\n",
      "Salwa    NaN      NaN\n"
     ]
    }
   ],
   "source": [
    "# Delete a column in data frame using del function \n",
    "print (\"Deleting the first column using DEL function:\") \n",
    "del df2['Test2']\n",
    "print (df2)\n",
    "# Delete a column in data frame using pop function \n",
    "print (\"\\nDeleting another column using POP function:\") \n",
    "df2.pop('Project')\n",
    "print (df2)\n"
   ]
  },
  {
   "cell_type": "markdown",
   "id": "ba7eeaad",
   "metadata": {},
   "source": [
    "## Creating and Copying a Data Frame"
   ]
  },
  {
   "cell_type": "code",
   "execution_count": 17,
   "id": "8c7a8206",
   "metadata": {},
   "outputs": [
    {
     "name": "stdout",
     "output_type": "stream",
     "text": [
      "       Test1  Test2  Project  Average\n",
      "Ahmed   70.0     56       87    71.00\n",
      "Ali     89.0     77       90    85.33\n",
      "Omar    55.0     82       83    73.33\n",
      "Salwa    NaN     65       67      NaN\n",
      "\n",
      "\n",
      "       Test1  Test2  Project  Average\n",
      "Ahmed   70.0     56       87    71.00\n",
      "Ali     89.0     77       90    85.33\n",
      "Omar    55.0     82       83    73.33\n",
      "Salwa    NaN     65       67      NaN\n"
     ]
    }
   ],
   "source": [
    "import pandas as pd\n",
    "data = {'Test1' : pd.Series([70, 55, 89],index=['Ahmed', 'Omar', 'Ali']),\n",
    "'Test2' : pd.Series([56, 82, 77, 65],\n",
    "index=['Ahmed', 'Omar', 'Ali', 'Salwa'])}\n",
    "    \n",
    "\n",
    "print (df1)\n",
    "df2 = df1\n",
    "print (\"\\n\")\n",
    "print (df2)"
   ]
  },
  {
   "cell_type": "markdown",
   "id": "442b4232",
   "metadata": {},
   "source": [
    "## Row Selection"
   ]
  },
  {
   "cell_type": "code",
   "execution_count": 22,
   "id": "1cb18f8c",
   "metadata": {},
   "outputs": [
    {
     "name": "stdout",
     "output_type": "stream",
     "text": [
      "\n",
      "\n",
      "       Test1  Test2  Project  Average\n",
      "Ahmed   70.0     56       87    71.00\n",
      "Ali     89.0     77       90    85.33\n",
      "Omar    55.0     82       83    73.33\n",
      "Salwa    NaN     65       67      NaN\n",
      "\n",
      "select iloc function to retrieve row number 2\n",
      "Test1      55.00\n",
      "Test2      82.00\n",
      "Project    83.00\n",
      "Average    73.33\n",
      "Name: Omar, dtype: float64\n",
      "\n",
      "slice rows\n",
      "       Test1  Test2  Project  Average\n",
      "Omar    55.0     82       83    73.33\n",
      "Salwa    NaN     65       67      NaN\n"
     ]
    }
   ],
   "source": [
    "# add a new Column\n",
    "import pandas as pd\n",
    "data = {'Test1' : pd.Series([70, 55, 89],index=['Ahmed', 'Omar', 'Ali']),'Test2' : pd.Series([56, 82, 77, 65],index=['Ahmed', 'Omar', 'Ali', 'Salwa'])}\n",
    "df1 = pd.DataFrame(data)\n",
    "df1['Project'] = pd.Series([90,83,67, 87],index=['Ali','Omar','Salwa', 'Ahmed'])\n",
    "print (\"\\n\")\n",
    "df1['Average'] = round((df1['Test1']+df1['Test2']+df1 ['Project'])/3, 2)\n",
    "print (df1)\n",
    "print (\"\\nselect iloc function to retrieve row number 2\") \n",
    "print (df1.iloc[2])\n",
    "print (\"\\nslice rows\")\n",
    "print (df1[2:4] )"
   ]
  },
  {
   "cell_type": "markdown",
   "id": "f14d401f",
   "metadata": {},
   "source": [
    "## Row Addition"
   ]
  },
  {
   "cell_type": "code",
   "execution_count": 28,
   "id": "fcd7980f",
   "metadata": {},
   "outputs": [
    {
     "name": "stdout",
     "output_type": "stream",
     "text": [
      "       Test1  Test2  Project  Average\n",
      "Ahmed   70.0     56       87    71.00\n",
      "Ali     89.0     77       90    85.33\n",
      "Omar    55.0     82       83    73.33\n",
      "Salwa    NaN     65       67    66.00\n",
      "\n",
      "\n",
      "       Test1  Test2  Project  Average\n",
      "Ahmed   70.0     56       87    71.00\n",
      "Ali     89.0     77       90    85.33\n",
      "Omar    55.0     82       83    73.33\n",
      "Salwa    NaN     65       67    66.00\n"
     ]
    }
   ],
   "source": [
    "import pandas as pd\n",
    "data = {\n",
    "    'Test1' : pd.Series([70, 55, 89],index=['Ahmed', 'Omar', 'Ali']),\n",
    "    'Test2' : pd.Series([56, 82, 77, 65],index=['Ahmed', 'Omar', 'Ali', 'Salwa']),\n",
    "    'Project' : pd.Series([87, 83, 90, 67],index=['Ahmed', 'Omar', 'Ali', 'Salwa']),\n",
    "    'Average' : pd.Series([71, 73.33, 85.33, 66],\n",
    "index=['Ahmed', 'Omar', 'Ali', 'Salwa'])}\n",
    "data = pd.DataFrame(data)\n",
    "print (data)\n",
    "print(\"\\n\")\n",
    "df2 = pd.DataFrame([[80, 70, 90, 80]], columns= ['Test1','Test2','Project','Average'],index=['Khalid'])\n",
    "data.append(df2)\n",
    "print (data)"
   ]
  },
  {
   "cell_type": "markdown",
   "id": "bde18049",
   "metadata": {},
   "source": [
    "## Row Deletion"
   ]
  },
  {
   "cell_type": "code",
   "execution_count": 29,
   "id": "8caae9b3",
   "metadata": {},
   "outputs": [
    {
     "name": "stdout",
     "output_type": "stream",
     "text": [
      "       Test1  Test2  Project  Average\n",
      "Ahmed   70.0     56       87    71.00\n",
      "Ali     89.0     77       90    85.33\n",
      "Omar    55.0     82       83    73.33\n",
      "Salwa    NaN     65       67    66.00\n",
      "\n",
      "\n",
      "       Test1  Test2  Project  Average\n",
      "Ahmed   70.0     56       87    71.00\n",
      "Ali     89.0     77       90    85.33\n",
      "Salwa    NaN     65       67    66.00\n"
     ]
    }
   ],
   "source": [
    "print (data)\n",
    "print ('\\n')\n",
    "data = data.drop('Omar')\n",
    "print (data)"
   ]
  },
  {
   "cell_type": "markdown",
   "id": "25210b5d",
   "metadata": {},
   "source": [
    "## Exploring and Analyzing a Data Frame"
   ]
  },
  {
   "cell_type": "code",
   "execution_count": 44,
   "id": "dfd7590e",
   "metadata": {},
   "outputs": [
    {
     "name": "stdout",
     "output_type": "stream",
     "text": [
      "       Test1  Test2  Project  Average\n",
      "Ahmed   70.0     56       87    71.00\n",
      "Ali     89.0     77       90    85.33\n",
      "Omar    55.0     82       83    73.33\n",
      "Salwa    NaN     65       67      NaN\n",
      "        Age  Salary  Height  Weight  Gender\n",
      "Ahmed  30.0   25000     160      85    Male\n",
      "Ali    44.0   30000     175      92    Male\n",
      "Omar   25.0   17000     154      70    Male\n",
      "Salwa   NaN   12000     165      65  Female\n",
      "\n",
      "\n"
     ]
    },
    {
     "ename": "ValueError",
     "evalue": "3 columns passed, passed data had 5 columns",
     "output_type": "error",
     "traceback": [
      "\u001b[0;31m---------------------------------------------------------------------------\u001b[0m",
      "\u001b[0;31mAssertionError\u001b[0m                            Traceback (most recent call last)",
      "\u001b[0;32m~/opt/anaconda3/lib/python3.8/site-packages/pandas/core/internals/construction.py\u001b[0m in \u001b[0;36m_list_to_arrays\u001b[0;34m(data, columns, coerce_float, dtype)\u001b[0m\n\u001b[1;32m    567\u001b[0m     \u001b[0;32mtry\u001b[0m\u001b[0;34m:\u001b[0m\u001b[0;34m\u001b[0m\u001b[0;34m\u001b[0m\u001b[0m\n\u001b[0;32m--> 568\u001b[0;31m         \u001b[0mcolumns\u001b[0m \u001b[0;34m=\u001b[0m \u001b[0m_validate_or_indexify_columns\u001b[0m\u001b[0;34m(\u001b[0m\u001b[0mcontent\u001b[0m\u001b[0;34m,\u001b[0m \u001b[0mcolumns\u001b[0m\u001b[0;34m)\u001b[0m\u001b[0;34m\u001b[0m\u001b[0;34m\u001b[0m\u001b[0m\n\u001b[0m\u001b[1;32m    569\u001b[0m         \u001b[0mresult\u001b[0m \u001b[0;34m=\u001b[0m \u001b[0m_convert_object_array\u001b[0m\u001b[0;34m(\u001b[0m\u001b[0mcontent\u001b[0m\u001b[0;34m,\u001b[0m \u001b[0mdtype\u001b[0m\u001b[0;34m=\u001b[0m\u001b[0mdtype\u001b[0m\u001b[0;34m,\u001b[0m \u001b[0mcoerce_float\u001b[0m\u001b[0;34m=\u001b[0m\u001b[0mcoerce_float\u001b[0m\u001b[0;34m)\u001b[0m\u001b[0;34m\u001b[0m\u001b[0;34m\u001b[0m\u001b[0m\n",
      "\u001b[0;32m~/opt/anaconda3/lib/python3.8/site-packages/pandas/core/internals/construction.py\u001b[0m in \u001b[0;36m_validate_or_indexify_columns\u001b[0;34m(content, columns)\u001b[0m\n\u001b[1;32m    691\u001b[0m             \u001b[0;31m# caller's responsibility to check for this...\u001b[0m\u001b[0;34m\u001b[0m\u001b[0;34m\u001b[0m\u001b[0;34m\u001b[0m\u001b[0m\n\u001b[0;32m--> 692\u001b[0;31m             raise AssertionError(\n\u001b[0m\u001b[1;32m    693\u001b[0m                 \u001b[0;34mf\"{len(columns)} columns passed, passed data had \"\u001b[0m\u001b[0;34m\u001b[0m\u001b[0;34m\u001b[0m\u001b[0m\n",
      "\u001b[0;31mAssertionError\u001b[0m: 3 columns passed, passed data had 5 columns",
      "\nThe above exception was the direct cause of the following exception:\n",
      "\u001b[0;31mValueError\u001b[0m                                Traceback (most recent call last)",
      "\u001b[0;32m<ipython-input-44-0fcb738853b9>\u001b[0m in \u001b[0;36m<module>\u001b[0;34m\u001b[0m\n\u001b[1;32m     10\u001b[0m \u001b[0mprint\u001b[0m \u001b[0;34m(\u001b[0m\u001b[0mdata\u001b[0m\u001b[0;34m)\u001b[0m\u001b[0;34m\u001b[0m\u001b[0;34m\u001b[0m\u001b[0m\n\u001b[1;32m     11\u001b[0m \u001b[0mprint\u001b[0m\u001b[0;34m(\u001b[0m\u001b[0;34m\"\\n\"\u001b[0m\u001b[0;34m)\u001b[0m\u001b[0;34m\u001b[0m\u001b[0;34m\u001b[0m\u001b[0m\n\u001b[0;32m---> 12\u001b[0;31m \u001b[0mdf2\u001b[0m \u001b[0;34m=\u001b[0m \u001b[0mpd\u001b[0m\u001b[0;34m.\u001b[0m\u001b[0mDataFrame\u001b[0m\u001b[0;34m(\u001b[0m\u001b[0;34m[\u001b[0m\u001b[0;34m[\u001b[0m\u001b[0;36m42\u001b[0m\u001b[0;34m,\u001b[0m \u001b[0;36m31000\u001b[0m\u001b[0;34m,\u001b[0m \u001b[0;36m170\u001b[0m\u001b[0;34m,\u001b[0m \u001b[0;36m80\u001b[0m\u001b[0;34m,\u001b[0m \u001b[0;34m'Female'\u001b[0m\u001b[0;34m]\u001b[0m\u001b[0;34m]\u001b[0m\u001b[0;34m,\u001b[0m \u001b[0mcolumns\u001b[0m\u001b[0;34m=\u001b[0m\u001b[0;34m[\u001b[0m\u001b[0;34m'Age'\u001b[0m\u001b[0;34m,\u001b[0m\u001b[0;34m'Salary'\u001b[0m\u001b[0;34m,\u001b[0m\u001b[0;34m'Height'\u001b[0m\u001b[0;34m]\u001b[0m\u001b[0;34m,\u001b[0m \u001b[0mindex\u001b[0m\u001b[0;34m=\u001b[0m\u001b[0;34m[\u001b[0m\u001b[0;34m'Mona'\u001b[0m\u001b[0;34m]\u001b[0m\u001b[0;34m)\u001b[0m\u001b[0;34m\u001b[0m\u001b[0;34m\u001b[0m\u001b[0m\n\u001b[0m\u001b[1;32m     13\u001b[0m \u001b[0mdata\u001b[0m \u001b[0;34m=\u001b[0m \u001b[0mdata\u001b[0m\u001b[0;34m.\u001b[0m\u001b[0mappend\u001b[0m\u001b[0;34m(\u001b[0m\u001b[0mdf2\u001b[0m\u001b[0;34m)\u001b[0m\u001b[0;34m\u001b[0m\u001b[0;34m\u001b[0m\u001b[0m\n\u001b[1;32m     14\u001b[0m \u001b[0mprint\u001b[0m \u001b[0;34m(\u001b[0m\u001b[0mdata\u001b[0m\u001b[0;34m)\u001b[0m\u001b[0;34m\u001b[0m\u001b[0;34m\u001b[0m\u001b[0m\n",
      "\u001b[0;32m~/opt/anaconda3/lib/python3.8/site-packages/pandas/core/frame.py\u001b[0m in \u001b[0;36m__init__\u001b[0;34m(self, data, index, columns, dtype, copy)\u001b[0m\n\u001b[1;32m    568\u001b[0m                     \u001b[0;32mif\u001b[0m \u001b[0mis_named_tuple\u001b[0m\u001b[0;34m(\u001b[0m\u001b[0mdata\u001b[0m\u001b[0;34m[\u001b[0m\u001b[0;36m0\u001b[0m\u001b[0;34m]\u001b[0m\u001b[0;34m)\u001b[0m \u001b[0;32mand\u001b[0m \u001b[0mcolumns\u001b[0m \u001b[0;32mis\u001b[0m \u001b[0;32mNone\u001b[0m\u001b[0;34m:\u001b[0m\u001b[0;34m\u001b[0m\u001b[0;34m\u001b[0m\u001b[0m\n\u001b[1;32m    569\u001b[0m                         \u001b[0mcolumns\u001b[0m \u001b[0;34m=\u001b[0m \u001b[0mdata\u001b[0m\u001b[0;34m[\u001b[0m\u001b[0;36m0\u001b[0m\u001b[0;34m]\u001b[0m\u001b[0;34m.\u001b[0m\u001b[0m_fields\u001b[0m\u001b[0;34m\u001b[0m\u001b[0;34m\u001b[0m\u001b[0m\n\u001b[0;32m--> 570\u001b[0;31m                     \u001b[0marrays\u001b[0m\u001b[0;34m,\u001b[0m \u001b[0mcolumns\u001b[0m \u001b[0;34m=\u001b[0m \u001b[0mto_arrays\u001b[0m\u001b[0;34m(\u001b[0m\u001b[0mdata\u001b[0m\u001b[0;34m,\u001b[0m \u001b[0mcolumns\u001b[0m\u001b[0;34m,\u001b[0m \u001b[0mdtype\u001b[0m\u001b[0;34m=\u001b[0m\u001b[0mdtype\u001b[0m\u001b[0;34m)\u001b[0m\u001b[0;34m\u001b[0m\u001b[0;34m\u001b[0m\u001b[0m\n\u001b[0m\u001b[1;32m    571\u001b[0m                     \u001b[0mcolumns\u001b[0m \u001b[0;34m=\u001b[0m \u001b[0mensure_index\u001b[0m\u001b[0;34m(\u001b[0m\u001b[0mcolumns\u001b[0m\u001b[0;34m)\u001b[0m\u001b[0;34m\u001b[0m\u001b[0;34m\u001b[0m\u001b[0m\n\u001b[1;32m    572\u001b[0m \u001b[0;34m\u001b[0m\u001b[0m\n",
      "\u001b[0;32m~/opt/anaconda3/lib/python3.8/site-packages/pandas/core/internals/construction.py\u001b[0m in \u001b[0;36mto_arrays\u001b[0;34m(data, columns, coerce_float, dtype)\u001b[0m\n\u001b[1;32m    526\u001b[0m         \u001b[0;32mreturn\u001b[0m \u001b[0;34m[\u001b[0m\u001b[0;34m]\u001b[0m\u001b[0;34m,\u001b[0m \u001b[0;34m[\u001b[0m\u001b[0;34m]\u001b[0m  \u001b[0;31m# columns if columns is not None else []\u001b[0m\u001b[0;34m\u001b[0m\u001b[0;34m\u001b[0m\u001b[0m\n\u001b[1;32m    527\u001b[0m     \u001b[0;32mif\u001b[0m \u001b[0misinstance\u001b[0m\u001b[0;34m(\u001b[0m\u001b[0mdata\u001b[0m\u001b[0;34m[\u001b[0m\u001b[0;36m0\u001b[0m\u001b[0;34m]\u001b[0m\u001b[0;34m,\u001b[0m \u001b[0;34m(\u001b[0m\u001b[0mlist\u001b[0m\u001b[0;34m,\u001b[0m \u001b[0mtuple\u001b[0m\u001b[0;34m)\u001b[0m\u001b[0;34m)\u001b[0m\u001b[0;34m:\u001b[0m\u001b[0;34m\u001b[0m\u001b[0;34m\u001b[0m\u001b[0m\n\u001b[0;32m--> 528\u001b[0;31m         \u001b[0;32mreturn\u001b[0m \u001b[0m_list_to_arrays\u001b[0m\u001b[0;34m(\u001b[0m\u001b[0mdata\u001b[0m\u001b[0;34m,\u001b[0m \u001b[0mcolumns\u001b[0m\u001b[0;34m,\u001b[0m \u001b[0mcoerce_float\u001b[0m\u001b[0;34m=\u001b[0m\u001b[0mcoerce_float\u001b[0m\u001b[0;34m,\u001b[0m \u001b[0mdtype\u001b[0m\u001b[0;34m=\u001b[0m\u001b[0mdtype\u001b[0m\u001b[0;34m)\u001b[0m\u001b[0;34m\u001b[0m\u001b[0;34m\u001b[0m\u001b[0m\n\u001b[0m\u001b[1;32m    529\u001b[0m     \u001b[0;32melif\u001b[0m \u001b[0misinstance\u001b[0m\u001b[0;34m(\u001b[0m\u001b[0mdata\u001b[0m\u001b[0;34m[\u001b[0m\u001b[0;36m0\u001b[0m\u001b[0;34m]\u001b[0m\u001b[0;34m,\u001b[0m \u001b[0mabc\u001b[0m\u001b[0;34m.\u001b[0m\u001b[0mMapping\u001b[0m\u001b[0;34m)\u001b[0m\u001b[0;34m:\u001b[0m\u001b[0;34m\u001b[0m\u001b[0;34m\u001b[0m\u001b[0m\n\u001b[1;32m    530\u001b[0m         return _list_of_dict_to_arrays(\n",
      "\u001b[0;32m~/opt/anaconda3/lib/python3.8/site-packages/pandas/core/internals/construction.py\u001b[0m in \u001b[0;36m_list_to_arrays\u001b[0;34m(data, columns, coerce_float, dtype)\u001b[0m\n\u001b[1;32m    569\u001b[0m         \u001b[0mresult\u001b[0m \u001b[0;34m=\u001b[0m \u001b[0m_convert_object_array\u001b[0m\u001b[0;34m(\u001b[0m\u001b[0mcontent\u001b[0m\u001b[0;34m,\u001b[0m \u001b[0mdtype\u001b[0m\u001b[0;34m=\u001b[0m\u001b[0mdtype\u001b[0m\u001b[0;34m,\u001b[0m \u001b[0mcoerce_float\u001b[0m\u001b[0;34m=\u001b[0m\u001b[0mcoerce_float\u001b[0m\u001b[0;34m)\u001b[0m\u001b[0;34m\u001b[0m\u001b[0;34m\u001b[0m\u001b[0m\n\u001b[1;32m    570\u001b[0m     \u001b[0;32mexcept\u001b[0m \u001b[0mAssertionError\u001b[0m \u001b[0;32mas\u001b[0m \u001b[0me\u001b[0m\u001b[0;34m:\u001b[0m\u001b[0;34m\u001b[0m\u001b[0;34m\u001b[0m\u001b[0m\n\u001b[0;32m--> 571\u001b[0;31m         \u001b[0;32mraise\u001b[0m \u001b[0mValueError\u001b[0m\u001b[0;34m(\u001b[0m\u001b[0me\u001b[0m\u001b[0;34m)\u001b[0m \u001b[0;32mfrom\u001b[0m \u001b[0me\u001b[0m\u001b[0;34m\u001b[0m\u001b[0;34m\u001b[0m\u001b[0m\n\u001b[0m\u001b[1;32m    572\u001b[0m     \u001b[0;32mreturn\u001b[0m \u001b[0mresult\u001b[0m\u001b[0;34m,\u001b[0m \u001b[0mcolumns\u001b[0m\u001b[0;34m\u001b[0m\u001b[0;34m\u001b[0m\u001b[0m\n\u001b[1;32m    573\u001b[0m \u001b[0;34m\u001b[0m\u001b[0m\n",
      "\u001b[0;31mValueError\u001b[0m: 3 columns passed, passed data had 5 columns"
     ]
    }
   ],
   "source": [
    "print (df1)\n",
    "data = {\n",
    "    'Age' : pd.Series([30, 25, 44, ],index=['Ahmed', 'Omar', 'Ali']),\n",
    "    'Salary' : pd.Series([25000, 17000, 30000, 12000],index=['Ahmed', 'Omar', 'Ali','Salwa']),\n",
    "    'Height' : pd.Series([160, 154, 175, 165],index=['Ahmed', 'Omar', 'Ali', 'Salwa']),\n",
    "    'Weight' : pd.Series([85, 70, 92, 65], index=['Ahmed', 'Omar','Ali', 'Salwa']),\n",
    "    'Gender' : pd.Series(['Male', 'Male', 'Male', 'Female'],index=['Ahmed', 'Omar','Ali','Salwa'])\n",
    "        }\n",
    "data = pd.DataFrame(data)\n",
    "print (data)\n",
    "print(\"\\n\")\n",
    "df2 = pd.DataFrame([[42, 31000, 170, 80, 'Female']], columns=['Age','Salary','Height'], index=['Mona'])\n",
    "data = data.append(df2)\n",
    "print (data)"
   ]
  },
  {
   "cell_type": "code",
   "execution_count": 45,
   "id": "0ad80a6c",
   "metadata": {},
   "outputs": [
    {
     "data": {
      "text/html": [
       "<div>\n",
       "<style scoped>\n",
       "    .dataframe tbody tr th:only-of-type {\n",
       "        vertical-align: middle;\n",
       "    }\n",
       "\n",
       "    .dataframe tbody tr th {\n",
       "        vertical-align: top;\n",
       "    }\n",
       "\n",
       "    .dataframe thead th {\n",
       "        text-align: right;\n",
       "    }\n",
       "</style>\n",
       "<table border=\"1\" class=\"dataframe\">\n",
       "  <thead>\n",
       "    <tr style=\"text-align: right;\">\n",
       "      <th></th>\n",
       "      <th>Age</th>\n",
       "      <th>Salary</th>\n",
       "      <th>Height</th>\n",
       "      <th>Weight</th>\n",
       "    </tr>\n",
       "  </thead>\n",
       "  <tbody>\n",
       "    <tr>\n",
       "      <th>count</th>\n",
       "      <td>3.000000</td>\n",
       "      <td>4.000000</td>\n",
       "      <td>4.000000</td>\n",
       "      <td>4.000000</td>\n",
       "    </tr>\n",
       "    <tr>\n",
       "      <th>mean</th>\n",
       "      <td>33.000000</td>\n",
       "      <td>21000.000000</td>\n",
       "      <td>163.500000</td>\n",
       "      <td>78.000000</td>\n",
       "    </tr>\n",
       "    <tr>\n",
       "      <th>std</th>\n",
       "      <td>9.848858</td>\n",
       "      <td>8041.558721</td>\n",
       "      <td>8.888194</td>\n",
       "      <td>12.622731</td>\n",
       "    </tr>\n",
       "    <tr>\n",
       "      <th>min</th>\n",
       "      <td>25.000000</td>\n",
       "      <td>12000.000000</td>\n",
       "      <td>154.000000</td>\n",
       "      <td>65.000000</td>\n",
       "    </tr>\n",
       "    <tr>\n",
       "      <th>25%</th>\n",
       "      <td>27.500000</td>\n",
       "      <td>15750.000000</td>\n",
       "      <td>158.500000</td>\n",
       "      <td>68.750000</td>\n",
       "    </tr>\n",
       "    <tr>\n",
       "      <th>50%</th>\n",
       "      <td>30.000000</td>\n",
       "      <td>21000.000000</td>\n",
       "      <td>162.500000</td>\n",
       "      <td>77.500000</td>\n",
       "    </tr>\n",
       "    <tr>\n",
       "      <th>75%</th>\n",
       "      <td>37.000000</td>\n",
       "      <td>26250.000000</td>\n",
       "      <td>167.500000</td>\n",
       "      <td>86.750000</td>\n",
       "    </tr>\n",
       "    <tr>\n",
       "      <th>max</th>\n",
       "      <td>44.000000</td>\n",
       "      <td>30000.000000</td>\n",
       "      <td>175.000000</td>\n",
       "      <td>92.000000</td>\n",
       "    </tr>\n",
       "  </tbody>\n",
       "</table>\n",
       "</div>"
      ],
      "text/plain": [
       "             Age        Salary      Height     Weight\n",
       "count   3.000000      4.000000    4.000000   4.000000\n",
       "mean   33.000000  21000.000000  163.500000  78.000000\n",
       "std     9.848858   8041.558721    8.888194  12.622731\n",
       "min    25.000000  12000.000000  154.000000  65.000000\n",
       "25%    27.500000  15750.000000  158.500000  68.750000\n",
       "50%    30.000000  21000.000000  162.500000  77.500000\n",
       "75%    37.000000  26250.000000  167.500000  86.750000\n",
       "max    44.000000  30000.000000  175.000000  92.000000"
      ]
     },
     "execution_count": 45,
     "metadata": {},
     "output_type": "execute_result"
    }
   ],
   "source": [
    "data.describe()"
   ]
  },
  {
   "cell_type": "code",
   "execution_count": 46,
   "id": "3339fdb3",
   "metadata": {},
   "outputs": [
    {
     "data": {
      "text/html": [
       "<div>\n",
       "<style scoped>\n",
       "    .dataframe tbody tr th:only-of-type {\n",
       "        vertical-align: middle;\n",
       "    }\n",
       "\n",
       "    .dataframe tbody tr th {\n",
       "        vertical-align: top;\n",
       "    }\n",
       "\n",
       "    .dataframe thead th {\n",
       "        text-align: right;\n",
       "    }\n",
       "</style>\n",
       "<table border=\"1\" class=\"dataframe\">\n",
       "  <thead>\n",
       "    <tr style=\"text-align: right;\">\n",
       "      <th></th>\n",
       "      <th>Age</th>\n",
       "      <th>Salary</th>\n",
       "      <th>Height</th>\n",
       "      <th>Weight</th>\n",
       "      <th>Gender</th>\n",
       "    </tr>\n",
       "  </thead>\n",
       "  <tbody>\n",
       "    <tr>\n",
       "      <th>count</th>\n",
       "      <td>3.000000</td>\n",
       "      <td>4.000000</td>\n",
       "      <td>4.000000</td>\n",
       "      <td>4.000000</td>\n",
       "      <td>4</td>\n",
       "    </tr>\n",
       "    <tr>\n",
       "      <th>unique</th>\n",
       "      <td>NaN</td>\n",
       "      <td>NaN</td>\n",
       "      <td>NaN</td>\n",
       "      <td>NaN</td>\n",
       "      <td>2</td>\n",
       "    </tr>\n",
       "    <tr>\n",
       "      <th>top</th>\n",
       "      <td>NaN</td>\n",
       "      <td>NaN</td>\n",
       "      <td>NaN</td>\n",
       "      <td>NaN</td>\n",
       "      <td>Male</td>\n",
       "    </tr>\n",
       "    <tr>\n",
       "      <th>freq</th>\n",
       "      <td>NaN</td>\n",
       "      <td>NaN</td>\n",
       "      <td>NaN</td>\n",
       "      <td>NaN</td>\n",
       "      <td>3</td>\n",
       "    </tr>\n",
       "    <tr>\n",
       "      <th>mean</th>\n",
       "      <td>33.000000</td>\n",
       "      <td>21000.000000</td>\n",
       "      <td>163.500000</td>\n",
       "      <td>78.000000</td>\n",
       "      <td>NaN</td>\n",
       "    </tr>\n",
       "    <tr>\n",
       "      <th>std</th>\n",
       "      <td>9.848858</td>\n",
       "      <td>8041.558721</td>\n",
       "      <td>8.888194</td>\n",
       "      <td>12.622731</td>\n",
       "      <td>NaN</td>\n",
       "    </tr>\n",
       "    <tr>\n",
       "      <th>min</th>\n",
       "      <td>25.000000</td>\n",
       "      <td>12000.000000</td>\n",
       "      <td>154.000000</td>\n",
       "      <td>65.000000</td>\n",
       "      <td>NaN</td>\n",
       "    </tr>\n",
       "    <tr>\n",
       "      <th>25%</th>\n",
       "      <td>27.500000</td>\n",
       "      <td>15750.000000</td>\n",
       "      <td>158.500000</td>\n",
       "      <td>68.750000</td>\n",
       "      <td>NaN</td>\n",
       "    </tr>\n",
       "    <tr>\n",
       "      <th>50%</th>\n",
       "      <td>30.000000</td>\n",
       "      <td>21000.000000</td>\n",
       "      <td>162.500000</td>\n",
       "      <td>77.500000</td>\n",
       "      <td>NaN</td>\n",
       "    </tr>\n",
       "    <tr>\n",
       "      <th>75%</th>\n",
       "      <td>37.000000</td>\n",
       "      <td>26250.000000</td>\n",
       "      <td>167.500000</td>\n",
       "      <td>86.750000</td>\n",
       "      <td>NaN</td>\n",
       "    </tr>\n",
       "    <tr>\n",
       "      <th>max</th>\n",
       "      <td>44.000000</td>\n",
       "      <td>30000.000000</td>\n",
       "      <td>175.000000</td>\n",
       "      <td>92.000000</td>\n",
       "      <td>NaN</td>\n",
       "    </tr>\n",
       "  </tbody>\n",
       "</table>\n",
       "</div>"
      ],
      "text/plain": [
       "              Age        Salary      Height     Weight Gender\n",
       "count    3.000000      4.000000    4.000000   4.000000      4\n",
       "unique        NaN           NaN         NaN        NaN      2\n",
       "top           NaN           NaN         NaN        NaN   Male\n",
       "freq          NaN           NaN         NaN        NaN      3\n",
       "mean    33.000000  21000.000000  163.500000  78.000000    NaN\n",
       "std      9.848858   8041.558721    8.888194  12.622731    NaN\n",
       "min     25.000000  12000.000000  154.000000  65.000000    NaN\n",
       "25%     27.500000  15750.000000  158.500000  68.750000    NaN\n",
       "50%     30.000000  21000.000000  162.500000  77.500000    NaN\n",
       "75%     37.000000  26250.000000  167.500000  86.750000    NaN\n",
       "max     44.000000  30000.000000  175.000000  92.000000    NaN"
      ]
     },
     "execution_count": 46,
     "metadata": {},
     "output_type": "execute_result"
    }
   ],
   "source": [
    "data.describe(include='all')"
   ]
  },
  {
   "cell_type": "code",
   "execution_count": 47,
   "id": "804661ea",
   "metadata": {},
   "outputs": [
    {
     "data": {
      "text/plain": [
       "count        4.000000\n",
       "mean     21000.000000\n",
       "std       8041.558721\n",
       "min      12000.000000\n",
       "25%      15750.000000\n",
       "50%      21000.000000\n",
       "75%      26250.000000\n",
       "max      30000.000000\n",
       "Name: Salary, dtype: float64"
      ]
     },
     "execution_count": 47,
     "metadata": {},
     "output_type": "execute_result"
    }
   ],
   "source": [
    "data.Salary.describe()"
   ]
  },
  {
   "cell_type": "code",
   "execution_count": 49,
   "id": "eeba8bb7",
   "metadata": {},
   "outputs": [
    {
     "data": {
      "text/html": [
       "<div>\n",
       "<style scoped>\n",
       "    .dataframe tbody tr th:only-of-type {\n",
       "        vertical-align: middle;\n",
       "    }\n",
       "\n",
       "    .dataframe tbody tr th {\n",
       "        vertical-align: top;\n",
       "    }\n",
       "\n",
       "    .dataframe thead th {\n",
       "        text-align: right;\n",
       "    }\n",
       "</style>\n",
       "<table border=\"1\" class=\"dataframe\">\n",
       "  <thead>\n",
       "    <tr style=\"text-align: right;\">\n",
       "      <th></th>\n",
       "      <th>Age</th>\n",
       "      <th>Salary</th>\n",
       "      <th>Height</th>\n",
       "      <th>Weight</th>\n",
       "    </tr>\n",
       "  </thead>\n",
       "  <tbody>\n",
       "    <tr>\n",
       "      <th>count</th>\n",
       "      <td>3.000000</td>\n",
       "      <td>4.000000</td>\n",
       "      <td>4.000000</td>\n",
       "      <td>4.000000</td>\n",
       "    </tr>\n",
       "    <tr>\n",
       "      <th>mean</th>\n",
       "      <td>33.000000</td>\n",
       "      <td>21000.000000</td>\n",
       "      <td>163.500000</td>\n",
       "      <td>78.000000</td>\n",
       "    </tr>\n",
       "    <tr>\n",
       "      <th>std</th>\n",
       "      <td>9.848858</td>\n",
       "      <td>8041.558721</td>\n",
       "      <td>8.888194</td>\n",
       "      <td>12.622731</td>\n",
       "    </tr>\n",
       "    <tr>\n",
       "      <th>min</th>\n",
       "      <td>25.000000</td>\n",
       "      <td>12000.000000</td>\n",
       "      <td>154.000000</td>\n",
       "      <td>65.000000</td>\n",
       "    </tr>\n",
       "    <tr>\n",
       "      <th>25%</th>\n",
       "      <td>27.500000</td>\n",
       "      <td>15750.000000</td>\n",
       "      <td>158.500000</td>\n",
       "      <td>68.750000</td>\n",
       "    </tr>\n",
       "    <tr>\n",
       "      <th>50%</th>\n",
       "      <td>30.000000</td>\n",
       "      <td>21000.000000</td>\n",
       "      <td>162.500000</td>\n",
       "      <td>77.500000</td>\n",
       "    </tr>\n",
       "    <tr>\n",
       "      <th>75%</th>\n",
       "      <td>37.000000</td>\n",
       "      <td>26250.000000</td>\n",
       "      <td>167.500000</td>\n",
       "      <td>86.750000</td>\n",
       "    </tr>\n",
       "    <tr>\n",
       "      <th>max</th>\n",
       "      <td>44.000000</td>\n",
       "      <td>30000.000000</td>\n",
       "      <td>175.000000</td>\n",
       "      <td>92.000000</td>\n",
       "    </tr>\n",
       "  </tbody>\n",
       "</table>\n",
       "</div>"
      ],
      "text/plain": [
       "             Age        Salary      Height     Weight\n",
       "count   3.000000      4.000000    4.000000   4.000000\n",
       "mean   33.000000  21000.000000  163.500000  78.000000\n",
       "std     9.848858   8041.558721    8.888194  12.622731\n",
       "min    25.000000  12000.000000  154.000000  65.000000\n",
       "25%    27.500000  15750.000000  158.500000  68.750000\n",
       "50%    30.000000  21000.000000  162.500000  77.500000\n",
       "75%    37.000000  26250.000000  167.500000  86.750000\n",
       "max    44.000000  30000.000000  175.000000  92.000000"
      ]
     },
     "execution_count": 49,
     "metadata": {},
     "output_type": "execute_result"
    }
   ],
   "source": [
    "import numpy as np\n",
    "data.describe(include=[np.number])"
   ]
  },
  {
   "cell_type": "code",
   "execution_count": 50,
   "id": "8ebe6cea",
   "metadata": {},
   "outputs": [
    {
     "name": "stderr",
     "output_type": "stream",
     "text": [
      "<ipython-input-50-c07674af406a>:1: DeprecationWarning: `np.object` is a deprecated alias for the builtin `object`. To silence this warning, use `object` by itself. Doing this will not modify any behavior and is safe. \n",
      "Deprecated in NumPy 1.20; for more details and guidance: https://numpy.org/devdocs/release/1.20.0-notes.html#deprecations\n",
      "  data.describe(include=[np.object])\n"
     ]
    },
    {
     "data": {
      "text/html": [
       "<div>\n",
       "<style scoped>\n",
       "    .dataframe tbody tr th:only-of-type {\n",
       "        vertical-align: middle;\n",
       "    }\n",
       "\n",
       "    .dataframe tbody tr th {\n",
       "        vertical-align: top;\n",
       "    }\n",
       "\n",
       "    .dataframe thead th {\n",
       "        text-align: right;\n",
       "    }\n",
       "</style>\n",
       "<table border=\"1\" class=\"dataframe\">\n",
       "  <thead>\n",
       "    <tr style=\"text-align: right;\">\n",
       "      <th></th>\n",
       "      <th>Gender</th>\n",
       "    </tr>\n",
       "  </thead>\n",
       "  <tbody>\n",
       "    <tr>\n",
       "      <th>count</th>\n",
       "      <td>4</td>\n",
       "    </tr>\n",
       "    <tr>\n",
       "      <th>unique</th>\n",
       "      <td>2</td>\n",
       "    </tr>\n",
       "    <tr>\n",
       "      <th>top</th>\n",
       "      <td>Male</td>\n",
       "    </tr>\n",
       "    <tr>\n",
       "      <th>freq</th>\n",
       "      <td>3</td>\n",
       "    </tr>\n",
       "  </tbody>\n",
       "</table>\n",
       "</div>"
      ],
      "text/plain": [
       "       Gender\n",
       "count       4\n",
       "unique      2\n",
       "top      Male\n",
       "freq        3"
      ]
     },
     "execution_count": 50,
     "metadata": {},
     "output_type": "execute_result"
    }
   ],
   "source": [
    "data.describe(include=[np.object])"
   ]
  },
  {
   "cell_type": "code",
   "execution_count": 51,
   "id": "c11aeb96",
   "metadata": {},
   "outputs": [
    {
     "data": {
      "text/html": [
       "<div>\n",
       "<style scoped>\n",
       "    .dataframe tbody tr th:only-of-type {\n",
       "        vertical-align: middle;\n",
       "    }\n",
       "\n",
       "    .dataframe tbody tr th {\n",
       "        vertical-align: top;\n",
       "    }\n",
       "\n",
       "    .dataframe thead th {\n",
       "        text-align: right;\n",
       "    }\n",
       "</style>\n",
       "<table border=\"1\" class=\"dataframe\">\n",
       "  <thead>\n",
       "    <tr style=\"text-align: right;\">\n",
       "      <th></th>\n",
       "      <th>Gender</th>\n",
       "    </tr>\n",
       "  </thead>\n",
       "  <tbody>\n",
       "    <tr>\n",
       "      <th>count</th>\n",
       "      <td>4</td>\n",
       "    </tr>\n",
       "    <tr>\n",
       "      <th>unique</th>\n",
       "      <td>2</td>\n",
       "    </tr>\n",
       "    <tr>\n",
       "      <th>top</th>\n",
       "      <td>Male</td>\n",
       "    </tr>\n",
       "    <tr>\n",
       "      <th>freq</th>\n",
       "      <td>3</td>\n",
       "    </tr>\n",
       "  </tbody>\n",
       "</table>\n",
       "</div>"
      ],
      "text/plain": [
       "       Gender\n",
       "count       4\n",
       "unique      2\n",
       "top      Male\n",
       "freq        3"
      ]
     },
     "execution_count": 51,
     "metadata": {},
     "output_type": "execute_result"
    }
   ],
   "source": [
    "data.describe(exclude=[np.number])"
   ]
  },
  {
   "cell_type": "code",
   "execution_count": 52,
   "id": "8e5ff2f7",
   "metadata": {},
   "outputs": [
    {
     "data": {
      "text/html": [
       "<div>\n",
       "<style scoped>\n",
       "    .dataframe tbody tr th:only-of-type {\n",
       "        vertical-align: middle;\n",
       "    }\n",
       "\n",
       "    .dataframe tbody tr th {\n",
       "        vertical-align: top;\n",
       "    }\n",
       "\n",
       "    .dataframe thead th {\n",
       "        text-align: right;\n",
       "    }\n",
       "</style>\n",
       "<table border=\"1\" class=\"dataframe\">\n",
       "  <thead>\n",
       "    <tr style=\"text-align: right;\">\n",
       "      <th></th>\n",
       "      <th>Age</th>\n",
       "      <th>Salary</th>\n",
       "      <th>Height</th>\n",
       "      <th>Weight</th>\n",
       "      <th>Gender</th>\n",
       "    </tr>\n",
       "  </thead>\n",
       "  <tbody>\n",
       "    <tr>\n",
       "      <th>Ahmed</th>\n",
       "      <td>30.0</td>\n",
       "      <td>25000</td>\n",
       "      <td>160</td>\n",
       "      <td>85</td>\n",
       "      <td>Male</td>\n",
       "    </tr>\n",
       "    <tr>\n",
       "      <th>Ali</th>\n",
       "      <td>44.0</td>\n",
       "      <td>30000</td>\n",
       "      <td>175</td>\n",
       "      <td>92</td>\n",
       "      <td>Male</td>\n",
       "    </tr>\n",
       "    <tr>\n",
       "      <th>Omar</th>\n",
       "      <td>25.0</td>\n",
       "      <td>17000</td>\n",
       "      <td>154</td>\n",
       "      <td>70</td>\n",
       "      <td>Male</td>\n",
       "    </tr>\n",
       "    <tr>\n",
       "      <th>Salwa</th>\n",
       "      <td>NaN</td>\n",
       "      <td>12000</td>\n",
       "      <td>165</td>\n",
       "      <td>65</td>\n",
       "      <td>Female</td>\n",
       "    </tr>\n",
       "  </tbody>\n",
       "</table>\n",
       "</div>"
      ],
      "text/plain": [
       "        Age  Salary  Height  Weight  Gender\n",
       "Ahmed  30.0   25000     160      85    Male\n",
       "Ali    44.0   30000     175      92    Male\n",
       "Omar   25.0   17000     154      70    Male\n",
       "Salwa   NaN   12000     165      65  Female"
      ]
     },
     "execution_count": 52,
     "metadata": {},
     "output_type": "execute_result"
    }
   ],
   "source": [
    "data"
   ]
  },
  {
   "cell_type": "code",
   "execution_count": 53,
   "id": "dc613dcf",
   "metadata": {},
   "outputs": [
    {
     "data": {
      "text/plain": [
       "Ahmed    60\n",
       "Ali      75\n",
       "Omar     54\n",
       "Salwa    65\n",
       "Name: Height, dtype: int64"
      ]
     },
     "execution_count": 53,
     "metadata": {},
     "output_type": "execute_result"
    }
   ],
   "source": [
    "OptimalWeight = data['Height']- 100\n",
    "OptimalWeight\n"
   ]
  },
  {
   "cell_type": "code",
   "execution_count": 54,
   "id": "134338be",
   "metadata": {},
   "outputs": [
    {
     "data": {
      "text/plain": [
       "Ahmed    False\n",
       "Ali      False\n",
       "Omar     False\n",
       "Salwa     True\n",
       "dtype: bool"
      ]
     },
     "execution_count": 54,
     "metadata": {},
     "output_type": "execute_result"
    }
   ],
   "source": [
    "unOptimalCases = data['Weight'] <= OptimalWeight\n",
    "unOptimalCases"
   ]
  },
  {
   "cell_type": "code",
   "execution_count": 58,
   "id": "9918149e",
   "metadata": {},
   "outputs": [
    {
     "name": "stdout",
     "output_type": "stream",
     "text": [
      "        Age  Salary  Height  Weight Gender\n",
      "Ahmed  30.0   25000     160      85   Male\n",
      "Ali    44.0   30000     175      92   Male\n",
      "Omar   25.0   17000     154      70   Male\n"
     ]
    }
   ],
   "source": [
    "grouped = data.groupby('Gender')\n",
    "print (grouped.get_group('Male'))"
   ]
  },
  {
   "cell_type": "code",
   "execution_count": 60,
   "id": "d71255a2",
   "metadata": {},
   "outputs": [
    {
     "name": "stdout",
     "output_type": "stream",
     "text": [
      "Gender\n",
      "Female    165\n",
      "Male      163\n",
      "Name: Height, dtype: int64\n",
      "\n",
      "\n",
      "Gender\n",
      "Female    65.000000\n",
      "Male      82.333333\n",
      "Name: Weight, dtype: float64\n",
      "\n",
      "\n",
      "        Age  Salary  Height  Weight\n",
      "Gender                             \n",
      "Female  1.0       1       1       1\n",
      "Male    3.0       3       3       3\n",
      "\n",
      "\n",
      "        sum  mean        std\n",
      "Gender                      \n",
      "Female  165   165        NaN\n",
      "Male    489   163  10.816654\n"
     ]
    }
   ],
   "source": [
    "import numpy as np\n",
    "grouped = data.groupby('Gender')\n",
    "print (grouped['Height'].agg(np.mean))\n",
    "print (\"\\n\")\n",
    "print (grouped['Weight'].agg(np.mean))\n",
    "print (\"\\n\")\n",
    "print (grouped.agg(np.size))\n",
    "print (\"\\n\")\n",
    "print (grouped['Height'].agg([np.sum, np.mean,np.std]))"
   ]
  },
  {
   "cell_type": "code",
   "execution_count": 64,
   "id": "2eb3ca25",
   "metadata": {},
   "outputs": [
    {
     "ename": "SyntaxError",
     "evalue": "invalid syntax (<ipython-input-64-578deebebe65>, line 7)",
     "output_type": "error",
     "traceback": [
      "\u001b[0;36m  File \u001b[0;32m\"<ipython-input-64-578deebebe65>\"\u001b[0;36m, line \u001b[0;32m7\u001b[0m\n\u001b[0;31m    City = ['Fujairah','Dubai','Sharjah','AbuDhabi','Fujairah','Dubai', 'Sharja ', 'AbuDhabi','Sharjah','Fujairah']columns = ['Number', 'Name', 'City' ]\u001b[0m\n\u001b[0m                                                                                                                   ^\u001b[0m\n\u001b[0;31mSyntaxError\u001b[0m\u001b[0;31m:\u001b[0m invalid syntax\n"
     ]
    }
   ],
   "source": [
    "import pandas as pd\n",
    "import numpy as np\n",
    "Number = [1,2,3,4,5,6,7,8,9,10]\n",
    "Names = ['Ali Ahmed','Mohamed Ziad','Majid Salim','Salwa',\n",
    "'Ahmed', 'Ahlam Mohamed', 'Omar Ali', 'Amna Mohammed','Khalid',\n",
    "'Yousif', 'Safa Humaid', 'Amjad Tayel']\n",
    "City = ['Fujairah','Dubai','Sharjah','AbuDhabi','Fujairah','Dubai', 'Sharja ', 'AbuDhabi','Sharjah','Fujairah']columns = ['Number', 'Name', 'City' ]\n",
    "dataset= pd.DataFrame({'Number': Number , 'Name': Names,'City': City}, columns = columns )\n",
    "Gender= pd.DataFrame({'Gender':['Male','Male','Male','Female',\n",
    "'Female', 'Male', 'Female', 'Male','Female', 'Male']})\n",
    "Height = pd.DataFrame(np.random.randint(120,175, size=(12, 1)))\n",
    "Weight = pd.DataFrame(np.random.randint(50,110, size=(12, 1)))\n",
    "dataset['Gender']= Gender\n",
    "dataset['Height']= Height\n",
    "dataset['Weight']= Weight\n",
    "dataset.set_index('Number')"
   ]
  },
  {
   "cell_type": "code",
   "execution_count": null,
   "id": "3b90d2b5",
   "metadata": {},
   "outputs": [],
   "source": []
  }
 ],
 "metadata": {
  "kernelspec": {
   "display_name": "Python 3",
   "language": "python",
   "name": "python3"
  },
  "language_info": {
   "codemirror_mode": {
    "name": "ipython",
    "version": 3
   },
   "file_extension": ".py",
   "mimetype": "text/x-python",
   "name": "python",
   "nbconvert_exporter": "python",
   "pygments_lexer": "ipython3",
   "version": "3.8.10"
  }
 },
 "nbformat": 4,
 "nbformat_minor": 5
}
